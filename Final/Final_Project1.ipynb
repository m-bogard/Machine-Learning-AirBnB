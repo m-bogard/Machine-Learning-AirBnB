{
 "cells": [
  {
   "cell_type": "code",
   "execution_count": 1,
   "id": "c46d0d1d",
   "metadata": {},
   "outputs": [],
   "source": [
    "# Import libraries\n",
    "import pandas as pd\n",
    "import numpy as np\n",
    "import geopandas as gpd\n",
    "import matplotlib.pyplot as plt\n",
    "from shapely.geometry import Point\n",
    "from sklearn.preprocessing import StandardScaler\n",
    "from sklearn.model_selection import train_test_split\n",
    "from sklearn.ensemble import RandomForestRegressor\n",
    "from sklearn.metrics import mean_squared_error"
   ]
  },
  {
   "cell_type": "code",
   "execution_count": 3,
   "id": "9e1ff03c",
   "metadata": {},
   "outputs": [],
   "source": [
    "# Import data\n",
    "df = pd.read_csv('C:/Users/clynn/Documents/Geog490-Top/listings.csv')"
   ]
  },
  {
   "cell_type": "markdown",
   "id": "db3b021e",
   "metadata": {},
   "source": [
    "**Dataframe Information**"
   ]
  },
  {
   "cell_type": "code",
   "execution_count": 4,
   "id": "93b7c51d",
   "metadata": {},
   "outputs": [
    {
     "data": {
      "text/plain": [
       "id                                3734\n",
       "name                              3734\n",
       "host_id                           3734\n",
       "host_name                         3734\n",
       "neighbourhood                     3734\n",
       "latitude                          3734\n",
       "longitude                         3734\n",
       "room_type                         3734\n",
       "price                             3734\n",
       "minimum_nights                    3734\n",
       "number_of_reviews                 3734\n",
       "reviews_per_month                 3365\n",
       "calculated_host_listings_count    3734\n",
       "availability_365                  3734\n",
       "number_of_reviews_ltm             3734\n",
       "review_scores_value               3362\n",
       "review_scores_location            3362\n",
       "review_scores_communication       3362\n",
       "review_scores_checkin             3362\n",
       "review_scores_cleanliness         3362\n",
       "review_scores_accuracy            3362\n",
       "review_scores_rating              3365\n",
       "maximum_nights                    3734\n",
       "beds                              3680\n",
       "bedrooms                          3288\n",
       "bathrooms                         3725\n",
       "accommodates                      3734\n",
       "dtype: int64"
      ]
     },
     "execution_count": 4,
     "metadata": {},
     "output_type": "execute_result"
    }
   ],
   "source": [
    "df.count()"
   ]
  },
  {
   "cell_type": "code",
   "execution_count": 4,
   "id": "776e2256",
   "metadata": {},
   "outputs": [
    {
     "data": {
      "text/plain": [
       "id                                  0\n",
       "name                                0\n",
       "host_id                             0\n",
       "host_name                           0\n",
       "neighbourhood                       0\n",
       "latitude                            0\n",
       "longitude                           0\n",
       "room_type                           0\n",
       "price                               0\n",
       "minimum_nights                      0\n",
       "number_of_reviews                   0\n",
       "reviews_per_month                 369\n",
       "calculated_host_listings_count      0\n",
       "availability_365                    0\n",
       "number_of_reviews_ltm               0\n",
       "review_scores_value               372\n",
       "review_scores_location            372\n",
       "review_scores_communication       372\n",
       "review_scores_checkin             372\n",
       "review_scores_cleanliness         372\n",
       "review_scores_accuracy            372\n",
       "review_scores_rating              369\n",
       "maximum_nights                      0\n",
       "beds                               54\n",
       "bedrooms                          446\n",
       "bathrooms                           9\n",
       "accommodates                        0\n",
       "dtype: int64"
      ]
     },
     "execution_count": 4,
     "metadata": {},
     "output_type": "execute_result"
    }
   ],
   "source": [
    "# Check if there are any null values\n",
    "df.isnull().sum(axis = 0)"
   ]
  },
  {
   "cell_type": "code",
   "execution_count": 5,
   "id": "685a6d03",
   "metadata": {},
   "outputs": [
    {
     "data": {
      "text/plain": [
       "0       0\n",
       "1       0\n",
       "2       0\n",
       "3       1\n",
       "4       0\n",
       "       ..\n",
       "3729    9\n",
       "3730    8\n",
       "3731    8\n",
       "3732    8\n",
       "3733    8\n",
       "Length: 3734, dtype: int64"
      ]
     },
     "execution_count": 5,
     "metadata": {},
     "output_type": "execute_result"
    }
   ],
   "source": [
    "# Check if there are any null values\n",
    "df.isnull().sum(axis = 1)"
   ]
  },
  {
   "cell_type": "markdown",
   "id": "a68b3f68",
   "metadata": {},
   "source": [
    "**Convert Dataframe to Geodataframe**"
   ]
  },
  {
   "cell_type": "code",
   "execution_count": 6,
   "id": "81b690af",
   "metadata": {},
   "outputs": [],
   "source": [
    "# Convert DataFrame to GeoDataFrame\n",
    "gdf = gpd.GeoDataFrame(df, geometry=gpd.points_from_xy(df['longitude'], df['latitude']))\n",
    "gdf = gdf.set_crs(4326, allow_override=True)\n",
    "\n",
    "# Reproject everything to UTM 10N (EPSG:32610)\n",
    "gdf_utm = gdf.to_crs('EPSG:32610')"
   ]
  },
  {
   "cell_type": "markdown",
   "id": "e5c44962",
   "metadata": {},
   "source": [
    "### Correlation Matrix"
   ]
  },
  {
   "cell_type": "code",
   "execution_count": 7,
   "id": "ec9b9f3a",
   "metadata": {},
   "outputs": [
    {
     "data": {
      "text/plain": [
       "price                             1.000000\n",
       "bedrooms                          0.567294\n",
       "accommodates                      0.561563\n",
       "beds                              0.514923\n",
       "calculated_host_listings_count    0.243406\n",
       "id                                0.065775\n",
       "maximum_nights                    0.057474\n",
       "availability_365                  0.022898\n",
       "review_scores_location            0.020752\n",
       "review_scores_cleanliness         0.019260\n",
       "latitude                          0.016137\n",
       "review_scores_accuracy            0.001554\n",
       "review_scores_rating              0.000882\n",
       "host_id                          -0.000534\n",
       "review_scores_communication      -0.003661\n",
       "review_scores_checkin            -0.016518\n",
       "minimum_nights                   -0.032539\n",
       "review_scores_value              -0.038478\n",
       "longitude                        -0.067791\n",
       "reviews_per_month                -0.117777\n",
       "number_of_reviews_ltm            -0.127049\n",
       "number_of_reviews                -0.129120\n",
       "Name: price, dtype: float64"
      ]
     },
     "execution_count": 7,
     "metadata": {},
     "output_type": "execute_result"
    }
   ],
   "source": [
    "# Compute correlation matrix\n",
    "corr_matrix = df.corr()\n",
    "\n",
    "# Display just house value correlations\n",
    "corr_matrix[\"price\"].sort_values(ascending= False)"
   ]
  },
  {
   "cell_type": "code",
   "execution_count": 8,
   "id": "e0298bc3",
   "metadata": {},
   "outputs": [],
   "source": [
    "# Define feature list\n",
    "feature_list =  ['bedrooms', 'accommodates', \n",
    "                 'beds', 'calculated_host_listings_count', 'id', 'maximum_nights', 'availability_365', 'review_scores_location', 'review_scores_cleanliness', 'latitude', 'review_scores_accuracy', 'review_scores_rating', 'host_id', 'review_scores_communication', 'review_scores_checkin', 'minimum_nights', 'review_scores_value', 'longitude', 'reviews_per_month', 'number_of_reviews_ltm', 'number_of_reviews']"
   ]
  },
  {
   "cell_type": "code",
   "execution_count": 9,
   "id": "048e3c12",
   "metadata": {},
   "outputs": [],
   "source": [
    "null_index = gdf_utm[feature_list].isnull().sum(axis=1)"
   ]
  },
  {
   "cell_type": "code",
   "execution_count": 10,
   "id": "15c19115",
   "metadata": {},
   "outputs": [
    {
     "data": {
      "text/plain": [
       "0        True\n",
       "1        True\n",
       "2        True\n",
       "3       False\n",
       "4        True\n",
       "        ...  \n",
       "3729    False\n",
       "3730    False\n",
       "3731    False\n",
       "3732    False\n",
       "3733    False\n",
       "Length: 3734, dtype: bool"
      ]
     },
     "execution_count": 10,
     "metadata": {},
     "output_type": "execute_result"
    }
   ],
   "source": [
    "null_index == 0\n"
   ]
  },
  {
   "cell_type": "markdown",
   "id": "22202e73",
   "metadata": {},
   "source": [
    "### Get rid of Rows with Null/\"NaN\" values"
   ]
  },
  {
   "cell_type": "code",
   "execution_count": 11,
   "id": "7a1748bb",
   "metadata": {},
   "outputs": [],
   "source": [
    "gdf_utm_nonnull = gdf_utm.loc[null_index == 0, :]"
   ]
  },
  {
   "cell_type": "code",
   "execution_count": 12,
   "id": "04f4d41e",
   "metadata": {},
   "outputs": [
    {
     "data": {
      "text/html": [
       "<div>\n",
       "<style scoped>\n",
       "    .dataframe tbody tr th:only-of-type {\n",
       "        vertical-align: middle;\n",
       "    }\n",
       "\n",
       "    .dataframe tbody tr th {\n",
       "        vertical-align: top;\n",
       "    }\n",
       "\n",
       "    .dataframe thead th {\n",
       "        text-align: right;\n",
       "    }\n",
       "</style>\n",
       "<table border=\"1\" class=\"dataframe\">\n",
       "  <thead>\n",
       "    <tr style=\"text-align: right;\">\n",
       "      <th></th>\n",
       "      <th>id</th>\n",
       "      <th>name</th>\n",
       "      <th>host_id</th>\n",
       "      <th>host_name</th>\n",
       "      <th>neighbourhood</th>\n",
       "      <th>latitude</th>\n",
       "      <th>longitude</th>\n",
       "      <th>room_type</th>\n",
       "      <th>price</th>\n",
       "      <th>minimum_nights</th>\n",
       "      <th>...</th>\n",
       "      <th>review_scores_checkin</th>\n",
       "      <th>review_scores_cleanliness</th>\n",
       "      <th>review_scores_accuracy</th>\n",
       "      <th>review_scores_rating</th>\n",
       "      <th>maximum_nights</th>\n",
       "      <th>beds</th>\n",
       "      <th>bedrooms</th>\n",
       "      <th>bathrooms</th>\n",
       "      <th>accommodates</th>\n",
       "      <th>geometry</th>\n",
       "    </tr>\n",
       "  </thead>\n",
       "  <tbody>\n",
       "    <tr>\n",
       "      <th>0</th>\n",
       "      <td>12899</td>\n",
       "      <td>Alberta Arts 2 bedroom suite, charming 1906 house</td>\n",
       "      <td>49682</td>\n",
       "      <td>Ali And David</td>\n",
       "      <td>Concordia</td>\n",
       "      <td>45.564880</td>\n",
       "      <td>-122.634180</td>\n",
       "      <td>Entire home/apt</td>\n",
       "      <td>89</td>\n",
       "      <td>3</td>\n",
       "      <td>...</td>\n",
       "      <td>4.99</td>\n",
       "      <td>4.98</td>\n",
       "      <td>4.94</td>\n",
       "      <td>4.93</td>\n",
       "      <td>730</td>\n",
       "      <td>2.0</td>\n",
       "      <td>2.0</td>\n",
       "      <td>1</td>\n",
       "      <td>3</td>\n",
       "      <td>POINT (528547.500 5045769.599)</td>\n",
       "    </tr>\n",
       "    <tr>\n",
       "      <th>1</th>\n",
       "      <td>37676</td>\n",
       "      <td>Mt. Hood View in the Pearl District</td>\n",
       "      <td>162158</td>\n",
       "      <td>Paul</td>\n",
       "      <td>Pearl</td>\n",
       "      <td>45.525640</td>\n",
       "      <td>-122.682730</td>\n",
       "      <td>Entire home/apt</td>\n",
       "      <td>140</td>\n",
       "      <td>30</td>\n",
       "      <td>...</td>\n",
       "      <td>4.83</td>\n",
       "      <td>4.86</td>\n",
       "      <td>4.86</td>\n",
       "      <td>4.88</td>\n",
       "      <td>730</td>\n",
       "      <td>1.0</td>\n",
       "      <td>1.0</td>\n",
       "      <td>1</td>\n",
       "      <td>3</td>\n",
       "      <td>POINT (524776.035 5041393.989)</td>\n",
       "    </tr>\n",
       "    <tr>\n",
       "      <th>2</th>\n",
       "      <td>41601</td>\n",
       "      <td>Grandpa's Bunkhouse-Backyard Studio</td>\n",
       "      <td>179045</td>\n",
       "      <td>Jean</td>\n",
       "      <td>Roseway</td>\n",
       "      <td>45.548040</td>\n",
       "      <td>-122.585410</td>\n",
       "      <td>Entire home/apt</td>\n",
       "      <td>129</td>\n",
       "      <td>3</td>\n",
       "      <td>...</td>\n",
       "      <td>4.95</td>\n",
       "      <td>4.90</td>\n",
       "      <td>4.90</td>\n",
       "      <td>4.84</td>\n",
       "      <td>29</td>\n",
       "      <td>1.0</td>\n",
       "      <td>1.0</td>\n",
       "      <td>1</td>\n",
       "      <td>2</td>\n",
       "      <td>POINT (532363.029 5043917.214)</td>\n",
       "    </tr>\n",
       "    <tr>\n",
       "      <th>4</th>\n",
       "      <td>61893</td>\n",
       "      <td>Perfect Portland Place</td>\n",
       "      <td>300391</td>\n",
       "      <td>Matt</td>\n",
       "      <td>Goose Hollow</td>\n",
       "      <td>45.522580</td>\n",
       "      <td>-122.699550</td>\n",
       "      <td>Entire home/apt</td>\n",
       "      <td>104</td>\n",
       "      <td>30</td>\n",
       "      <td>...</td>\n",
       "      <td>4.93</td>\n",
       "      <td>5.00</td>\n",
       "      <td>5.00</td>\n",
       "      <td>5.00</td>\n",
       "      <td>300</td>\n",
       "      <td>1.0</td>\n",
       "      <td>1.0</td>\n",
       "      <td>1</td>\n",
       "      <td>2</td>\n",
       "      <td>POINT (523463.811 5041048.978)</td>\n",
       "    </tr>\n",
       "    <tr>\n",
       "      <th>5</th>\n",
       "      <td>65466</td>\n",
       "      <td>Mt. Tabor Bungalow</td>\n",
       "      <td>170035</td>\n",
       "      <td>Scott</td>\n",
       "      <td>Mt. Tabor</td>\n",
       "      <td>45.505440</td>\n",
       "      <td>-122.610410</td>\n",
       "      <td>Private room</td>\n",
       "      <td>60</td>\n",
       "      <td>2</td>\n",
       "      <td>...</td>\n",
       "      <td>4.97</td>\n",
       "      <td>4.95</td>\n",
       "      <td>4.95</td>\n",
       "      <td>4.92</td>\n",
       "      <td>14</td>\n",
       "      <td>1.0</td>\n",
       "      <td>1.0</td>\n",
       "      <td>1</td>\n",
       "      <td>2</td>\n",
       "      <td>POINT (530434.485 5039174.682)</td>\n",
       "    </tr>\n",
       "    <tr>\n",
       "      <th>...</th>\n",
       "      <td>...</td>\n",
       "      <td>...</td>\n",
       "      <td>...</td>\n",
       "      <td>...</td>\n",
       "      <td>...</td>\n",
       "      <td>...</td>\n",
       "      <td>...</td>\n",
       "      <td>...</td>\n",
       "      <td>...</td>\n",
       "      <td>...</td>\n",
       "      <td>...</td>\n",
       "      <td>...</td>\n",
       "      <td>...</td>\n",
       "      <td>...</td>\n",
       "      <td>...</td>\n",
       "      <td>...</td>\n",
       "      <td>...</td>\n",
       "      <td>...</td>\n",
       "      <td>...</td>\n",
       "      <td>...</td>\n",
       "      <td>...</td>\n",
       "    </tr>\n",
       "    <tr>\n",
       "      <th>3686</th>\n",
       "      <td>53623129</td>\n",
       "      <td>Modern, Upgraded Apartment - fast wifi and par...</td>\n",
       "      <td>409693567</td>\n",
       "      <td>Patrick</td>\n",
       "      <td>Pearl</td>\n",
       "      <td>45.529118</td>\n",
       "      <td>-122.680400</td>\n",
       "      <td>Entire home/apt</td>\n",
       "      <td>233</td>\n",
       "      <td>1</td>\n",
       "      <td>...</td>\n",
       "      <td>2.00</td>\n",
       "      <td>5.00</td>\n",
       "      <td>5.00</td>\n",
       "      <td>4.00</td>\n",
       "      <td>365</td>\n",
       "      <td>2.0</td>\n",
       "      <td>1.0</td>\n",
       "      <td>1</td>\n",
       "      <td>3</td>\n",
       "      <td>POINT (524956.481 5041781.064)</td>\n",
       "    </tr>\n",
       "    <tr>\n",
       "      <th>3690</th>\n",
       "      <td>53631855</td>\n",
       "      <td>Charming guest suite in  Maywood Park</td>\n",
       "      <td>6921798</td>\n",
       "      <td>Meredith</td>\n",
       "      <td>Maywood Park</td>\n",
       "      <td>45.553293</td>\n",
       "      <td>-122.561127</td>\n",
       "      <td>Entire home/apt</td>\n",
       "      <td>64</td>\n",
       "      <td>1</td>\n",
       "      <td>...</td>\n",
       "      <td>5.00</td>\n",
       "      <td>5.00</td>\n",
       "      <td>5.00</td>\n",
       "      <td>5.00</td>\n",
       "      <td>365</td>\n",
       "      <td>1.0</td>\n",
       "      <td>1.0</td>\n",
       "      <td>1</td>\n",
       "      <td>4</td>\n",
       "      <td>POINT (534255.407 5044510.893)</td>\n",
       "    </tr>\n",
       "    <tr>\n",
       "      <th>3691</th>\n",
       "      <td>53644475</td>\n",
       "      <td>Fantastic Forested Retreat, Open Layout, Multi...</td>\n",
       "      <td>62261998</td>\n",
       "      <td>ITrip Vacations</td>\n",
       "      <td>Southwest Hills</td>\n",
       "      <td>45.494583</td>\n",
       "      <td>-122.707945</td>\n",
       "      <td>Entire home/apt</td>\n",
       "      <td>137</td>\n",
       "      <td>3</td>\n",
       "      <td>...</td>\n",
       "      <td>5.00</td>\n",
       "      <td>5.00</td>\n",
       "      <td>5.00</td>\n",
       "      <td>5.00</td>\n",
       "      <td>29</td>\n",
       "      <td>1.0</td>\n",
       "      <td>1.0</td>\n",
       "      <td>1</td>\n",
       "      <td>2</td>\n",
       "      <td>POINT (522819.470 5037936.167)</td>\n",
       "    </tr>\n",
       "    <tr>\n",
       "      <th>3692</th>\n",
       "      <td>53649962</td>\n",
       "      <td>New Modern 3 BR Designer Home in Trendy N Will...</td>\n",
       "      <td>35305959</td>\n",
       "      <td>Byron (Hüga Homes)</td>\n",
       "      <td>Humboldt</td>\n",
       "      <td>45.555253</td>\n",
       "      <td>-122.666736</td>\n",
       "      <td>Entire home/apt</td>\n",
       "      <td>203</td>\n",
       "      <td>2</td>\n",
       "      <td>...</td>\n",
       "      <td>5.00</td>\n",
       "      <td>5.00</td>\n",
       "      <td>5.00</td>\n",
       "      <td>5.00</td>\n",
       "      <td>1125</td>\n",
       "      <td>3.0</td>\n",
       "      <td>3.0</td>\n",
       "      <td>2.5</td>\n",
       "      <td>7</td>\n",
       "      <td>POINT (526011.408 5044688.981)</td>\n",
       "    </tr>\n",
       "    <tr>\n",
       "      <th>3701</th>\n",
       "      <td>53704846</td>\n",
       "      <td>Condo in the heart of Sw Portland</td>\n",
       "      <td>150582690</td>\n",
       "      <td>Shay</td>\n",
       "      <td>South Portland</td>\n",
       "      <td>45.485482</td>\n",
       "      <td>-122.676998</td>\n",
       "      <td>Entire home/apt</td>\n",
       "      <td>180</td>\n",
       "      <td>2</td>\n",
       "      <td>...</td>\n",
       "      <td>5.00</td>\n",
       "      <td>5.00</td>\n",
       "      <td>5.00</td>\n",
       "      <td>5.00</td>\n",
       "      <td>365</td>\n",
       "      <td>2.0</td>\n",
       "      <td>2.0</td>\n",
       "      <td>2.5</td>\n",
       "      <td>4</td>\n",
       "      <td>POINT (525241.564 5036934.327)</td>\n",
       "    </tr>\n",
       "  </tbody>\n",
       "</table>\n",
       "<p>2929 rows × 28 columns</p>\n",
       "</div>"
      ],
      "text/plain": [
       "            id                                               name    host_id  \\\n",
       "0        12899  Alberta Arts 2 bedroom suite, charming 1906 house      49682   \n",
       "1        37676                Mt. Hood View in the Pearl District     162158   \n",
       "2        41601                Grandpa's Bunkhouse-Backyard Studio     179045   \n",
       "4        61893                             Perfect Portland Place     300391   \n",
       "5        65466                                 Mt. Tabor Bungalow     170035   \n",
       "...        ...                                                ...        ...   \n",
       "3686  53623129  Modern, Upgraded Apartment - fast wifi and par...  409693567   \n",
       "3690  53631855              Charming guest suite in  Maywood Park    6921798   \n",
       "3691  53644475  Fantastic Forested Retreat, Open Layout, Multi...   62261998   \n",
       "3692  53649962  New Modern 3 BR Designer Home in Trendy N Will...   35305959   \n",
       "3701  53704846                  Condo in the heart of Sw Portland  150582690   \n",
       "\n",
       "               host_name    neighbourhood   latitude   longitude  \\\n",
       "0          Ali And David        Concordia  45.564880 -122.634180   \n",
       "1                   Paul            Pearl  45.525640 -122.682730   \n",
       "2                   Jean          Roseway  45.548040 -122.585410   \n",
       "4                   Matt     Goose Hollow  45.522580 -122.699550   \n",
       "5                  Scott        Mt. Tabor  45.505440 -122.610410   \n",
       "...                  ...              ...        ...         ...   \n",
       "3686             Patrick            Pearl  45.529118 -122.680400   \n",
       "3690            Meredith     Maywood Park  45.553293 -122.561127   \n",
       "3691     ITrip Vacations  Southwest Hills  45.494583 -122.707945   \n",
       "3692  Byron (Hüga Homes)         Humboldt  45.555253 -122.666736   \n",
       "3701                Shay   South Portland  45.485482 -122.676998   \n",
       "\n",
       "            room_type  price  minimum_nights  ...  review_scores_checkin  \\\n",
       "0     Entire home/apt     89               3  ...                   4.99   \n",
       "1     Entire home/apt    140              30  ...                   4.83   \n",
       "2     Entire home/apt    129               3  ...                   4.95   \n",
       "4     Entire home/apt    104              30  ...                   4.93   \n",
       "5        Private room     60               2  ...                   4.97   \n",
       "...               ...    ...             ...  ...                    ...   \n",
       "3686  Entire home/apt    233               1  ...                   2.00   \n",
       "3690  Entire home/apt     64               1  ...                   5.00   \n",
       "3691  Entire home/apt    137               3  ...                   5.00   \n",
       "3692  Entire home/apt    203               2  ...                   5.00   \n",
       "3701  Entire home/apt    180               2  ...                   5.00   \n",
       "\n",
       "      review_scores_cleanliness  review_scores_accuracy  review_scores_rating  \\\n",
       "0                          4.98                    4.94                  4.93   \n",
       "1                          4.86                    4.86                  4.88   \n",
       "2                          4.90                    4.90                  4.84   \n",
       "4                          5.00                    5.00                  5.00   \n",
       "5                          4.95                    4.95                  4.92   \n",
       "...                         ...                     ...                   ...   \n",
       "3686                       5.00                    5.00                  4.00   \n",
       "3690                       5.00                    5.00                  5.00   \n",
       "3691                       5.00                    5.00                  5.00   \n",
       "3692                       5.00                    5.00                  5.00   \n",
       "3701                       5.00                    5.00                  5.00   \n",
       "\n",
       "      maximum_nights  beds  bedrooms  bathrooms  accommodates  \\\n",
       "0                730   2.0       2.0          1             3   \n",
       "1                730   1.0       1.0          1             3   \n",
       "2                 29   1.0       1.0          1             2   \n",
       "4                300   1.0       1.0          1             2   \n",
       "5                 14   1.0       1.0          1             2   \n",
       "...              ...   ...       ...        ...           ...   \n",
       "3686             365   2.0       1.0          1             3   \n",
       "3690             365   1.0       1.0          1             4   \n",
       "3691              29   1.0       1.0          1             2   \n",
       "3692            1125   3.0       3.0        2.5             7   \n",
       "3701             365   2.0       2.0        2.5             4   \n",
       "\n",
       "                            geometry  \n",
       "0     POINT (528547.500 5045769.599)  \n",
       "1     POINT (524776.035 5041393.989)  \n",
       "2     POINT (532363.029 5043917.214)  \n",
       "4     POINT (523463.811 5041048.978)  \n",
       "5     POINT (530434.485 5039174.682)  \n",
       "...                              ...  \n",
       "3686  POINT (524956.481 5041781.064)  \n",
       "3690  POINT (534255.407 5044510.893)  \n",
       "3691  POINT (522819.470 5037936.167)  \n",
       "3692  POINT (526011.408 5044688.981)  \n",
       "3701  POINT (525241.564 5036934.327)  \n",
       "\n",
       "[2929 rows x 28 columns]"
      ]
     },
     "execution_count": 12,
     "metadata": {},
     "output_type": "execute_result"
    }
   ],
   "source": [
    "gdf_utm_nonnull"
   ]
  },
  {
   "cell_type": "markdown",
   "id": "48e2776d",
   "metadata": {},
   "source": [
    "**Match Neighborhoods to Districts**"
   ]
  },
  {
   "cell_type": "code",
   "execution_count": 13,
   "id": "33f0d22c",
   "metadata": {},
   "outputs": [],
   "source": [
    "neigh_from = ['Arbor Lodge', 'Boise', 'Bridgeton', 'Cathedral Park', 'East Columbia', 'Eliot', 'Hayden Island', 'Humboldt', 'Kenton', 'Overlook', 'Piedmont', 'Portsmouth', 'St. Johns', 'University Park', 'Alameda', 'Alberta Arts District', 'Beaumont-Wilshire', 'North Tabor', 'Concordia', 'Cully', 'Grant Park', 'Hollywood', 'Irvington', 'King', 'Madison South', 'Rose City Park', 'Roseway', 'Sabin', \"Sullivan's Gulch\", 'Sumner', 'Sunderland', 'Vernon', 'Woodlawn', 'Arnold Creek', 'Ashcreek', 'Bridlemile', 'Collins View', 'Crestwood', 'Far Southwest', 'Hayhurst', 'Hillsdale', 'Homestead', 'Maplewood', 'Markham', 'Marshall Park', 'Multnomah', 'South Burlingame', 'Southwest Hills', 'West Portland Park', 'Argay', 'Centennial', 'Glenfair', 'Hazelwood', 'Lents', 'Mill Park', 'Parkrose', 'Parkrose Heights', 'Pleasant Valley', 'Powellhurst Gilbert', 'Russell', 'Wilkes', 'Arlington Heights', 'Forest Park', 'Goose Hollow ', 'Hillside', 'Linnton', 'Northwest Heights', 'Sylvan Highlands', 'Old Town/Chinatown', 'Portland Downtown', 'Lloyd District', 'Pearl', 'Brentwood–Darlington', 'Brooklyn Action Corps', 'Buckman', 'Creston–Kenilworth', 'Eastmoreland', 'Foster-Powell', 'Hawthorne', 'Hosford-Abernethy', 'Ardenwald-Johnson Creek', 'Kerns', 'Laurelhurst', 'Montavilla', 'Mt. Scott-Arleta', 'Mt. Tabor', 'Reed', 'Richmond', 'Sellwood-Moreland Improvement League', 'South Tabor', 'Sunnyside', 'Woodstock']\n",
    "neigh_to = ['North', 'North', 'North', 'North', 'North', 'North', 'North', 'North', 'North', 'North', 'North', 'North','North','North','Northeast', 'Northeast', 'Northeast', 'Northeast', 'Northeast', 'Northeast', 'Northeast', 'Northeast', 'Northeast', 'Northeast', 'Northeast', 'Northeast', 'Northeast', 'Northeast', 'Northeast', 'Northeast', 'Northeast', 'Northeast', 'Northeast', 'Northeast', 'Southwest', 'Southwest', 'Southwest', 'Southwest', 'Southwest', 'Southwest', 'Southwest', 'Southwest', 'Southwest', 'Southwest', 'Southwest', 'Southwest', 'Southwest', 'Southwest', 'Southwest', 'Southwest', 'Southwest', 'East', 'East', 'East', 'East', 'East', 'East', 'East', 'East', 'East', 'East', 'East', 'East', 'Northwest','Northwest','Northwest','Northwest','Northwest','Northwest','Northwest','Central','Central','Central','Central','Southeast','Southeast','Southeast','Southeast','Southeast','Southeast','Southeast','Southeast','Southeast','Southeast','Southeast','Southeast','Southeast','Southeast','Southeast','Southeast','Southeast','Southeast']\n",
    "neigh_match_table = pd.DataFrame({'Neighborhood_D': neigh_from, 'Districts': neigh_to})"
   ]
  },
  {
   "cell_type": "code",
   "execution_count": 14,
   "id": "77af171b",
   "metadata": {},
   "outputs": [
    {
     "data": {
      "text/plain": [
       "92"
      ]
     },
     "execution_count": 14,
     "metadata": {},
     "output_type": "execute_result"
    }
   ],
   "source": [
    "len(neigh_from)"
   ]
  },
  {
   "cell_type": "code",
   "execution_count": 15,
   "id": "d960d998",
   "metadata": {},
   "outputs": [
    {
     "data": {
      "text/plain": [
       "92"
      ]
     },
     "execution_count": 15,
     "metadata": {},
     "output_type": "execute_result"
    }
   ],
   "source": [
    "len(neigh_to)"
   ]
  },
  {
   "cell_type": "code",
   "execution_count": 16,
   "id": "f6cc3d84",
   "metadata": {
    "scrolled": true
   },
   "outputs": [
    {
     "data": {
      "text/html": [
       "<div>\n",
       "<style scoped>\n",
       "    .dataframe tbody tr th:only-of-type {\n",
       "        vertical-align: middle;\n",
       "    }\n",
       "\n",
       "    .dataframe tbody tr th {\n",
       "        vertical-align: top;\n",
       "    }\n",
       "\n",
       "    .dataframe thead th {\n",
       "        text-align: right;\n",
       "    }\n",
       "</style>\n",
       "<table border=\"1\" class=\"dataframe\">\n",
       "  <thead>\n",
       "    <tr style=\"text-align: right;\">\n",
       "      <th></th>\n",
       "      <th>Neighborhood_D</th>\n",
       "      <th>Districts</th>\n",
       "    </tr>\n",
       "  </thead>\n",
       "  <tbody>\n",
       "    <tr>\n",
       "      <th>0</th>\n",
       "      <td>Arbor Lodge</td>\n",
       "      <td>North</td>\n",
       "    </tr>\n",
       "    <tr>\n",
       "      <th>1</th>\n",
       "      <td>Boise</td>\n",
       "      <td>North</td>\n",
       "    </tr>\n",
       "    <tr>\n",
       "      <th>2</th>\n",
       "      <td>Bridgeton</td>\n",
       "      <td>North</td>\n",
       "    </tr>\n",
       "    <tr>\n",
       "      <th>3</th>\n",
       "      <td>Cathedral Park</td>\n",
       "      <td>North</td>\n",
       "    </tr>\n",
       "    <tr>\n",
       "      <th>4</th>\n",
       "      <td>East Columbia</td>\n",
       "      <td>North</td>\n",
       "    </tr>\n",
       "    <tr>\n",
       "      <th>...</th>\n",
       "      <td>...</td>\n",
       "      <td>...</td>\n",
       "    </tr>\n",
       "    <tr>\n",
       "      <th>87</th>\n",
       "      <td>Richmond</td>\n",
       "      <td>Southeast</td>\n",
       "    </tr>\n",
       "    <tr>\n",
       "      <th>88</th>\n",
       "      <td>Sellwood-Moreland Improvement League</td>\n",
       "      <td>Southeast</td>\n",
       "    </tr>\n",
       "    <tr>\n",
       "      <th>89</th>\n",
       "      <td>South Tabor</td>\n",
       "      <td>Southeast</td>\n",
       "    </tr>\n",
       "    <tr>\n",
       "      <th>90</th>\n",
       "      <td>Sunnyside</td>\n",
       "      <td>Southeast</td>\n",
       "    </tr>\n",
       "    <tr>\n",
       "      <th>91</th>\n",
       "      <td>Woodstock</td>\n",
       "      <td>Southeast</td>\n",
       "    </tr>\n",
       "  </tbody>\n",
       "</table>\n",
       "<p>92 rows × 2 columns</p>\n",
       "</div>"
      ],
      "text/plain": [
       "                          Neighborhood_D  Districts\n",
       "0                            Arbor Lodge      North\n",
       "1                                  Boise      North\n",
       "2                              Bridgeton      North\n",
       "3                         Cathedral Park      North\n",
       "4                          East Columbia      North\n",
       "..                                   ...        ...\n",
       "87                              Richmond  Southeast\n",
       "88  Sellwood-Moreland Improvement League  Southeast\n",
       "89                           South Tabor  Southeast\n",
       "90                             Sunnyside  Southeast\n",
       "91                             Woodstock  Southeast\n",
       "\n",
       "[92 rows x 2 columns]"
      ]
     },
     "execution_count": 16,
     "metadata": {},
     "output_type": "execute_result"
    }
   ],
   "source": [
    "neigh_match_table"
   ]
  },
  {
   "cell_type": "code",
   "execution_count": 17,
   "id": "36d0bac4",
   "metadata": {
    "scrolled": true
   },
   "outputs": [
    {
     "data": {
      "text/html": [
       "<div>\n",
       "<style scoped>\n",
       "    .dataframe tbody tr th:only-of-type {\n",
       "        vertical-align: middle;\n",
       "    }\n",
       "\n",
       "    .dataframe tbody tr th {\n",
       "        vertical-align: top;\n",
       "    }\n",
       "\n",
       "    .dataframe thead th {\n",
       "        text-align: right;\n",
       "    }\n",
       "</style>\n",
       "<table border=\"1\" class=\"dataframe\">\n",
       "  <thead>\n",
       "    <tr style=\"text-align: right;\">\n",
       "      <th></th>\n",
       "      <th>neighbourhood</th>\n",
       "      <th>Districts</th>\n",
       "    </tr>\n",
       "  </thead>\n",
       "  <tbody>\n",
       "    <tr>\n",
       "      <th>0</th>\n",
       "      <td>Arbor Lodge</td>\n",
       "      <td>North</td>\n",
       "    </tr>\n",
       "    <tr>\n",
       "      <th>1</th>\n",
       "      <td>Boise</td>\n",
       "      <td>North</td>\n",
       "    </tr>\n",
       "    <tr>\n",
       "      <th>2</th>\n",
       "      <td>Bridgeton</td>\n",
       "      <td>North</td>\n",
       "    </tr>\n",
       "    <tr>\n",
       "      <th>3</th>\n",
       "      <td>Cathedral Park</td>\n",
       "      <td>North</td>\n",
       "    </tr>\n",
       "    <tr>\n",
       "      <th>4</th>\n",
       "      <td>East Columbia</td>\n",
       "      <td>North</td>\n",
       "    </tr>\n",
       "    <tr>\n",
       "      <th>...</th>\n",
       "      <td>...</td>\n",
       "      <td>...</td>\n",
       "    </tr>\n",
       "    <tr>\n",
       "      <th>87</th>\n",
       "      <td>Richmond</td>\n",
       "      <td>Southeast</td>\n",
       "    </tr>\n",
       "    <tr>\n",
       "      <th>88</th>\n",
       "      <td>Sellwood-Moreland Improvement League</td>\n",
       "      <td>Southeast</td>\n",
       "    </tr>\n",
       "    <tr>\n",
       "      <th>89</th>\n",
       "      <td>South Tabor</td>\n",
       "      <td>Southeast</td>\n",
       "    </tr>\n",
       "    <tr>\n",
       "      <th>90</th>\n",
       "      <td>Sunnyside</td>\n",
       "      <td>Southeast</td>\n",
       "    </tr>\n",
       "    <tr>\n",
       "      <th>91</th>\n",
       "      <td>Woodstock</td>\n",
       "      <td>Southeast</td>\n",
       "    </tr>\n",
       "  </tbody>\n",
       "</table>\n",
       "<p>92 rows × 2 columns</p>\n",
       "</div>"
      ],
      "text/plain": [
       "                           neighbourhood  Districts\n",
       "0                            Arbor Lodge      North\n",
       "1                                  Boise      North\n",
       "2                              Bridgeton      North\n",
       "3                         Cathedral Park      North\n",
       "4                          East Columbia      North\n",
       "..                                   ...        ...\n",
       "87                              Richmond  Southeast\n",
       "88  Sellwood-Moreland Improvement League  Southeast\n",
       "89                           South Tabor  Southeast\n",
       "90                             Sunnyside  Southeast\n",
       "91                             Woodstock  Southeast\n",
       "\n",
       "[92 rows x 2 columns]"
      ]
     },
     "execution_count": 17,
     "metadata": {},
     "output_type": "execute_result"
    }
   ],
   "source": [
    "neigh_match_table.columns = neigh_match_table.columns.str.replace('Neighborhood_D', 'neighbourhood')\n",
    "neigh_match_table"
   ]
  },
  {
   "cell_type": "markdown",
   "id": "197ab320",
   "metadata": {},
   "source": [
    "**Joining Tables together**"
   ]
  },
  {
   "cell_type": "code",
   "execution_count": 18,
   "id": "8912f692",
   "metadata": {
    "scrolled": true
   },
   "outputs": [
    {
     "data": {
      "text/html": [
       "<div>\n",
       "<style scoped>\n",
       "    .dataframe tbody tr th:only-of-type {\n",
       "        vertical-align: middle;\n",
       "    }\n",
       "\n",
       "    .dataframe tbody tr th {\n",
       "        vertical-align: top;\n",
       "    }\n",
       "\n",
       "    .dataframe thead th {\n",
       "        text-align: right;\n",
       "    }\n",
       "</style>\n",
       "<table border=\"1\" class=\"dataframe\">\n",
       "  <thead>\n",
       "    <tr style=\"text-align: right;\">\n",
       "      <th></th>\n",
       "      <th>id</th>\n",
       "      <th>name</th>\n",
       "      <th>host_id</th>\n",
       "      <th>host_name</th>\n",
       "      <th>neighbourhood</th>\n",
       "      <th>latitude</th>\n",
       "      <th>longitude</th>\n",
       "      <th>room_type</th>\n",
       "      <th>price</th>\n",
       "      <th>minimum_nights</th>\n",
       "      <th>...</th>\n",
       "      <th>review_scores_cleanliness</th>\n",
       "      <th>review_scores_accuracy</th>\n",
       "      <th>review_scores_rating</th>\n",
       "      <th>maximum_nights</th>\n",
       "      <th>beds</th>\n",
       "      <th>bedrooms</th>\n",
       "      <th>bathrooms</th>\n",
       "      <th>accommodates</th>\n",
       "      <th>geometry</th>\n",
       "      <th>Districts</th>\n",
       "    </tr>\n",
       "  </thead>\n",
       "  <tbody>\n",
       "    <tr>\n",
       "      <th>0</th>\n",
       "      <td>12899</td>\n",
       "      <td>Alberta Arts 2 bedroom suite, charming 1906 house</td>\n",
       "      <td>49682</td>\n",
       "      <td>Ali And David</td>\n",
       "      <td>Concordia</td>\n",
       "      <td>45.564880</td>\n",
       "      <td>-122.634180</td>\n",
       "      <td>Entire home/apt</td>\n",
       "      <td>89</td>\n",
       "      <td>3</td>\n",
       "      <td>...</td>\n",
       "      <td>4.98</td>\n",
       "      <td>4.94</td>\n",
       "      <td>4.93</td>\n",
       "      <td>730</td>\n",
       "      <td>2.0</td>\n",
       "      <td>2.0</td>\n",
       "      <td>1</td>\n",
       "      <td>3</td>\n",
       "      <td>POINT (528547.500 5045769.599)</td>\n",
       "      <td>Northeast</td>\n",
       "    </tr>\n",
       "    <tr>\n",
       "      <th>1</th>\n",
       "      <td>37676</td>\n",
       "      <td>Mt. Hood View in the Pearl District</td>\n",
       "      <td>162158</td>\n",
       "      <td>Paul</td>\n",
       "      <td>Pearl</td>\n",
       "      <td>45.525640</td>\n",
       "      <td>-122.682730</td>\n",
       "      <td>Entire home/apt</td>\n",
       "      <td>140</td>\n",
       "      <td>30</td>\n",
       "      <td>...</td>\n",
       "      <td>4.86</td>\n",
       "      <td>4.86</td>\n",
       "      <td>4.88</td>\n",
       "      <td>730</td>\n",
       "      <td>1.0</td>\n",
       "      <td>1.0</td>\n",
       "      <td>1</td>\n",
       "      <td>3</td>\n",
       "      <td>POINT (524776.035 5041393.989)</td>\n",
       "      <td>Central</td>\n",
       "    </tr>\n",
       "    <tr>\n",
       "      <th>2</th>\n",
       "      <td>41601</td>\n",
       "      <td>Grandpa's Bunkhouse-Backyard Studio</td>\n",
       "      <td>179045</td>\n",
       "      <td>Jean</td>\n",
       "      <td>Roseway</td>\n",
       "      <td>45.548040</td>\n",
       "      <td>-122.585410</td>\n",
       "      <td>Entire home/apt</td>\n",
       "      <td>129</td>\n",
       "      <td>3</td>\n",
       "      <td>...</td>\n",
       "      <td>4.90</td>\n",
       "      <td>4.90</td>\n",
       "      <td>4.84</td>\n",
       "      <td>29</td>\n",
       "      <td>1.0</td>\n",
       "      <td>1.0</td>\n",
       "      <td>1</td>\n",
       "      <td>2</td>\n",
       "      <td>POINT (532363.029 5043917.214)</td>\n",
       "      <td>Northeast</td>\n",
       "    </tr>\n",
       "    <tr>\n",
       "      <th>3</th>\n",
       "      <td>61893</td>\n",
       "      <td>Perfect Portland Place</td>\n",
       "      <td>300391</td>\n",
       "      <td>Matt</td>\n",
       "      <td>Goose Hollow</td>\n",
       "      <td>45.522580</td>\n",
       "      <td>-122.699550</td>\n",
       "      <td>Entire home/apt</td>\n",
       "      <td>104</td>\n",
       "      <td>30</td>\n",
       "      <td>...</td>\n",
       "      <td>5.00</td>\n",
       "      <td>5.00</td>\n",
       "      <td>5.00</td>\n",
       "      <td>300</td>\n",
       "      <td>1.0</td>\n",
       "      <td>1.0</td>\n",
       "      <td>1</td>\n",
       "      <td>2</td>\n",
       "      <td>POINT (523463.811 5041048.978)</td>\n",
       "      <td>NaN</td>\n",
       "    </tr>\n",
       "    <tr>\n",
       "      <th>4</th>\n",
       "      <td>65466</td>\n",
       "      <td>Mt. Tabor Bungalow</td>\n",
       "      <td>170035</td>\n",
       "      <td>Scott</td>\n",
       "      <td>Mt. Tabor</td>\n",
       "      <td>45.505440</td>\n",
       "      <td>-122.610410</td>\n",
       "      <td>Private room</td>\n",
       "      <td>60</td>\n",
       "      <td>2</td>\n",
       "      <td>...</td>\n",
       "      <td>4.95</td>\n",
       "      <td>4.95</td>\n",
       "      <td>4.92</td>\n",
       "      <td>14</td>\n",
       "      <td>1.0</td>\n",
       "      <td>1.0</td>\n",
       "      <td>1</td>\n",
       "      <td>2</td>\n",
       "      <td>POINT (530434.485 5039174.682)</td>\n",
       "      <td>Southeast</td>\n",
       "    </tr>\n",
       "    <tr>\n",
       "      <th>...</th>\n",
       "      <td>...</td>\n",
       "      <td>...</td>\n",
       "      <td>...</td>\n",
       "      <td>...</td>\n",
       "      <td>...</td>\n",
       "      <td>...</td>\n",
       "      <td>...</td>\n",
       "      <td>...</td>\n",
       "      <td>...</td>\n",
       "      <td>...</td>\n",
       "      <td>...</td>\n",
       "      <td>...</td>\n",
       "      <td>...</td>\n",
       "      <td>...</td>\n",
       "      <td>...</td>\n",
       "      <td>...</td>\n",
       "      <td>...</td>\n",
       "      <td>...</td>\n",
       "      <td>...</td>\n",
       "      <td>...</td>\n",
       "      <td>...</td>\n",
       "    </tr>\n",
       "    <tr>\n",
       "      <th>2924</th>\n",
       "      <td>53623129</td>\n",
       "      <td>Modern, Upgraded Apartment - fast wifi and par...</td>\n",
       "      <td>409693567</td>\n",
       "      <td>Patrick</td>\n",
       "      <td>Pearl</td>\n",
       "      <td>45.529118</td>\n",
       "      <td>-122.680400</td>\n",
       "      <td>Entire home/apt</td>\n",
       "      <td>233</td>\n",
       "      <td>1</td>\n",
       "      <td>...</td>\n",
       "      <td>5.00</td>\n",
       "      <td>5.00</td>\n",
       "      <td>4.00</td>\n",
       "      <td>365</td>\n",
       "      <td>2.0</td>\n",
       "      <td>1.0</td>\n",
       "      <td>1</td>\n",
       "      <td>3</td>\n",
       "      <td>POINT (524956.481 5041781.064)</td>\n",
       "      <td>Central</td>\n",
       "    </tr>\n",
       "    <tr>\n",
       "      <th>2925</th>\n",
       "      <td>53631855</td>\n",
       "      <td>Charming guest suite in  Maywood Park</td>\n",
       "      <td>6921798</td>\n",
       "      <td>Meredith</td>\n",
       "      <td>Maywood Park</td>\n",
       "      <td>45.553293</td>\n",
       "      <td>-122.561127</td>\n",
       "      <td>Entire home/apt</td>\n",
       "      <td>64</td>\n",
       "      <td>1</td>\n",
       "      <td>...</td>\n",
       "      <td>5.00</td>\n",
       "      <td>5.00</td>\n",
       "      <td>5.00</td>\n",
       "      <td>365</td>\n",
       "      <td>1.0</td>\n",
       "      <td>1.0</td>\n",
       "      <td>1</td>\n",
       "      <td>4</td>\n",
       "      <td>POINT (534255.407 5044510.893)</td>\n",
       "      <td>NaN</td>\n",
       "    </tr>\n",
       "    <tr>\n",
       "      <th>2926</th>\n",
       "      <td>53644475</td>\n",
       "      <td>Fantastic Forested Retreat, Open Layout, Multi...</td>\n",
       "      <td>62261998</td>\n",
       "      <td>ITrip Vacations</td>\n",
       "      <td>Southwest Hills</td>\n",
       "      <td>45.494583</td>\n",
       "      <td>-122.707945</td>\n",
       "      <td>Entire home/apt</td>\n",
       "      <td>137</td>\n",
       "      <td>3</td>\n",
       "      <td>...</td>\n",
       "      <td>5.00</td>\n",
       "      <td>5.00</td>\n",
       "      <td>5.00</td>\n",
       "      <td>29</td>\n",
       "      <td>1.0</td>\n",
       "      <td>1.0</td>\n",
       "      <td>1</td>\n",
       "      <td>2</td>\n",
       "      <td>POINT (522819.470 5037936.167)</td>\n",
       "      <td>Southwest</td>\n",
       "    </tr>\n",
       "    <tr>\n",
       "      <th>2927</th>\n",
       "      <td>53649962</td>\n",
       "      <td>New Modern 3 BR Designer Home in Trendy N Will...</td>\n",
       "      <td>35305959</td>\n",
       "      <td>Byron (Hüga Homes)</td>\n",
       "      <td>Humboldt</td>\n",
       "      <td>45.555253</td>\n",
       "      <td>-122.666736</td>\n",
       "      <td>Entire home/apt</td>\n",
       "      <td>203</td>\n",
       "      <td>2</td>\n",
       "      <td>...</td>\n",
       "      <td>5.00</td>\n",
       "      <td>5.00</td>\n",
       "      <td>5.00</td>\n",
       "      <td>1125</td>\n",
       "      <td>3.0</td>\n",
       "      <td>3.0</td>\n",
       "      <td>2.5</td>\n",
       "      <td>7</td>\n",
       "      <td>POINT (526011.408 5044688.981)</td>\n",
       "      <td>North</td>\n",
       "    </tr>\n",
       "    <tr>\n",
       "      <th>2928</th>\n",
       "      <td>53704846</td>\n",
       "      <td>Condo in the heart of Sw Portland</td>\n",
       "      <td>150582690</td>\n",
       "      <td>Shay</td>\n",
       "      <td>South Portland</td>\n",
       "      <td>45.485482</td>\n",
       "      <td>-122.676998</td>\n",
       "      <td>Entire home/apt</td>\n",
       "      <td>180</td>\n",
       "      <td>2</td>\n",
       "      <td>...</td>\n",
       "      <td>5.00</td>\n",
       "      <td>5.00</td>\n",
       "      <td>5.00</td>\n",
       "      <td>365</td>\n",
       "      <td>2.0</td>\n",
       "      <td>2.0</td>\n",
       "      <td>2.5</td>\n",
       "      <td>4</td>\n",
       "      <td>POINT (525241.564 5036934.327)</td>\n",
       "      <td>NaN</td>\n",
       "    </tr>\n",
       "  </tbody>\n",
       "</table>\n",
       "<p>2929 rows × 29 columns</p>\n",
       "</div>"
      ],
      "text/plain": [
       "            id                                               name    host_id  \\\n",
       "0        12899  Alberta Arts 2 bedroom suite, charming 1906 house      49682   \n",
       "1        37676                Mt. Hood View in the Pearl District     162158   \n",
       "2        41601                Grandpa's Bunkhouse-Backyard Studio     179045   \n",
       "3        61893                             Perfect Portland Place     300391   \n",
       "4        65466                                 Mt. Tabor Bungalow     170035   \n",
       "...        ...                                                ...        ...   \n",
       "2924  53623129  Modern, Upgraded Apartment - fast wifi and par...  409693567   \n",
       "2925  53631855              Charming guest suite in  Maywood Park    6921798   \n",
       "2926  53644475  Fantastic Forested Retreat, Open Layout, Multi...   62261998   \n",
       "2927  53649962  New Modern 3 BR Designer Home in Trendy N Will...   35305959   \n",
       "2928  53704846                  Condo in the heart of Sw Portland  150582690   \n",
       "\n",
       "               host_name    neighbourhood   latitude   longitude  \\\n",
       "0          Ali And David        Concordia  45.564880 -122.634180   \n",
       "1                   Paul            Pearl  45.525640 -122.682730   \n",
       "2                   Jean          Roseway  45.548040 -122.585410   \n",
       "3                   Matt     Goose Hollow  45.522580 -122.699550   \n",
       "4                  Scott        Mt. Tabor  45.505440 -122.610410   \n",
       "...                  ...              ...        ...         ...   \n",
       "2924             Patrick            Pearl  45.529118 -122.680400   \n",
       "2925            Meredith     Maywood Park  45.553293 -122.561127   \n",
       "2926     ITrip Vacations  Southwest Hills  45.494583 -122.707945   \n",
       "2927  Byron (Hüga Homes)         Humboldt  45.555253 -122.666736   \n",
       "2928                Shay   South Portland  45.485482 -122.676998   \n",
       "\n",
       "            room_type  price  minimum_nights  ...  review_scores_cleanliness  \\\n",
       "0     Entire home/apt     89               3  ...                       4.98   \n",
       "1     Entire home/apt    140              30  ...                       4.86   \n",
       "2     Entire home/apt    129               3  ...                       4.90   \n",
       "3     Entire home/apt    104              30  ...                       5.00   \n",
       "4        Private room     60               2  ...                       4.95   \n",
       "...               ...    ...             ...  ...                        ...   \n",
       "2924  Entire home/apt    233               1  ...                       5.00   \n",
       "2925  Entire home/apt     64               1  ...                       5.00   \n",
       "2926  Entire home/apt    137               3  ...                       5.00   \n",
       "2927  Entire home/apt    203               2  ...                       5.00   \n",
       "2928  Entire home/apt    180               2  ...                       5.00   \n",
       "\n",
       "      review_scores_accuracy  review_scores_rating  maximum_nights  beds  \\\n",
       "0                       4.94                  4.93             730   2.0   \n",
       "1                       4.86                  4.88             730   1.0   \n",
       "2                       4.90                  4.84              29   1.0   \n",
       "3                       5.00                  5.00             300   1.0   \n",
       "4                       4.95                  4.92              14   1.0   \n",
       "...                      ...                   ...             ...   ...   \n",
       "2924                    5.00                  4.00             365   2.0   \n",
       "2925                    5.00                  5.00             365   1.0   \n",
       "2926                    5.00                  5.00              29   1.0   \n",
       "2927                    5.00                  5.00            1125   3.0   \n",
       "2928                    5.00                  5.00             365   2.0   \n",
       "\n",
       "      bedrooms  bathrooms  accommodates                        geometry  \\\n",
       "0          2.0          1             3  POINT (528547.500 5045769.599)   \n",
       "1          1.0          1             3  POINT (524776.035 5041393.989)   \n",
       "2          1.0          1             2  POINT (532363.029 5043917.214)   \n",
       "3          1.0          1             2  POINT (523463.811 5041048.978)   \n",
       "4          1.0          1             2  POINT (530434.485 5039174.682)   \n",
       "...        ...        ...           ...                             ...   \n",
       "2924       1.0          1             3  POINT (524956.481 5041781.064)   \n",
       "2925       1.0          1             4  POINT (534255.407 5044510.893)   \n",
       "2926       1.0          1             2  POINT (522819.470 5037936.167)   \n",
       "2927       3.0        2.5             7  POINT (526011.408 5044688.981)   \n",
       "2928       2.0        2.5             4  POINT (525241.564 5036934.327)   \n",
       "\n",
       "      Districts  \n",
       "0     Northeast  \n",
       "1       Central  \n",
       "2     Northeast  \n",
       "3           NaN  \n",
       "4     Southeast  \n",
       "...         ...  \n",
       "2924    Central  \n",
       "2925        NaN  \n",
       "2926  Southwest  \n",
       "2927      North  \n",
       "2928        NaN  \n",
       "\n",
       "[2929 rows x 29 columns]"
      ]
     },
     "execution_count": 18,
     "metadata": {},
     "output_type": "execute_result"
    }
   ],
   "source": [
    "join_df = gdf_utm_nonnull.merge(neigh_match_table, how = 'left' , on = 'neighbourhood')\n",
    "join_df"
   ]
  },
  {
   "cell_type": "code",
   "execution_count": 19,
   "id": "f1b2d3fa",
   "metadata": {
    "scrolled": false
   },
   "outputs": [
    {
     "data": {
      "text/plain": [
       "0       0\n",
       "1       0\n",
       "2       0\n",
       "3       1\n",
       "4       0\n",
       "       ..\n",
       "2924    0\n",
       "2925    1\n",
       "2926    0\n",
       "2927    0\n",
       "2928    1\n",
       "Length: 2929, dtype: int64"
      ]
     },
     "execution_count": 19,
     "metadata": {},
     "output_type": "execute_result"
    }
   ],
   "source": [
    "# Check if there are any null values\n",
    "join_df.isnull().sum(axis = 1)"
   ]
  },
  {
   "cell_type": "markdown",
   "id": "08d52699",
   "metadata": {},
   "source": [
    "**Excluding any null values**"
   ]
  },
  {
   "cell_type": "code",
   "execution_count": 20,
   "id": "ea98e657",
   "metadata": {
    "scrolled": true
   },
   "outputs": [
    {
     "data": {
      "text/plain": [
       "id                                  0\n",
       "name                                0\n",
       "host_id                             0\n",
       "host_name                           0\n",
       "neighbourhood                       0\n",
       "latitude                            0\n",
       "longitude                           0\n",
       "room_type                           0\n",
       "price                               0\n",
       "minimum_nights                      0\n",
       "number_of_reviews                   0\n",
       "reviews_per_month                   0\n",
       "calculated_host_listings_count      0\n",
       "availability_365                    0\n",
       "number_of_reviews_ltm               0\n",
       "review_scores_value                 0\n",
       "review_scores_location              0\n",
       "review_scores_communication         0\n",
       "review_scores_checkin               0\n",
       "review_scores_cleanliness           0\n",
       "review_scores_accuracy              0\n",
       "review_scores_rating                0\n",
       "maximum_nights                      0\n",
       "beds                                0\n",
       "bedrooms                            0\n",
       "bathrooms                           3\n",
       "accommodates                        0\n",
       "geometry                            0\n",
       "Districts                         306\n",
       "dtype: int64"
      ]
     },
     "execution_count": 20,
     "metadata": {},
     "output_type": "execute_result"
    }
   ],
   "source": [
    "join_df.isnull().sum(axis = 0)"
   ]
  },
  {
   "cell_type": "code",
   "execution_count": 21,
   "id": "c6873afa",
   "metadata": {},
   "outputs": [],
   "source": [
    "# Define feature list\n",
    "new_feature_list =  ['bedrooms', 'accommodates', \n",
    "                 'beds', 'calculated_host_listings_count', 'id', 'maximum_nights', 'availability_365', 'review_scores_location', 'review_scores_cleanliness', 'latitude', 'review_scores_accuracy', 'review_scores_rating', 'host_id', 'review_scores_communication', 'review_scores_checkin', 'minimum_nights', 'review_scores_value', 'longitude', 'reviews_per_month', 'number_of_reviews_ltm', 'number_of_reviews', 'Districts']"
   ]
  },
  {
   "cell_type": "code",
   "execution_count": 22,
   "id": "201d9cf3",
   "metadata": {},
   "outputs": [],
   "source": [
    "null_join = join_df[new_feature_list].isnull().sum(axis=1)"
   ]
  },
  {
   "cell_type": "code",
   "execution_count": 23,
   "id": "05ca27f6",
   "metadata": {},
   "outputs": [
    {
     "data": {
      "text/plain": [
       "0        True\n",
       "1        True\n",
       "2        True\n",
       "3       False\n",
       "4        True\n",
       "        ...  \n",
       "2924     True\n",
       "2925    False\n",
       "2926     True\n",
       "2927     True\n",
       "2928    False\n",
       "Length: 2929, dtype: bool"
      ]
     },
     "execution_count": 23,
     "metadata": {},
     "output_type": "execute_result"
    }
   ],
   "source": [
    "null_join == 0"
   ]
  },
  {
   "cell_type": "code",
   "execution_count": 25,
   "id": "8201e447",
   "metadata": {},
   "outputs": [],
   "source": [
    "gdf_nonnull_match = join_df.loc[null_join == 0, :]"
   ]
  },
  {
   "cell_type": "code",
   "execution_count": 26,
   "id": "fe2e1ca0",
   "metadata": {
    "scrolled": true
   },
   "outputs": [
    {
     "data": {
      "text/html": [
       "<div>\n",
       "<style scoped>\n",
       "    .dataframe tbody tr th:only-of-type {\n",
       "        vertical-align: middle;\n",
       "    }\n",
       "\n",
       "    .dataframe tbody tr th {\n",
       "        vertical-align: top;\n",
       "    }\n",
       "\n",
       "    .dataframe thead th {\n",
       "        text-align: right;\n",
       "    }\n",
       "</style>\n",
       "<table border=\"1\" class=\"dataframe\">\n",
       "  <thead>\n",
       "    <tr style=\"text-align: right;\">\n",
       "      <th></th>\n",
       "      <th>id</th>\n",
       "      <th>name</th>\n",
       "      <th>host_id</th>\n",
       "      <th>host_name</th>\n",
       "      <th>neighbourhood</th>\n",
       "      <th>latitude</th>\n",
       "      <th>longitude</th>\n",
       "      <th>room_type</th>\n",
       "      <th>price</th>\n",
       "      <th>minimum_nights</th>\n",
       "      <th>...</th>\n",
       "      <th>review_scores_cleanliness</th>\n",
       "      <th>review_scores_accuracy</th>\n",
       "      <th>review_scores_rating</th>\n",
       "      <th>maximum_nights</th>\n",
       "      <th>beds</th>\n",
       "      <th>bedrooms</th>\n",
       "      <th>bathrooms</th>\n",
       "      <th>accommodates</th>\n",
       "      <th>geometry</th>\n",
       "      <th>Districts</th>\n",
       "    </tr>\n",
       "  </thead>\n",
       "  <tbody>\n",
       "    <tr>\n",
       "      <th>0</th>\n",
       "      <td>12899</td>\n",
       "      <td>Alberta Arts 2 bedroom suite, charming 1906 house</td>\n",
       "      <td>49682</td>\n",
       "      <td>Ali And David</td>\n",
       "      <td>Concordia</td>\n",
       "      <td>45.564880</td>\n",
       "      <td>-122.634180</td>\n",
       "      <td>Entire home/apt</td>\n",
       "      <td>89</td>\n",
       "      <td>3</td>\n",
       "      <td>...</td>\n",
       "      <td>4.98</td>\n",
       "      <td>4.94</td>\n",
       "      <td>4.93</td>\n",
       "      <td>730</td>\n",
       "      <td>2.0</td>\n",
       "      <td>2.0</td>\n",
       "      <td>1</td>\n",
       "      <td>3</td>\n",
       "      <td>POINT (528547.500 5045769.599)</td>\n",
       "      <td>Northeast</td>\n",
       "    </tr>\n",
       "    <tr>\n",
       "      <th>1</th>\n",
       "      <td>37676</td>\n",
       "      <td>Mt. Hood View in the Pearl District</td>\n",
       "      <td>162158</td>\n",
       "      <td>Paul</td>\n",
       "      <td>Pearl</td>\n",
       "      <td>45.525640</td>\n",
       "      <td>-122.682730</td>\n",
       "      <td>Entire home/apt</td>\n",
       "      <td>140</td>\n",
       "      <td>30</td>\n",
       "      <td>...</td>\n",
       "      <td>4.86</td>\n",
       "      <td>4.86</td>\n",
       "      <td>4.88</td>\n",
       "      <td>730</td>\n",
       "      <td>1.0</td>\n",
       "      <td>1.0</td>\n",
       "      <td>1</td>\n",
       "      <td>3</td>\n",
       "      <td>POINT (524776.035 5041393.989)</td>\n",
       "      <td>Central</td>\n",
       "    </tr>\n",
       "    <tr>\n",
       "      <th>2</th>\n",
       "      <td>41601</td>\n",
       "      <td>Grandpa's Bunkhouse-Backyard Studio</td>\n",
       "      <td>179045</td>\n",
       "      <td>Jean</td>\n",
       "      <td>Roseway</td>\n",
       "      <td>45.548040</td>\n",
       "      <td>-122.585410</td>\n",
       "      <td>Entire home/apt</td>\n",
       "      <td>129</td>\n",
       "      <td>3</td>\n",
       "      <td>...</td>\n",
       "      <td>4.90</td>\n",
       "      <td>4.90</td>\n",
       "      <td>4.84</td>\n",
       "      <td>29</td>\n",
       "      <td>1.0</td>\n",
       "      <td>1.0</td>\n",
       "      <td>1</td>\n",
       "      <td>2</td>\n",
       "      <td>POINT (532363.029 5043917.214)</td>\n",
       "      <td>Northeast</td>\n",
       "    </tr>\n",
       "    <tr>\n",
       "      <th>4</th>\n",
       "      <td>65466</td>\n",
       "      <td>Mt. Tabor Bungalow</td>\n",
       "      <td>170035</td>\n",
       "      <td>Scott</td>\n",
       "      <td>Mt. Tabor</td>\n",
       "      <td>45.505440</td>\n",
       "      <td>-122.610410</td>\n",
       "      <td>Private room</td>\n",
       "      <td>60</td>\n",
       "      <td>2</td>\n",
       "      <td>...</td>\n",
       "      <td>4.95</td>\n",
       "      <td>4.95</td>\n",
       "      <td>4.92</td>\n",
       "      <td>14</td>\n",
       "      <td>1.0</td>\n",
       "      <td>1.0</td>\n",
       "      <td>1</td>\n",
       "      <td>2</td>\n",
       "      <td>POINT (530434.485 5039174.682)</td>\n",
       "      <td>Southeast</td>\n",
       "    </tr>\n",
       "    <tr>\n",
       "      <th>5</th>\n",
       "      <td>67036</td>\n",
       "      <td>Historic Home Located in Central City</td>\n",
       "      <td>329777</td>\n",
       "      <td>Will</td>\n",
       "      <td>Sullivan's Gulch</td>\n",
       "      <td>45.531030</td>\n",
       "      <td>-122.644480</td>\n",
       "      <td>Entire home/apt</td>\n",
       "      <td>425</td>\n",
       "      <td>4</td>\n",
       "      <td>...</td>\n",
       "      <td>5.00</td>\n",
       "      <td>5.00</td>\n",
       "      <td>4.93</td>\n",
       "      <td>365</td>\n",
       "      <td>5.0</td>\n",
       "      <td>4.0</td>\n",
       "      <td>2</td>\n",
       "      <td>12</td>\n",
       "      <td>POINT (527760.376 5042005.319)</td>\n",
       "      <td>Northeast</td>\n",
       "    </tr>\n",
       "    <tr>\n",
       "      <th>...</th>\n",
       "      <td>...</td>\n",
       "      <td>...</td>\n",
       "      <td>...</td>\n",
       "      <td>...</td>\n",
       "      <td>...</td>\n",
       "      <td>...</td>\n",
       "      <td>...</td>\n",
       "      <td>...</td>\n",
       "      <td>...</td>\n",
       "      <td>...</td>\n",
       "      <td>...</td>\n",
       "      <td>...</td>\n",
       "      <td>...</td>\n",
       "      <td>...</td>\n",
       "      <td>...</td>\n",
       "      <td>...</td>\n",
       "      <td>...</td>\n",
       "      <td>...</td>\n",
       "      <td>...</td>\n",
       "      <td>...</td>\n",
       "      <td>...</td>\n",
       "    </tr>\n",
       "    <tr>\n",
       "      <th>2921</th>\n",
       "      <td>53474842</td>\n",
       "      <td>The Garden Cottage on Broadway ~ 94 WalkScore ~</td>\n",
       "      <td>113868705</td>\n",
       "      <td>Darise</td>\n",
       "      <td>Irvington</td>\n",
       "      <td>45.536460</td>\n",
       "      <td>-122.647340</td>\n",
       "      <td>Entire home/apt</td>\n",
       "      <td>87</td>\n",
       "      <td>1</td>\n",
       "      <td>...</td>\n",
       "      <td>4.50</td>\n",
       "      <td>4.50</td>\n",
       "      <td>3.50</td>\n",
       "      <td>14</td>\n",
       "      <td>1.0</td>\n",
       "      <td>1.0</td>\n",
       "      <td>1</td>\n",
       "      <td>2</td>\n",
       "      <td>POINT (527534.406 5042607.595)</td>\n",
       "      <td>Northeast</td>\n",
       "    </tr>\n",
       "    <tr>\n",
       "      <th>2923</th>\n",
       "      <td>53574604</td>\n",
       "      <td>Room available in se Portland</td>\n",
       "      <td>433867437</td>\n",
       "      <td>Shamal</td>\n",
       "      <td>Centennial</td>\n",
       "      <td>45.514220</td>\n",
       "      <td>-122.487852</td>\n",
       "      <td>Private room</td>\n",
       "      <td>39</td>\n",
       "      <td>1</td>\n",
       "      <td>...</td>\n",
       "      <td>3.33</td>\n",
       "      <td>4.33</td>\n",
       "      <td>4.00</td>\n",
       "      <td>5</td>\n",
       "      <td>1.0</td>\n",
       "      <td>1.0</td>\n",
       "      <td>1</td>\n",
       "      <td>2</td>\n",
       "      <td>POINT (540002.426 5040203.859)</td>\n",
       "      <td>Southwest</td>\n",
       "    </tr>\n",
       "    <tr>\n",
       "      <th>2924</th>\n",
       "      <td>53623129</td>\n",
       "      <td>Modern, Upgraded Apartment - fast wifi and par...</td>\n",
       "      <td>409693567</td>\n",
       "      <td>Patrick</td>\n",
       "      <td>Pearl</td>\n",
       "      <td>45.529118</td>\n",
       "      <td>-122.680400</td>\n",
       "      <td>Entire home/apt</td>\n",
       "      <td>233</td>\n",
       "      <td>1</td>\n",
       "      <td>...</td>\n",
       "      <td>5.00</td>\n",
       "      <td>5.00</td>\n",
       "      <td>4.00</td>\n",
       "      <td>365</td>\n",
       "      <td>2.0</td>\n",
       "      <td>1.0</td>\n",
       "      <td>1</td>\n",
       "      <td>3</td>\n",
       "      <td>POINT (524956.481 5041781.064)</td>\n",
       "      <td>Central</td>\n",
       "    </tr>\n",
       "    <tr>\n",
       "      <th>2926</th>\n",
       "      <td>53644475</td>\n",
       "      <td>Fantastic Forested Retreat, Open Layout, Multi...</td>\n",
       "      <td>62261998</td>\n",
       "      <td>ITrip Vacations</td>\n",
       "      <td>Southwest Hills</td>\n",
       "      <td>45.494583</td>\n",
       "      <td>-122.707945</td>\n",
       "      <td>Entire home/apt</td>\n",
       "      <td>137</td>\n",
       "      <td>3</td>\n",
       "      <td>...</td>\n",
       "      <td>5.00</td>\n",
       "      <td>5.00</td>\n",
       "      <td>5.00</td>\n",
       "      <td>29</td>\n",
       "      <td>1.0</td>\n",
       "      <td>1.0</td>\n",
       "      <td>1</td>\n",
       "      <td>2</td>\n",
       "      <td>POINT (522819.470 5037936.167)</td>\n",
       "      <td>Southwest</td>\n",
       "    </tr>\n",
       "    <tr>\n",
       "      <th>2927</th>\n",
       "      <td>53649962</td>\n",
       "      <td>New Modern 3 BR Designer Home in Trendy N Will...</td>\n",
       "      <td>35305959</td>\n",
       "      <td>Byron (Hüga Homes)</td>\n",
       "      <td>Humboldt</td>\n",
       "      <td>45.555253</td>\n",
       "      <td>-122.666736</td>\n",
       "      <td>Entire home/apt</td>\n",
       "      <td>203</td>\n",
       "      <td>2</td>\n",
       "      <td>...</td>\n",
       "      <td>5.00</td>\n",
       "      <td>5.00</td>\n",
       "      <td>5.00</td>\n",
       "      <td>1125</td>\n",
       "      <td>3.0</td>\n",
       "      <td>3.0</td>\n",
       "      <td>2.5</td>\n",
       "      <td>7</td>\n",
       "      <td>POINT (526011.408 5044688.981)</td>\n",
       "      <td>North</td>\n",
       "    </tr>\n",
       "  </tbody>\n",
       "</table>\n",
       "<p>2623 rows × 29 columns</p>\n",
       "</div>"
      ],
      "text/plain": [
       "            id                                               name    host_id  \\\n",
       "0        12899  Alberta Arts 2 bedroom suite, charming 1906 house      49682   \n",
       "1        37676                Mt. Hood View in the Pearl District     162158   \n",
       "2        41601                Grandpa's Bunkhouse-Backyard Studio     179045   \n",
       "4        65466                                 Mt. Tabor Bungalow     170035   \n",
       "5        67036              Historic Home Located in Central City     329777   \n",
       "...        ...                                                ...        ...   \n",
       "2921  53474842    The Garden Cottage on Broadway ~ 94 WalkScore ~  113868705   \n",
       "2923  53574604                      Room available in se Portland  433867437   \n",
       "2924  53623129  Modern, Upgraded Apartment - fast wifi and par...  409693567   \n",
       "2926  53644475  Fantastic Forested Retreat, Open Layout, Multi...   62261998   \n",
       "2927  53649962  New Modern 3 BR Designer Home in Trendy N Will...   35305959   \n",
       "\n",
       "               host_name     neighbourhood   latitude   longitude  \\\n",
       "0          Ali And David         Concordia  45.564880 -122.634180   \n",
       "1                   Paul             Pearl  45.525640 -122.682730   \n",
       "2                   Jean           Roseway  45.548040 -122.585410   \n",
       "4                  Scott         Mt. Tabor  45.505440 -122.610410   \n",
       "5                   Will  Sullivan's Gulch  45.531030 -122.644480   \n",
       "...                  ...               ...        ...         ...   \n",
       "2921              Darise         Irvington  45.536460 -122.647340   \n",
       "2923              Shamal        Centennial  45.514220 -122.487852   \n",
       "2924             Patrick             Pearl  45.529118 -122.680400   \n",
       "2926     ITrip Vacations   Southwest Hills  45.494583 -122.707945   \n",
       "2927  Byron (Hüga Homes)          Humboldt  45.555253 -122.666736   \n",
       "\n",
       "            room_type  price  minimum_nights  ...  review_scores_cleanliness  \\\n",
       "0     Entire home/apt     89               3  ...                       4.98   \n",
       "1     Entire home/apt    140              30  ...                       4.86   \n",
       "2     Entire home/apt    129               3  ...                       4.90   \n",
       "4        Private room     60               2  ...                       4.95   \n",
       "5     Entire home/apt    425               4  ...                       5.00   \n",
       "...               ...    ...             ...  ...                        ...   \n",
       "2921  Entire home/apt     87               1  ...                       4.50   \n",
       "2923     Private room     39               1  ...                       3.33   \n",
       "2924  Entire home/apt    233               1  ...                       5.00   \n",
       "2926  Entire home/apt    137               3  ...                       5.00   \n",
       "2927  Entire home/apt    203               2  ...                       5.00   \n",
       "\n",
       "      review_scores_accuracy  review_scores_rating  maximum_nights  beds  \\\n",
       "0                       4.94                  4.93             730   2.0   \n",
       "1                       4.86                  4.88             730   1.0   \n",
       "2                       4.90                  4.84              29   1.0   \n",
       "4                       4.95                  4.92              14   1.0   \n",
       "5                       5.00                  4.93             365   5.0   \n",
       "...                      ...                   ...             ...   ...   \n",
       "2921                    4.50                  3.50              14   1.0   \n",
       "2923                    4.33                  4.00               5   1.0   \n",
       "2924                    5.00                  4.00             365   2.0   \n",
       "2926                    5.00                  5.00              29   1.0   \n",
       "2927                    5.00                  5.00            1125   3.0   \n",
       "\n",
       "      bedrooms  bathrooms  accommodates                        geometry  \\\n",
       "0          2.0          1             3  POINT (528547.500 5045769.599)   \n",
       "1          1.0          1             3  POINT (524776.035 5041393.989)   \n",
       "2          1.0          1             2  POINT (532363.029 5043917.214)   \n",
       "4          1.0          1             2  POINT (530434.485 5039174.682)   \n",
       "5          4.0          2            12  POINT (527760.376 5042005.319)   \n",
       "...        ...        ...           ...                             ...   \n",
       "2921       1.0          1             2  POINT (527534.406 5042607.595)   \n",
       "2923       1.0          1             2  POINT (540002.426 5040203.859)   \n",
       "2924       1.0          1             3  POINT (524956.481 5041781.064)   \n",
       "2926       1.0          1             2  POINT (522819.470 5037936.167)   \n",
       "2927       3.0        2.5             7  POINT (526011.408 5044688.981)   \n",
       "\n",
       "      Districts  \n",
       "0     Northeast  \n",
       "1       Central  \n",
       "2     Northeast  \n",
       "4     Southeast  \n",
       "5     Northeast  \n",
       "...         ...  \n",
       "2921  Northeast  \n",
       "2923  Southwest  \n",
       "2924    Central  \n",
       "2926  Southwest  \n",
       "2927      North  \n",
       "\n",
       "[2623 rows x 29 columns]"
      ]
     },
     "execution_count": 26,
     "metadata": {},
     "output_type": "execute_result"
    }
   ],
   "source": [
    "gdf_nonnull_match"
   ]
  },
  {
   "cell_type": "markdown",
   "id": "d4ba7c10",
   "metadata": {},
   "source": [
    "**Write to csv**"
   ]
  },
  {
   "cell_type": "code",
   "execution_count": 27,
   "id": "567db58f",
   "metadata": {},
   "outputs": [
    {
     "ename": "OSError",
     "evalue": "Cannot save file into a non-existent directory: 'C:\\Users\\littl\\Dropbox (University of Oregon)\\Data'",
     "output_type": "error",
     "traceback": [
      "\u001b[1;31m---------------------------------------------------------------------------\u001b[0m",
      "\u001b[1;31mOSError\u001b[0m                                   Traceback (most recent call last)",
      "Input \u001b[1;32mIn [27]\u001b[0m, in \u001b[0;36m<module>\u001b[1;34m\u001b[0m\n\u001b[0;32m      1\u001b[0m table \u001b[38;5;241m=\u001b[39m pd\u001b[38;5;241m.\u001b[39mDataFrame(gdf_nonnull_match, columns\u001b[38;5;241m=\u001b[39m [\u001b[38;5;124m'\u001b[39m\u001b[38;5;124mid\u001b[39m\u001b[38;5;124m'\u001b[39m, \u001b[38;5;124m'\u001b[39m\u001b[38;5;124mhost_id\u001b[39m\u001b[38;5;124m'\u001b[39m, \u001b[38;5;124m'\u001b[39m\u001b[38;5;124mhost_name\u001b[39m\u001b[38;5;124m'\u001b[39m, \u001b[38;5;124m'\u001b[39m\u001b[38;5;124mname\u001b[39m\u001b[38;5;124m'\u001b[39m, \u001b[38;5;124m'\u001b[39m\u001b[38;5;124mprice\u001b[39m\u001b[38;5;124m'\u001b[39m, \u001b[38;5;124m'\u001b[39m\u001b[38;5;124mbedrooms\u001b[39m\u001b[38;5;124m'\u001b[39m, \u001b[38;5;124m'\u001b[39m\u001b[38;5;124mbeds\u001b[39m\u001b[38;5;124m'\u001b[39m, \u001b[38;5;124m'\u001b[39m\u001b[38;5;124mroom_type\u001b[39m\u001b[38;5;124m'\u001b[39m, \u001b[38;5;124m'\u001b[39m\u001b[38;5;124maccommodates\u001b[39m\u001b[38;5;124m'\u001b[39m, \n\u001b[0;32m      2\u001b[0m                   \u001b[38;5;124m'\u001b[39m\u001b[38;5;124mmaximum_nights\u001b[39m\u001b[38;5;124m'\u001b[39m,\u001b[38;5;124m'\u001b[39m\u001b[38;5;124mminimum_nights\u001b[39m\u001b[38;5;124m'\u001b[39m, \u001b[38;5;124m'\u001b[39m\u001b[38;5;124mavailability_365\u001b[39m\u001b[38;5;124m'\u001b[39m, \u001b[38;5;124m'\u001b[39m\u001b[38;5;124mreview_scores_location\u001b[39m\u001b[38;5;124m'\u001b[39m, \u001b[38;5;124m'\u001b[39m\u001b[38;5;124mcalculated_host_listings_count\u001b[39m\u001b[38;5;124m'\u001b[39m,\u001b[38;5;124m'\u001b[39m\u001b[38;5;124mreview_scores_cleanliness\u001b[39m\u001b[38;5;124m'\u001b[39m, \u001b[38;5;124m'\u001b[39m\u001b[38;5;124mreview_scores_accuracy\u001b[39m\u001b[38;5;124m'\u001b[39m, \u001b[38;5;124m'\u001b[39m\u001b[38;5;124mreview_scores_rating\u001b[39m\u001b[38;5;124m'\u001b[39m, \u001b[38;5;124m'\u001b[39m\u001b[38;5;124mreview_scores_communication\u001b[39m\u001b[38;5;124m'\u001b[39m, \u001b[38;5;124m'\u001b[39m\u001b[38;5;124mreview_scores_checkin\u001b[39m\u001b[38;5;124m'\u001b[39m, \u001b[38;5;124m'\u001b[39m\u001b[38;5;124mreview_scores_value\u001b[39m\u001b[38;5;124m'\u001b[39m, \u001b[38;5;124m'\u001b[39m\u001b[38;5;124mreviews_per_month\u001b[39m\u001b[38;5;124m'\u001b[39m, \u001b[38;5;124m'\u001b[39m\u001b[38;5;124mnumber_of_reviews_ltm\u001b[39m\u001b[38;5;124m'\u001b[39m, \u001b[38;5;124m'\u001b[39m\u001b[38;5;124mnumber_of_reviews\u001b[39m\u001b[38;5;124m'\u001b[39m,\u001b[38;5;124m'\u001b[39m\u001b[38;5;124mlongitude\u001b[39m\u001b[38;5;124m'\u001b[39m,\u001b[38;5;124m'\u001b[39m\u001b[38;5;124mlatitude\u001b[39m\u001b[38;5;124m'\u001b[39m, \u001b[38;5;124m'\u001b[39m\u001b[38;5;124mgeometry\u001b[39m\u001b[38;5;124m'\u001b[39m,\u001b[38;5;124m'\u001b[39m\u001b[38;5;124mneighbourhood\u001b[39m\u001b[38;5;124m'\u001b[39m,\u001b[38;5;124m'\u001b[39m\u001b[38;5;124mDistricts\u001b[39m\u001b[38;5;124m'\u001b[39m])\n\u001b[1;32m----> 4\u001b[0m \u001b[43mtable\u001b[49m\u001b[38;5;241;43m.\u001b[39;49m\u001b[43mto_csv\u001b[49m\u001b[43m \u001b[49m\u001b[43m(\u001b[49m\u001b[38;5;124;43mr\u001b[39;49m\u001b[38;5;124;43m'\u001b[39;49m\u001b[38;5;124;43mC:/Users/littl/Dropbox (University of Oregon)/Data/D_listings.csv\u001b[39;49m\u001b[38;5;124;43m'\u001b[39;49m\u001b[43m,\u001b[49m\u001b[43m \u001b[49m\u001b[43mindex\u001b[49m\u001b[43m \u001b[49m\u001b[38;5;241;43m=\u001b[39;49m\u001b[43m \u001b[49m\u001b[38;5;28;43;01mFalse\u001b[39;49;00m\u001b[43m,\u001b[49m\u001b[43m \u001b[49m\u001b[43mheader\u001b[49m\u001b[38;5;241;43m=\u001b[39;49m\u001b[38;5;28;43;01mTrue\u001b[39;49;00m\u001b[43m)\u001b[49m\n\u001b[0;32m      6\u001b[0m \u001b[38;5;28mprint\u001b[39m (table)\n",
      "File \u001b[1;32m~\\anaconda3\\envs\\Final\\lib\\site-packages\\pandas\\core\\generic.py:3563\u001b[0m, in \u001b[0;36mNDFrame.to_csv\u001b[1;34m(self, path_or_buf, sep, na_rep, float_format, columns, header, index, index_label, mode, encoding, compression, quoting, quotechar, line_terminator, chunksize, date_format, doublequote, escapechar, decimal, errors, storage_options)\u001b[0m\n\u001b[0;32m   3552\u001b[0m df \u001b[38;5;241m=\u001b[39m \u001b[38;5;28mself\u001b[39m \u001b[38;5;28;01mif\u001b[39;00m \u001b[38;5;28misinstance\u001b[39m(\u001b[38;5;28mself\u001b[39m, ABCDataFrame) \u001b[38;5;28;01melse\u001b[39;00m \u001b[38;5;28mself\u001b[39m\u001b[38;5;241m.\u001b[39mto_frame()\n\u001b[0;32m   3554\u001b[0m formatter \u001b[38;5;241m=\u001b[39m DataFrameFormatter(\n\u001b[0;32m   3555\u001b[0m     frame\u001b[38;5;241m=\u001b[39mdf,\n\u001b[0;32m   3556\u001b[0m     header\u001b[38;5;241m=\u001b[39mheader,\n\u001b[1;32m   (...)\u001b[0m\n\u001b[0;32m   3560\u001b[0m     decimal\u001b[38;5;241m=\u001b[39mdecimal,\n\u001b[0;32m   3561\u001b[0m )\n\u001b[1;32m-> 3563\u001b[0m \u001b[38;5;28;01mreturn\u001b[39;00m \u001b[43mDataFrameRenderer\u001b[49m\u001b[43m(\u001b[49m\u001b[43mformatter\u001b[49m\u001b[43m)\u001b[49m\u001b[38;5;241;43m.\u001b[39;49m\u001b[43mto_csv\u001b[49m\u001b[43m(\u001b[49m\n\u001b[0;32m   3564\u001b[0m \u001b[43m    \u001b[49m\u001b[43mpath_or_buf\u001b[49m\u001b[43m,\u001b[49m\n\u001b[0;32m   3565\u001b[0m \u001b[43m    \u001b[49m\u001b[43mline_terminator\u001b[49m\u001b[38;5;241;43m=\u001b[39;49m\u001b[43mline_terminator\u001b[49m\u001b[43m,\u001b[49m\n\u001b[0;32m   3566\u001b[0m \u001b[43m    \u001b[49m\u001b[43msep\u001b[49m\u001b[38;5;241;43m=\u001b[39;49m\u001b[43msep\u001b[49m\u001b[43m,\u001b[49m\n\u001b[0;32m   3567\u001b[0m \u001b[43m    \u001b[49m\u001b[43mencoding\u001b[49m\u001b[38;5;241;43m=\u001b[39;49m\u001b[43mencoding\u001b[49m\u001b[43m,\u001b[49m\n\u001b[0;32m   3568\u001b[0m \u001b[43m    \u001b[49m\u001b[43merrors\u001b[49m\u001b[38;5;241;43m=\u001b[39;49m\u001b[43merrors\u001b[49m\u001b[43m,\u001b[49m\n\u001b[0;32m   3569\u001b[0m \u001b[43m    \u001b[49m\u001b[43mcompression\u001b[49m\u001b[38;5;241;43m=\u001b[39;49m\u001b[43mcompression\u001b[49m\u001b[43m,\u001b[49m\n\u001b[0;32m   3570\u001b[0m \u001b[43m    \u001b[49m\u001b[43mquoting\u001b[49m\u001b[38;5;241;43m=\u001b[39;49m\u001b[43mquoting\u001b[49m\u001b[43m,\u001b[49m\n\u001b[0;32m   3571\u001b[0m \u001b[43m    \u001b[49m\u001b[43mcolumns\u001b[49m\u001b[38;5;241;43m=\u001b[39;49m\u001b[43mcolumns\u001b[49m\u001b[43m,\u001b[49m\n\u001b[0;32m   3572\u001b[0m \u001b[43m    \u001b[49m\u001b[43mindex_label\u001b[49m\u001b[38;5;241;43m=\u001b[39;49m\u001b[43mindex_label\u001b[49m\u001b[43m,\u001b[49m\n\u001b[0;32m   3573\u001b[0m \u001b[43m    \u001b[49m\u001b[43mmode\u001b[49m\u001b[38;5;241;43m=\u001b[39;49m\u001b[43mmode\u001b[49m\u001b[43m,\u001b[49m\n\u001b[0;32m   3574\u001b[0m \u001b[43m    \u001b[49m\u001b[43mchunksize\u001b[49m\u001b[38;5;241;43m=\u001b[39;49m\u001b[43mchunksize\u001b[49m\u001b[43m,\u001b[49m\n\u001b[0;32m   3575\u001b[0m \u001b[43m    \u001b[49m\u001b[43mquotechar\u001b[49m\u001b[38;5;241;43m=\u001b[39;49m\u001b[43mquotechar\u001b[49m\u001b[43m,\u001b[49m\n\u001b[0;32m   3576\u001b[0m \u001b[43m    \u001b[49m\u001b[43mdate_format\u001b[49m\u001b[38;5;241;43m=\u001b[39;49m\u001b[43mdate_format\u001b[49m\u001b[43m,\u001b[49m\n\u001b[0;32m   3577\u001b[0m \u001b[43m    \u001b[49m\u001b[43mdoublequote\u001b[49m\u001b[38;5;241;43m=\u001b[39;49m\u001b[43mdoublequote\u001b[49m\u001b[43m,\u001b[49m\n\u001b[0;32m   3578\u001b[0m \u001b[43m    \u001b[49m\u001b[43mescapechar\u001b[49m\u001b[38;5;241;43m=\u001b[39;49m\u001b[43mescapechar\u001b[49m\u001b[43m,\u001b[49m\n\u001b[0;32m   3579\u001b[0m \u001b[43m    \u001b[49m\u001b[43mstorage_options\u001b[49m\u001b[38;5;241;43m=\u001b[39;49m\u001b[43mstorage_options\u001b[49m\u001b[43m,\u001b[49m\n\u001b[0;32m   3580\u001b[0m \u001b[43m\u001b[49m\u001b[43m)\u001b[49m\n",
      "File \u001b[1;32m~\\anaconda3\\envs\\Final\\lib\\site-packages\\pandas\\io\\formats\\format.py:1180\u001b[0m, in \u001b[0;36mDataFrameRenderer.to_csv\u001b[1;34m(self, path_or_buf, encoding, sep, columns, index_label, mode, compression, quoting, quotechar, line_terminator, chunksize, date_format, doublequote, escapechar, errors, storage_options)\u001b[0m\n\u001b[0;32m   1159\u001b[0m     created_buffer \u001b[38;5;241m=\u001b[39m \u001b[38;5;28;01mFalse\u001b[39;00m\n\u001b[0;32m   1161\u001b[0m csv_formatter \u001b[38;5;241m=\u001b[39m CSVFormatter(\n\u001b[0;32m   1162\u001b[0m     path_or_buf\u001b[38;5;241m=\u001b[39mpath_or_buf,\n\u001b[0;32m   1163\u001b[0m     line_terminator\u001b[38;5;241m=\u001b[39mline_terminator,\n\u001b[1;32m   (...)\u001b[0m\n\u001b[0;32m   1178\u001b[0m     formatter\u001b[38;5;241m=\u001b[39m\u001b[38;5;28mself\u001b[39m\u001b[38;5;241m.\u001b[39mfmt,\n\u001b[0;32m   1179\u001b[0m )\n\u001b[1;32m-> 1180\u001b[0m \u001b[43mcsv_formatter\u001b[49m\u001b[38;5;241;43m.\u001b[39;49m\u001b[43msave\u001b[49m\u001b[43m(\u001b[49m\u001b[43m)\u001b[49m\n\u001b[0;32m   1182\u001b[0m \u001b[38;5;28;01mif\u001b[39;00m created_buffer:\n\u001b[0;32m   1183\u001b[0m     \u001b[38;5;28;01massert\u001b[39;00m \u001b[38;5;28misinstance\u001b[39m(path_or_buf, StringIO)\n",
      "File \u001b[1;32m~\\anaconda3\\envs\\Final\\lib\\site-packages\\pandas\\io\\formats\\csvs.py:241\u001b[0m, in \u001b[0;36mCSVFormatter.save\u001b[1;34m(self)\u001b[0m\n\u001b[0;32m    237\u001b[0m \u001b[38;5;124;03m\"\"\"\u001b[39;00m\n\u001b[0;32m    238\u001b[0m \u001b[38;5;124;03mCreate the writer & save.\u001b[39;00m\n\u001b[0;32m    239\u001b[0m \u001b[38;5;124;03m\"\"\"\u001b[39;00m\n\u001b[0;32m    240\u001b[0m \u001b[38;5;66;03m# apply compression and byte/text conversion\u001b[39;00m\n\u001b[1;32m--> 241\u001b[0m \u001b[38;5;28;01mwith\u001b[39;00m \u001b[43mget_handle\u001b[49m\u001b[43m(\u001b[49m\n\u001b[0;32m    242\u001b[0m \u001b[43m    \u001b[49m\u001b[38;5;28;43mself\u001b[39;49m\u001b[38;5;241;43m.\u001b[39;49m\u001b[43mfilepath_or_buffer\u001b[49m\u001b[43m,\u001b[49m\n\u001b[0;32m    243\u001b[0m \u001b[43m    \u001b[49m\u001b[38;5;28;43mself\u001b[39;49m\u001b[38;5;241;43m.\u001b[39;49m\u001b[43mmode\u001b[49m\u001b[43m,\u001b[49m\n\u001b[0;32m    244\u001b[0m \u001b[43m    \u001b[49m\u001b[43mencoding\u001b[49m\u001b[38;5;241;43m=\u001b[39;49m\u001b[38;5;28;43mself\u001b[39;49m\u001b[38;5;241;43m.\u001b[39;49m\u001b[43mencoding\u001b[49m\u001b[43m,\u001b[49m\n\u001b[0;32m    245\u001b[0m \u001b[43m    \u001b[49m\u001b[43merrors\u001b[49m\u001b[38;5;241;43m=\u001b[39;49m\u001b[38;5;28;43mself\u001b[39;49m\u001b[38;5;241;43m.\u001b[39;49m\u001b[43merrors\u001b[49m\u001b[43m,\u001b[49m\n\u001b[0;32m    246\u001b[0m \u001b[43m    \u001b[49m\u001b[43mcompression\u001b[49m\u001b[38;5;241;43m=\u001b[39;49m\u001b[38;5;28;43mself\u001b[39;49m\u001b[38;5;241;43m.\u001b[39;49m\u001b[43mcompression\u001b[49m\u001b[43m,\u001b[49m\n\u001b[0;32m    247\u001b[0m \u001b[43m    \u001b[49m\u001b[43mstorage_options\u001b[49m\u001b[38;5;241;43m=\u001b[39;49m\u001b[38;5;28;43mself\u001b[39;49m\u001b[38;5;241;43m.\u001b[39;49m\u001b[43mstorage_options\u001b[49m\u001b[43m,\u001b[49m\n\u001b[0;32m    248\u001b[0m \u001b[43m\u001b[49m\u001b[43m)\u001b[49m \u001b[38;5;28;01mas\u001b[39;00m handles:\n\u001b[0;32m    249\u001b[0m \n\u001b[0;32m    250\u001b[0m     \u001b[38;5;66;03m# Note: self.encoding is irrelevant here\u001b[39;00m\n\u001b[0;32m    251\u001b[0m     \u001b[38;5;28mself\u001b[39m\u001b[38;5;241m.\u001b[39mwriter \u001b[38;5;241m=\u001b[39m csvlib\u001b[38;5;241m.\u001b[39mwriter(\n\u001b[0;32m    252\u001b[0m         handles\u001b[38;5;241m.\u001b[39mhandle,\n\u001b[0;32m    253\u001b[0m         lineterminator\u001b[38;5;241m=\u001b[39m\u001b[38;5;28mself\u001b[39m\u001b[38;5;241m.\u001b[39mline_terminator,\n\u001b[1;32m   (...)\u001b[0m\n\u001b[0;32m    258\u001b[0m         quotechar\u001b[38;5;241m=\u001b[39m\u001b[38;5;28mself\u001b[39m\u001b[38;5;241m.\u001b[39mquotechar,\n\u001b[0;32m    259\u001b[0m     )\n\u001b[0;32m    261\u001b[0m     \u001b[38;5;28mself\u001b[39m\u001b[38;5;241m.\u001b[39m_save()\n",
      "File \u001b[1;32m~\\anaconda3\\envs\\Final\\lib\\site-packages\\pandas\\io\\common.py:697\u001b[0m, in \u001b[0;36mget_handle\u001b[1;34m(path_or_buf, mode, encoding, compression, memory_map, is_text, errors, storage_options)\u001b[0m\n\u001b[0;32m    695\u001b[0m \u001b[38;5;66;03m# Only for write methods\u001b[39;00m\n\u001b[0;32m    696\u001b[0m \u001b[38;5;28;01mif\u001b[39;00m \u001b[38;5;124m\"\u001b[39m\u001b[38;5;124mr\u001b[39m\u001b[38;5;124m\"\u001b[39m \u001b[38;5;129;01mnot\u001b[39;00m \u001b[38;5;129;01min\u001b[39;00m mode \u001b[38;5;129;01mand\u001b[39;00m is_path:\n\u001b[1;32m--> 697\u001b[0m     \u001b[43mcheck_parent_directory\u001b[49m\u001b[43m(\u001b[49m\u001b[38;5;28;43mstr\u001b[39;49m\u001b[43m(\u001b[49m\u001b[43mhandle\u001b[49m\u001b[43m)\u001b[49m\u001b[43m)\u001b[49m\n\u001b[0;32m    699\u001b[0m \u001b[38;5;28;01mif\u001b[39;00m compression:\n\u001b[0;32m    700\u001b[0m     \u001b[38;5;28;01mif\u001b[39;00m compression \u001b[38;5;241m!=\u001b[39m \u001b[38;5;124m\"\u001b[39m\u001b[38;5;124mzstd\u001b[39m\u001b[38;5;124m\"\u001b[39m:\n\u001b[0;32m    701\u001b[0m         \u001b[38;5;66;03m# compression libraries do not like an explicit text-mode\u001b[39;00m\n",
      "File \u001b[1;32m~\\anaconda3\\envs\\Final\\lib\\site-packages\\pandas\\io\\common.py:571\u001b[0m, in \u001b[0;36mcheck_parent_directory\u001b[1;34m(path)\u001b[0m\n\u001b[0;32m    569\u001b[0m parent \u001b[38;5;241m=\u001b[39m Path(path)\u001b[38;5;241m.\u001b[39mparent\n\u001b[0;32m    570\u001b[0m \u001b[38;5;28;01mif\u001b[39;00m \u001b[38;5;129;01mnot\u001b[39;00m parent\u001b[38;5;241m.\u001b[39mis_dir():\n\u001b[1;32m--> 571\u001b[0m     \u001b[38;5;28;01mraise\u001b[39;00m \u001b[38;5;167;01mOSError\u001b[39;00m(\u001b[38;5;124mfr\u001b[39m\u001b[38;5;124m\"\u001b[39m\u001b[38;5;124mCannot save file into a non-existent directory: \u001b[39m\u001b[38;5;124m'\u001b[39m\u001b[38;5;132;01m{\u001b[39;00mparent\u001b[38;5;132;01m}\u001b[39;00m\u001b[38;5;124m'\u001b[39m\u001b[38;5;124m\"\u001b[39m)\n",
      "\u001b[1;31mOSError\u001b[0m: Cannot save file into a non-existent directory: 'C:\\Users\\littl\\Dropbox (University of Oregon)\\Data'"
     ]
    }
   ],
   "source": [
    "table = pd.DataFrame(gdf_nonnull_match, columns= ['id', 'host_id', 'host_name', 'name', 'price', 'bedrooms', 'beds', 'room_type', 'accommodates', \n",
    "                  'maximum_nights','minimum_nights', 'availability_365', 'review_scores_location', 'calculated_host_listings_count','review_scores_cleanliness', 'review_scores_accuracy', 'review_scores_rating', 'review_scores_communication', 'review_scores_checkin', 'review_scores_value', 'reviews_per_month', 'number_of_reviews_ltm', 'number_of_reviews','longitude','latitude', 'geometry','neighbourhood','Districts'])\n",
    "\n",
    "table.to_csv (r'C:/Users/littl/Dropbox (University of Oregon)/Data/D_listings.csv', index = False, header=True)\n",
    "\n",
    "print (table)"
   ]
  },
  {
   "cell_type": "markdown",
   "id": "8f16e9a1",
   "metadata": {},
   "source": [
    "# Central District"
   ]
  },
  {
   "cell_type": "markdown",
   "id": "1ca6d7c9",
   "metadata": {},
   "source": [
    "**Bring in csv of District for regressor**"
   ]
  },
  {
   "cell_type": "code",
   "execution_count": 29,
   "id": "74ef6657",
   "metadata": {},
   "outputs": [],
   "source": [
    "# Import data\n",
    "df_central = pd.read_csv('C:/Users/clynn/Documents/Geog490-Top/neigh_central.csv')"
   ]
  },
  {
   "cell_type": "code",
   "execution_count": 30,
   "id": "c700b4cb",
   "metadata": {},
   "outputs": [],
   "source": [
    "# Convert DataFrame to GeoDataFrame\n",
    "gdf_central = gpd.GeoDataFrame(df_central, geometry=gpd.points_from_xy(df_central['longitude'], df_central['latitude']))\n",
    "gdf_central = gdf_central.set_crs(4326, allow_override=True)\n",
    "\n",
    "# Reproject everything to UTM 10N (EPSG:32610)\n",
    "gdf_utm_c = gdf_central.to_crs('EPSG:32610')"
   ]
  },
  {
   "cell_type": "code",
   "execution_count": 31,
   "id": "39aca349",
   "metadata": {},
   "outputs": [],
   "source": [
    "# Define feature list\n",
    "feature_list =  ['bedrooms', 'accommodates', \n",
    "                 'beds', 'calculated_host_listings_count', 'id', 'maximum_nights', 'availability_365', 'review_scores_location', 'review_scores_cleanliness', 'latitude', 'review_scores_accuracy', 'review_scores_rating', 'host_id', 'review_scores_communication', 'review_scores_checkin', 'minimum_nights', 'review_scores_value', 'longitude', 'reviews_per_month', 'number_of_reviews_ltm', 'number_of_reviews']"
   ]
  },
  {
   "cell_type": "markdown",
   "id": "2acd3463",
   "metadata": {},
   "source": [
    "**Forest Regressor**"
   ]
  },
  {
   "cell_type": "code",
   "execution_count": 32,
   "id": "d90c0611",
   "metadata": {},
   "outputs": [],
   "source": [
    "# Define features and labels \n",
    "X_central = gdf_utm_c[feature_list]\n",
    "y_central = gdf_utm_c['price']\n",
    "\n",
    "# Standarize data\n",
    "scaler_central = StandardScaler()  \n",
    "X_scaled_central = scaler_central.fit_transform(X_central)"
   ]
  },
  {
   "cell_type": "code",
   "execution_count": 33,
   "id": "a520e75b",
   "metadata": {},
   "outputs": [],
   "source": [
    "# Split data \n",
    "X_central_train, X_central_test, y_central_train, y_central_test = train_test_split(X_scaled_central, y_central, test_size=0.2, random_state=42)"
   ]
  },
  {
   "cell_type": "code",
   "execution_count": 34,
   "id": "7226a993",
   "metadata": {},
   "outputs": [
    {
     "data": {
      "text/plain": [
       "RandomForestRegressor(n_estimators=30)"
      ]
     },
     "execution_count": 34,
     "metadata": {},
     "output_type": "execute_result"
    }
   ],
   "source": [
    "# Define model\n",
    "forest_reg_central = RandomForestRegressor(n_estimators = 30)\n",
    "\n",
    "# Fit model\n",
    "forest_reg_central.fit(X_central_train, y_central_train)"
   ]
  },
  {
   "cell_type": "markdown",
   "id": "cad8d7ee",
   "metadata": {},
   "source": [
    "### Evaluate the Model"
   ]
  },
  {
   "cell_type": "code",
   "execution_count": 35,
   "id": "b79bb446",
   "metadata": {},
   "outputs": [
    {
     "data": {
      "text/plain": [
       "43.29834199773804"
      ]
     },
     "execution_count": 35,
     "metadata": {},
     "output_type": "execute_result"
    }
   ],
   "source": [
    "# Predict test labels predictions\n",
    "predictions_central = forest_reg_central.predict(X_central_test)\n",
    "\n",
    "# Compute mean-squared-error\n",
    "final_mse_central = mean_squared_error(y_central_test , predictions_central)\n",
    "final_rmse_central = np.sqrt(final_mse_central)\n",
    "final_rmse_central\n",
    "\n",
    "# output number is the number of errors\n",
    "# the lower the number the better the model"
   ]
  },
  {
   "cell_type": "markdown",
   "id": "7c3fbfff",
   "metadata": {},
   "source": [
    "### Plot"
   ]
  },
  {
   "cell_type": "code",
   "execution_count": 36,
   "id": "ae3feaaf",
   "metadata": {},
   "outputs": [
    {
     "data": {
      "text/plain": [
       "(0.0, 340.0)"
      ]
     },
     "execution_count": 36,
     "metadata": {},
     "output_type": "execute_result"
    },
    {
     "data": {
      "image/png": "[encoded data removed]",
      "text/plain": [
       "<Figure size 576x432 with 1 Axes>"
      ]
     },
     "metadata": {
      "needs_background": "light"
     },
     "output_type": "display_data"
    }
   ],
   "source": [
    "# Plot\n",
    "fig, ax = plt.subplots(figsize=(8, 6))\n",
    "ax.scatter(y_central_test, predictions_central, alpha=0.1, s=50, zorder=2)\n",
    "ax.plot([0,340], [0, 340], color='k', lw=1, zorder=3)\n",
    "ax.set_ylabel('Predicted AirBnB price ($)', fontsize=14)\n",
    "ax.set_xlabel('Observed AirBnB price ($)', fontsize=14)\n",
    "ax.tick_params(axis='both', which='major', labelsize=13)\n",
    "ax.grid(ls='dashed', lw=1, zorder=1)\n",
    "ax.set_ylim(0,340)\n",
    "ax.set_xlim(0,340)"
   ]
  },
  {
   "cell_type": "code",
   "execution_count": 35,
   "id": "c7495b9d",
   "metadata": {},
   "outputs": [],
   "source": [
    "# Rooms per house\n",
    "gdf_utm_c['rooms_per_bedroom'] = gdf_utm_c['beds'] / gdf_utm_c['bedrooms']"
   ]
  },
  {
   "cell_type": "code",
   "execution_count": 36,
   "id": "377cbfe4",
   "metadata": {},
   "outputs": [],
   "source": [
    "gdf_utm_c['accuracy_per_num_reviews'] = gdf_utm_c['review_scores_accuracy'] / gdf_utm_c['number_of_reviews_ltm']"
   ]
  },
  {
   "cell_type": "code",
   "execution_count": 37,
   "id": "5a7a7d3f",
   "metadata": {},
   "outputs": [],
   "source": [
    "gdf_utm_c['communication_per_num_reviews'] = gdf_utm_c['review_scores_communication'] / gdf_utm_c['number_of_reviews_ltm']"
   ]
  },
  {
   "cell_type": "code",
   "execution_count": 38,
   "id": "0beae57f",
   "metadata": {},
   "outputs": [],
   "source": [
    "gdf_utm_c['cleanliness_per_num_reviews'] = gdf_utm_c['review_scores_cleanliness'] / gdf_utm_c['number_of_reviews_ltm']"
   ]
  },
  {
   "cell_type": "code",
   "execution_count": 39,
   "id": "9b499fa1",
   "metadata": {},
   "outputs": [],
   "source": [
    "gdf_utm_c['value_per_num_reviews'] = gdf_utm_c['review_scores_value'] / gdf_utm_c['number_of_reviews_ltm']"
   ]
  },
  {
   "cell_type": "code",
   "execution_count": 40,
   "id": "0fce6ec7",
   "metadata": {},
   "outputs": [],
   "source": [
    "gdf_utm_c['checkin_per_num_reviews'] = gdf_utm_c['review_scores_checkin'] / gdf_utm_c['number_of_reviews_ltm']"
   ]
  },
  {
   "cell_type": "code",
   "execution_count": 41,
   "id": "dd38eb5a",
   "metadata": {},
   "outputs": [],
   "source": [
    "gdf_utm_c['rating_per_num_reviews'] = gdf_utm_c['review_scores_rating'] / gdf_utm_c['number_of_reviews_ltm']"
   ]
  },
  {
   "cell_type": "code",
   "execution_count": 43,
   "id": "bdb3c75a",
   "metadata": {},
   "outputs": [],
   "source": [
    "gdf_utm_c['location_per_num_reviews'] = gdf_utm_c['review_scores_location'] / gdf_utm_c['number_of_reviews_ltm']"
   ]
  },
  {
   "cell_type": "code",
   "execution_count": 44,
   "id": "6b7f1bd3",
   "metadata": {
    "scrolled": false
   },
   "outputs": [
    {
     "data": {
      "text/plain": [
       "price                             1.000000\n",
       "bedrooms                          0.392771\n",
       "accommodates                      0.369610\n",
       "calculated_host_listings_count    0.326944\n",
       "beds                              0.326214\n",
       "host_id                           0.247307\n",
       "latitude                          0.243940\n",
       "id                                0.227499\n",
       "review_scores_cleanliness         0.064679\n",
       "location_per_num_reviews          0.063471\n",
       "value_per_num_reviews             0.060947\n",
       "cleanliness_per_num_reviews       0.051938\n",
       "communication_per_num_reviews     0.051925\n",
       "rating_per_num_reviews            0.048474\n",
       "maximum_nights                    0.037571\n",
       "checkin_per_num_reviews           0.025431\n",
       "review_scores_location           -0.009437\n",
       "availability_365                 -0.039039\n",
       "number_of_reviews_ltm            -0.051617\n",
       "review_scores_accuracy           -0.075635\n",
       "review_scores_communication      -0.087145\n",
       "reviews_per_month                -0.090419\n",
       "review_scores_value              -0.094305\n",
       "review_scores_checkin            -0.137839\n",
       "review_scores_rating             -0.143886\n",
       "number_of_reviews                -0.165085\n",
       "minimum_nights                   -0.233066\n",
       "longitude                        -0.276235\n",
       "Name: price, dtype: float64"
      ]
     },
     "execution_count": 44,
     "metadata": {},
     "output_type": "execute_result"
    }
   ],
   "source": [
    "# Compute correlation matrix\n",
    "corr_matrix_central = gdf_utm_c.corr()\n",
    "\n",
    "# Display just house value correlations\n",
    "corr_matrix_central[\"price\"].sort_values(ascending= False)"
   ]
  },
  {
   "cell_type": "markdown",
   "id": "96ac72c7",
   "metadata": {},
   "source": [
    "**Check new features**"
   ]
  },
  {
   "cell_type": "code",
   "execution_count": 151,
   "id": "8943d930",
   "metadata": {},
   "outputs": [],
   "source": [
    "# Split data \n",
    "X_central_train, X_central_test, y_central_train, y_central_test = train_test_split(X_scaled_central, y_central, test_size=0.2, random_state=42)"
   ]
  },
  {
   "cell_type": "code",
   "execution_count": 152,
   "id": "3dd4521a",
   "metadata": {},
   "outputs": [
    {
     "data": {
      "text/plain": [
       "RandomForestRegressor(n_estimators=30)"
      ]
     },
     "execution_count": 152,
     "metadata": {},
     "output_type": "execute_result"
    }
   ],
   "source": [
    "# Define model\n",
    "forest_reg_central1 = RandomForestRegressor(n_estimators = 30)\n",
    "\n",
    "# Fit model\n",
    "forest_reg_central1.fit(X_central_train, y_central_train)"
   ]
  },
  {
   "cell_type": "code",
   "execution_count": 153,
   "id": "a19481ca",
   "metadata": {},
   "outputs": [
    {
     "data": {
      "text/plain": [
       "34.44836268036588"
      ]
     },
     "execution_count": 153,
     "metadata": {},
     "output_type": "execute_result"
    }
   ],
   "source": [
    "# Predict test labels predictions\n",
    "predictions_central1 = forest_reg_central1.predict(X_central_test)\n",
    "\n",
    "# Compute mean-squared-error\n",
    "final_mse_central = mean_squared_error(y_central_test , predictions_central1)\n",
    "final_rmse_central = np.sqrt(final_mse_central)\n",
    "final_rmse_central\n",
    "\n",
    "# output number is the number of errors\n",
    "# the lower the number the better the model"
   ]
  },
  {
   "cell_type": "code",
   "execution_count": 154,
   "id": "8e64ac44",
   "metadata": {},
   "outputs": [
    {
     "data": {
      "text/plain": [
       "(0.0, 340.0)"
      ]
     },
     "execution_count": 154,
     "metadata": {},
     "output_type": "execute_result"
    },
    {
     "data": {
      "image/png": "[encoded data removed]",
      "text/plain": [
       "<Figure size 576x432 with 1 Axes>"
      ]
     },
     "metadata": {
      "needs_background": "light"
     },
     "output_type": "display_data"
    }
   ],
   "source": [
    "# Plot\n",
    "fig, ax = plt.subplots(figsize=(8, 6))\n",
    "ax.scatter(y_central_test, predictions_central1, alpha=0.1, s=50, zorder=2)\n",
    "ax.plot([0,340], [0, 340], color='k', lw=1, zorder=3)\n",
    "ax.set_ylabel('Predicted AirBnB price ($)', fontsize=14)\n",
    "ax.set_xlabel('Observed AirBnB price ($)', fontsize=14)\n",
    "ax.tick_params(axis='both', which='major', labelsize=13)\n",
    "ax.grid(ls='dashed', lw=1, zorder=1)\n",
    "ax.set_ylim(0,340)\n",
    "ax.set_xlim(0,340)"
   ]
  },
  {
   "cell_type": "markdown",
   "id": "c83e12ef",
   "metadata": {},
   "source": [
    "**end of Central district**"
   ]
  },
  {
   "cell_type": "markdown",
   "id": "d2f7d25c",
   "metadata": {},
   "source": [
    "# East District"
   ]
  },
  {
   "cell_type": "markdown",
   "id": "b90e6299",
   "metadata": {},
   "source": [
    "**Bring in csv of District for regressor**"
   ]
  },
  {
   "cell_type": "code",
   "execution_count": 45,
   "id": "63395ee3",
   "metadata": {},
   "outputs": [],
   "source": [
    "# Import data\n",
    "df_east = pd.read_csv('C:/Users/clynn/Documents/Geog490-Top/neigh_east.csv')"
   ]
  },
  {
   "cell_type": "code",
   "execution_count": 46,
   "id": "967a9b7d",
   "metadata": {},
   "outputs": [],
   "source": [
    "# Convert DataFrame to GeoDataFrame\n",
    "gdf_east = gpd.GeoDataFrame(df_east, geometry=gpd.points_from_xy(df_east['longitude'], df_east['latitude']))\n",
    "gdf_east = gdf_east.set_crs(4326, allow_override=True)\n",
    "\n",
    "# Reproject everything to UTM 10N (EPSG:32610)\n",
    "gdf_utm_e = gdf_east.to_crs('EPSG:32610')"
   ]
  },
  {
   "cell_type": "code",
   "execution_count": 47,
   "id": "5553e2e8",
   "metadata": {},
   "outputs": [],
   "source": [
    "# Define feature list\n",
    "feature_list =  ['bedrooms', 'accommodates', \n",
    "                 'beds', 'calculated_host_listings_count', 'id', 'maximum_nights', 'availability_365', 'review_scores_location', 'review_scores_cleanliness', 'latitude', 'review_scores_accuracy', 'review_scores_rating', 'host_id', 'review_scores_communication', 'review_scores_checkin', 'minimum_nights', 'review_scores_value', 'longitude', 'reviews_per_month', 'number_of_reviews_ltm', 'number_of_reviews']"
   ]
  },
  {
   "cell_type": "markdown",
   "id": "73ee414d",
   "metadata": {},
   "source": [
    "**Forest Regressor**"
   ]
  },
  {
   "cell_type": "code",
   "execution_count": 48,
   "id": "b8077e98",
   "metadata": {},
   "outputs": [],
   "source": [
    "# Define features and labels \n",
    "X_east = gdf_utm_e[feature_list]\n",
    "y_east = gdf_utm_e['price']\n",
    "\n",
    "# Standarize data\n",
    "scaler_east = StandardScaler()  \n",
    "X_scaled_east = scaler_east.fit_transform(X_east)"
   ]
  },
  {
   "cell_type": "code",
   "execution_count": 49,
   "id": "3c64b9a4",
   "metadata": {},
   "outputs": [],
   "source": [
    "# Split data \n",
    "X_east_train, X_east_test, y_east_train, y_east_test = train_test_split(X_scaled_east, y_east, test_size=0.2, random_state=42)"
   ]
  },
  {
   "cell_type": "code",
   "execution_count": 50,
   "id": "cb9dc03c",
   "metadata": {},
   "outputs": [
    {
     "data": {
      "text/plain": [
       "RandomForestRegressor(n_estimators=30)"
      ]
     },
     "execution_count": 50,
     "metadata": {},
     "output_type": "execute_result"
    }
   ],
   "source": [
    "# Define model\n",
    "forest_reg_east = RandomForestRegressor(n_estimators = 30)\n",
    "\n",
    "# Fit model\n",
    "forest_reg_east.fit(X_east_train, y_east_train)"
   ]
  },
  {
   "cell_type": "markdown",
   "id": "84ba2325",
   "metadata": {},
   "source": [
    "### Evaluate the Model"
   ]
  },
  {
   "cell_type": "code",
   "execution_count": 51,
   "id": "92e679db",
   "metadata": {},
   "outputs": [
    {
     "data": {
      "text/plain": [
       "184.99036515997315"
      ]
     },
     "execution_count": 51,
     "metadata": {},
     "output_type": "execute_result"
    }
   ],
   "source": [
    "# Predict test labels predictions\n",
    "predictions_east = forest_reg_east.predict(X_east_test)\n",
    "\n",
    "# Compute mean-squared-error\n",
    "final_mse_east = mean_squared_error(y_east_test , predictions_east)\n",
    "final_rmse_east = np.sqrt(final_mse_east)\n",
    "final_rmse_east\n",
    "\n",
    "# output number is the number of errors\n",
    "# the lower the number the better the model"
   ]
  },
  {
   "cell_type": "markdown",
   "id": "f131969c",
   "metadata": {},
   "source": [
    "### Plot"
   ]
  },
  {
   "cell_type": "code",
   "execution_count": 45,
   "id": "226bf861",
   "metadata": {},
   "outputs": [
    {
     "data": {
      "text/plain": [
       "(0.0, 340.0)"
      ]
     },
     "execution_count": 45,
     "metadata": {},
     "output_type": "execute_result"
    },
    {
     "data": {
      "image/png": "[encoded data removed]",
      "text/plain": [
       "<Figure size 576x432 with 1 Axes>"
      ]
     },
     "metadata": {
      "needs_background": "light"
     },
     "output_type": "display_data"
    }
   ],
   "source": [
    "# Plot\n",
    "fig, ax = plt.subplots(figsize=(8, 6))\n",
    "ax.scatter(y_east_test, predictions_east, alpha=0.1, s=50, zorder=2)\n",
    "ax.plot([0,340], [0, 340], color='k', lw=1, zorder=3)\n",
    "ax.set_ylabel('Predicted AirBnB price ($)', fontsize=14)\n",
    "ax.set_xlabel('Observed AirBnB price ($)', fontsize=14)\n",
    "ax.tick_params(axis='both', which='major', labelsize=13)\n",
    "ax.grid(ls='dashed', lw=1, zorder=1)\n",
    "ax.set_ylim(0,340)\n",
    "ax.set_xlim(0,340)"
   ]
  },
  {
   "cell_type": "code",
   "execution_count": 56,
   "id": "225373af",
   "metadata": {},
   "outputs": [],
   "source": [
    "# Rooms per house\n",
    "gdf_utm_e['rooms_per_bedroom'] = gdf_utm_e['beds'] / gdf_utm_e['bedrooms']"
   ]
  },
  {
   "cell_type": "code",
   "execution_count": 57,
   "id": "3a3e997f",
   "metadata": {},
   "outputs": [],
   "source": [
    "gdf_utm_e['accuracy_per_num_reviews'] = gdf_utm_e['review_scores_accuracy'] / gdf_utm_e['number_of_reviews_ltm']"
   ]
  },
  {
   "cell_type": "code",
   "execution_count": 58,
   "id": "6b77aeaa",
   "metadata": {},
   "outputs": [],
   "source": [
    "gdf_utm_e['communication_per_num_reviews'] = gdf_utm_e['review_scores_communication'] / gdf_utm_e['number_of_reviews_ltm']"
   ]
  },
  {
   "cell_type": "code",
   "execution_count": 55,
   "id": "2b0cdcda",
   "metadata": {},
   "outputs": [],
   "source": [
    "gdf_utm_e['cleanliness_per_num_reviews'] = gdf_utm_e['review_scores_cleanliness'] / gdf_utm_e['number_of_reviews_ltm']"
   ]
  },
  {
   "cell_type": "code",
   "execution_count": 60,
   "id": "bb9efbb4",
   "metadata": {},
   "outputs": [],
   "source": [
    "gdf_utm_e['value_per_num_reviews'] = gdf_utm_e['review_scores_value'] / gdf_utm_e['number_of_reviews_ltm']"
   ]
  },
  {
   "cell_type": "code",
   "execution_count": 61,
   "id": "a78d45e7",
   "metadata": {},
   "outputs": [],
   "source": [
    "gdf_utm_e['checkin_per_num_reviews'] = gdf_utm_e['review_scores_checkin'] / gdf_utm_e['number_of_reviews_ltm']"
   ]
  },
  {
   "cell_type": "code",
   "execution_count": 62,
   "id": "02ce889d",
   "metadata": {},
   "outputs": [],
   "source": [
    "gdf_utm_e['rating_per_num_reviews'] = gdf_utm_e['review_scores_rating'] / gdf_utm_e['number_of_reviews_ltm']"
   ]
  },
  {
   "cell_type": "code",
   "execution_count": 63,
   "id": "637d8396",
   "metadata": {},
   "outputs": [],
   "source": [
    "gdf_utm_e['location_per_num_reviews'] = gdf_utm_e['review_scores_location'] / gdf_utm_e['number_of_reviews_ltm']"
   ]
  },
  {
   "cell_type": "code",
   "execution_count": 64,
   "id": "8c5155d4",
   "metadata": {
    "scrolled": false
   },
   "outputs": [
    {
     "data": {
      "text/plain": [
       "price                             1.000000\n",
       "beds                              0.703230\n",
       "bedrooms                          0.687006\n",
       "accommodates                      0.618873\n",
       "rooms_per_bedroom                 0.177237\n",
       "availability_365                  0.086867\n",
       "latitude                          0.083872\n",
       "host_id                           0.070026\n",
       "review_scores_communication       0.066604\n",
       "review_scores_checkin             0.060828\n",
       "review_scores_rating              0.032571\n",
       "review_scores_cleanliness         0.020313\n",
       "review_scores_accuracy            0.015816\n",
       "calculated_host_listings_count   -0.000494\n",
       "review_scores_location           -0.021235\n",
       "longitude                        -0.040823\n",
       "id                               -0.041882\n",
       "review_scores_value              -0.045506\n",
       "communication_per_num_reviews    -0.093178\n",
       "rating_per_num_reviews           -0.093820\n",
       "checkin_per_num_reviews          -0.094131\n",
       "accuracy_per_num_reviews         -0.095442\n",
       "value_per_num_reviews            -0.098990\n",
       "location_per_num_reviews         -0.100221\n",
       "number_of_reviews_ltm            -0.109074\n",
       "maximum_nights                   -0.110805\n",
       "number_of_reviews                -0.118016\n",
       "reviews_per_month                -0.124074\n",
       "minimum_nights                   -0.141837\n",
       "Name: price, dtype: float64"
      ]
     },
     "execution_count": 64,
     "metadata": {},
     "output_type": "execute_result"
    }
   ],
   "source": [
    "# Compute correlation matrix\n",
    "corr_matrix_east = gdf_utm_e.corr()\n",
    "\n",
    "# Display just house value correlations\n",
    "corr_matrix_east[\"price\"].sort_values(ascending= False)"
   ]
  },
  {
   "cell_type": "markdown",
   "id": "438c0df3",
   "metadata": {},
   "source": [
    "**Check new features**"
   ]
  },
  {
   "cell_type": "code",
   "execution_count": 155,
   "id": "dce0ead8",
   "metadata": {},
   "outputs": [],
   "source": [
    "# Split data \n",
    "X_east_train, X_east_test, y_east_train, y_east_test = train_test_split(X_scaled_east, y_east, test_size=0.2, random_state=42)"
   ]
  },
  {
   "cell_type": "code",
   "execution_count": 156,
   "id": "9ffe4b0c",
   "metadata": {},
   "outputs": [
    {
     "data": {
      "text/plain": [
       "RandomForestRegressor(n_estimators=30)"
      ]
     },
     "execution_count": 156,
     "metadata": {},
     "output_type": "execute_result"
    }
   ],
   "source": [
    "# Define model\n",
    "forest_reg_east2 = RandomForestRegressor(n_estimators = 30)\n",
    "\n",
    "# Fit model\n",
    "forest_reg_east2.fit(X_east_train, y_east_train)"
   ]
  },
  {
   "cell_type": "code",
   "execution_count": 157,
   "id": "371d0d43",
   "metadata": {},
   "outputs": [
    {
     "data": {
      "text/plain": [
       "201.70158513121422"
      ]
     },
     "execution_count": 157,
     "metadata": {},
     "output_type": "execute_result"
    }
   ],
   "source": [
    "# Predict test labels predictions\n",
    "predictions_east2 = forest_reg_east2.predict(X_east_test)\n",
    "\n",
    "# Compute mean-squared-error\n",
    "final_mse_east = mean_squared_error(y_east_test , predictions_east2)\n",
    "final_rmse_east = np.sqrt(final_mse_east)\n",
    "final_rmse_east\n",
    "\n",
    "# output number is the number of errors\n",
    "# the lower the number the better the model"
   ]
  },
  {
   "cell_type": "code",
   "execution_count": 158,
   "id": "9f96c00d",
   "metadata": {},
   "outputs": [
    {
     "data": {
      "text/plain": [
       "(0.0, 340.0)"
      ]
     },
     "execution_count": 158,
     "metadata": {},
     "output_type": "execute_result"
    },
    {
     "data": {
      "image/png": "[encoded data removed]",
      "text/plain": [
       "<Figure size 576x432 with 1 Axes>"
      ]
     },
     "metadata": {
      "needs_background": "light"
     },
     "output_type": "display_data"
    }
   ],
   "source": [
    "# Plot\n",
    "fig, ax = plt.subplots(figsize=(8, 6))\n",
    "ax.scatter(y_east_test, predictions_east2, alpha=0.1, s=50, zorder=2)\n",
    "ax.plot([0,340], [0, 340], color='k', lw=1, zorder=3)\n",
    "ax.set_ylabel('Predicted AirBnB price ($)', fontsize=14)\n",
    "ax.set_xlabel('Observed AirBnB price ($)', fontsize=14)\n",
    "ax.tick_params(axis='both', which='major', labelsize=13)\n",
    "ax.grid(ls='dashed', lw=1, zorder=1)\n",
    "ax.set_ylim(0,340)\n",
    "ax.set_xlim(0,340)"
   ]
  },
  {
   "cell_type": "markdown",
   "id": "6392bcff",
   "metadata": {},
   "source": [
    "**end of East district**"
   ]
  },
  {
   "cell_type": "markdown",
   "id": "3f9bb2c6",
   "metadata": {},
   "source": [
    "# North District"
   ]
  },
  {
   "cell_type": "markdown",
   "id": "6a472a26",
   "metadata": {},
   "source": [
    "**Bring in csv of District for regressor**"
   ]
  },
  {
   "cell_type": "code",
   "execution_count": 65,
   "id": "d611dcc8",
   "metadata": {},
   "outputs": [],
   "source": [
    "# Import data\n",
    "df_north = pd.read_csv('C:/Users/clynn/Documents/Geog490-Top/neigh_north.csv')"
   ]
  },
  {
   "cell_type": "code",
   "execution_count": 66,
   "id": "aa8e15a6",
   "metadata": {},
   "outputs": [],
   "source": [
    "# Convert DataFrame to GeoDataFrame\n",
    "gdf_north = gpd.GeoDataFrame(df_north, geometry=gpd.points_from_xy(df_north['longitude'], df_north['latitude']))\n",
    "gdf_north = gdf_north.set_crs(4326, allow_override=True)\n",
    "\n",
    "# Reproject everything to UTM 10N (EPSG:32610)\n",
    "gdf_utm_n = gdf_north.to_crs('EPSG:32610')"
   ]
  },
  {
   "cell_type": "code",
   "execution_count": 67,
   "id": "d0f49651",
   "metadata": {},
   "outputs": [],
   "source": [
    "# Define feature list\n",
    "feature_list =  ['bedrooms', 'accommodates', \n",
    "                 'beds', 'calculated_host_listings_count', 'id', 'maximum_nights', 'availability_365', 'review_scores_location', 'review_scores_cleanliness', 'latitude', 'review_scores_accuracy', 'review_scores_rating', 'host_id', 'review_scores_communication', 'review_scores_checkin', 'minimum_nights', 'review_scores_value', 'longitude', 'reviews_per_month', 'number_of_reviews_ltm', 'number_of_reviews']"
   ]
  },
  {
   "cell_type": "markdown",
   "id": "8a0c0ccf",
   "metadata": {},
   "source": [
    "**Forest Regressor**"
   ]
  },
  {
   "cell_type": "code",
   "execution_count": 68,
   "id": "9e36042b",
   "metadata": {},
   "outputs": [],
   "source": [
    "# Define features and labels \n",
    "X_north = gdf_utm_n[feature_list]\n",
    "y_north = gdf_utm_n['price']\n",
    "\n",
    "# Standarize data\n",
    "scaler_north = StandardScaler()  \n",
    "X_scaled_north = scaler_north.fit_transform(X_north)"
   ]
  },
  {
   "cell_type": "code",
   "execution_count": 69,
   "id": "491705a7",
   "metadata": {},
   "outputs": [],
   "source": [
    "# Split data \n",
    "X_north_train, X_north_test, y_north_train, y_north_test = train_test_split(X_scaled_north, y_north, test_size=0.2, random_state=42)"
   ]
  },
  {
   "cell_type": "code",
   "execution_count": 70,
   "id": "4f4668a1",
   "metadata": {},
   "outputs": [
    {
     "data": {
      "text/plain": [
       "RandomForestRegressor(n_estimators=30)"
      ]
     },
     "execution_count": 70,
     "metadata": {},
     "output_type": "execute_result"
    }
   ],
   "source": [
    "# Define model\n",
    "forest_reg_north = RandomForestRegressor(n_estimators = 30)\n",
    "\n",
    "# Fit model\n",
    "forest_reg_north.fit(X_north_train, y_north_train)"
   ]
  },
  {
   "cell_type": "markdown",
   "id": "f4b6a923",
   "metadata": {},
   "source": [
    "### Evaluate the Model"
   ]
  },
  {
   "cell_type": "code",
   "execution_count": 71,
   "id": "c27585fe",
   "metadata": {},
   "outputs": [
    {
     "data": {
      "text/plain": [
       "70.4230681329103"
      ]
     },
     "execution_count": 71,
     "metadata": {},
     "output_type": "execute_result"
    }
   ],
   "source": [
    "# Predict test labels predictions\n",
    "predictions_north = forest_reg_north.predict(X_north_test)\n",
    "\n",
    "# Compute mean-squared-error\n",
    "final_mse_north = mean_squared_error(y_north_test , predictions_north)\n",
    "final_rmse_north = np.sqrt(final_mse_north)\n",
    "final_rmse_north\n",
    "\n",
    "# output number is the number of errors\n",
    "# the lower the number the better the model"
   ]
  },
  {
   "cell_type": "markdown",
   "id": "4763af87",
   "metadata": {},
   "source": [
    "### Plot"
   ]
  },
  {
   "cell_type": "code",
   "execution_count": 72,
   "id": "6d765b16",
   "metadata": {},
   "outputs": [
    {
     "data": {
      "text/plain": [
       "(0.0, 340.0)"
      ]
     },
     "execution_count": 72,
     "metadata": {},
     "output_type": "execute_result"
    },
    {
     "data": {
      "image/png": "[encoded data removed]",
      "text/plain": [
       "<Figure size 576x432 with 1 Axes>"
      ]
     },
     "metadata": {
      "needs_background": "light"
     },
     "output_type": "display_data"
    }
   ],
   "source": [
    "# Plot\n",
    "fig, ax = plt.subplots(figsize=(8, 6))\n",
    "ax.scatter(y_north_test, predictions_north, alpha=0.1, s=50, zorder=2)\n",
    "ax.plot([0,340], [0, 340], color='k', lw=1, zorder=3)\n",
    "ax.set_ylabel('Predicted AirBnB price ($)', fontsize=14)\n",
    "ax.set_xlabel('Observed AirBnB price ($)', fontsize=14)\n",
    "ax.tick_params(axis='both', which='major', labelsize=13)\n",
    "ax.grid(ls='dashed', lw=1, zorder=1)\n",
    "ax.set_ylim(0,340)\n",
    "ax.set_xlim(0,340)"
   ]
  },
  {
   "cell_type": "code",
   "execution_count": 73,
   "id": "ea1d5ea4",
   "metadata": {},
   "outputs": [],
   "source": [
    "# Rooms per house\n",
    "gdf_utm_n['rooms_per_bedroom'] = gdf_utm_n['beds'] / gdf_utm_n['bedrooms']"
   ]
  },
  {
   "cell_type": "code",
   "execution_count": 74,
   "id": "da479ba1",
   "metadata": {},
   "outputs": [],
   "source": [
    "gdf_utm_n['accuracy_per_num_reviews'] = gdf_utm_n['review_scores_accuracy'] / gdf_utm_n['number_of_reviews_ltm']"
   ]
  },
  {
   "cell_type": "code",
   "execution_count": 75,
   "id": "87caac51",
   "metadata": {},
   "outputs": [],
   "source": [
    "gdf_utm_n['communication_per_num_reviews'] = gdf_utm_n['review_scores_communication'] / gdf_utm_n['number_of_reviews_ltm']"
   ]
  },
  {
   "cell_type": "code",
   "execution_count": 76,
   "id": "e7a71501",
   "metadata": {},
   "outputs": [],
   "source": [
    "gdf_utm_n['cleanliness_per_num_reviews'] = gdf_utm_n['review_scores_cleanliness'] / gdf_utm_n['number_of_reviews_ltm']"
   ]
  },
  {
   "cell_type": "code",
   "execution_count": 77,
   "id": "fdcb9d36",
   "metadata": {},
   "outputs": [],
   "source": [
    "gdf_utm_n['value_per_num_reviews'] = gdf_utm_n['review_scores_value'] / gdf_utm_n['number_of_reviews_ltm']"
   ]
  },
  {
   "cell_type": "code",
   "execution_count": 78,
   "id": "52440802",
   "metadata": {},
   "outputs": [],
   "source": [
    "gdf_utm_n['checkin_per_num_reviews'] = gdf_utm_n['review_scores_checkin'] / gdf_utm_n['number_of_reviews_ltm']"
   ]
  },
  {
   "cell_type": "code",
   "execution_count": 79,
   "id": "803ecba9",
   "metadata": {},
   "outputs": [],
   "source": [
    "gdf_utm_n['rating_per_num_reviews'] = gdf_utm_n['review_scores_rating'] / gdf_utm_n['number_of_reviews_ltm']"
   ]
  },
  {
   "cell_type": "code",
   "execution_count": 80,
   "id": "391a8146",
   "metadata": {},
   "outputs": [],
   "source": [
    "gdf_utm_n['location_per_num_reviews'] = gdf_utm_n['review_scores_location'] / gdf_utm_n['number_of_reviews_ltm']"
   ]
  },
  {
   "cell_type": "code",
   "execution_count": 81,
   "id": "e62222eb",
   "metadata": {
    "scrolled": false
   },
   "outputs": [
    {
     "data": {
      "text/plain": [
       "price                             1.000000\n",
       "accommodates                      0.456018\n",
       "bedrooms                          0.444313\n",
       "beds                              0.413276\n",
       "longitude                         0.085706\n",
       "maximum_nights                    0.059900\n",
       "review_scores_location            0.040232\n",
       "id                                0.038487\n",
       "location_per_num_reviews          0.025779\n",
       "checkin_per_num_reviews           0.021745\n",
       "rating_per_num_reviews            0.020423\n",
       "accuracy_per_num_reviews          0.020207\n",
       "communication_per_num_reviews     0.019100\n",
       "value_per_num_reviews             0.019071\n",
       "cleanliness_per_num_reviews       0.018453\n",
       "host_id                           0.017035\n",
       "rooms_per_bedroom                 0.001633\n",
       "review_scores_checkin             0.000968\n",
       "review_scores_rating             -0.000550\n",
       "availability_365                 -0.005553\n",
       "review_scores_communication      -0.011138\n",
       "review_scores_accuracy           -0.011164\n",
       "review_scores_cleanliness        -0.014719\n",
       "calculated_host_listings_count   -0.014930\n",
       "review_scores_value              -0.036303\n",
       "number_of_reviews_ltm            -0.057390\n",
       "minimum_nights                   -0.060929\n",
       "number_of_reviews                -0.078117\n",
       "reviews_per_month                -0.082091\n",
       "latitude                         -0.110962\n",
       "Name: price, dtype: float64"
      ]
     },
     "execution_count": 81,
     "metadata": {},
     "output_type": "execute_result"
    }
   ],
   "source": [
    "# Compute correlation matrix\n",
    "corr_matrix_north = gdf_utm_n.corr()\n",
    "\n",
    "# Display just house value correlations\n",
    "corr_matrix_north[\"price\"].sort_values(ascending= False)"
   ]
  },
  {
   "cell_type": "markdown",
   "id": "13ccaa98",
   "metadata": {},
   "source": [
    "**Check new features**"
   ]
  },
  {
   "cell_type": "code",
   "execution_count": 159,
   "id": "fd1e23b3",
   "metadata": {},
   "outputs": [],
   "source": [
    "# Split data \n",
    "X_north_train, X_north_test, y_north_train, y_north_test = train_test_split(X_scaled_north, y_north, test_size=0.2, random_state=42)"
   ]
  },
  {
   "cell_type": "code",
   "execution_count": 160,
   "id": "dc57da7c",
   "metadata": {},
   "outputs": [
    {
     "data": {
      "text/plain": [
       "RandomForestRegressor(n_estimators=30)"
      ]
     },
     "execution_count": 160,
     "metadata": {},
     "output_type": "execute_result"
    }
   ],
   "source": [
    "# Define model\n",
    "forest_reg_north2 = RandomForestRegressor(n_estimators = 30)\n",
    "\n",
    "# Fit model\n",
    "forest_reg_north2.fit(X_north_train, y_north_train)"
   ]
  },
  {
   "cell_type": "code",
   "execution_count": 161,
   "id": "1802e6b5",
   "metadata": {},
   "outputs": [
    {
     "data": {
      "text/plain": [
       "74.86160767062314"
      ]
     },
     "execution_count": 161,
     "metadata": {},
     "output_type": "execute_result"
    }
   ],
   "source": [
    "# Predict test labels predictions\n",
    "predictions_north2 = forest_reg_north2.predict(X_north_test)\n",
    "\n",
    "# Compute mean-squared-error\n",
    "final_mse_north = mean_squared_error(y_north_test , predictions_north2)\n",
    "final_rmse_north = np.sqrt(final_mse_north)\n",
    "final_rmse_north\n",
    "\n",
    "# output number is the number of errors\n",
    "# the lower the number the better the model"
   ]
  },
  {
   "cell_type": "code",
   "execution_count": 162,
   "id": "e38bead6",
   "metadata": {},
   "outputs": [
    {
     "data": {
      "text/plain": [
       "(0.0, 340.0)"
      ]
     },
     "execution_count": 162,
     "metadata": {},
     "output_type": "execute_result"
    },
    {
     "data": {
      "image/png": "[encoded data removed]",
      "text/plain": [
       "<Figure size 576x432 with 1 Axes>"
      ]
     },
     "metadata": {
      "needs_background": "light"
     },
     "output_type": "display_data"
    }
   ],
   "source": [
    "# Plot\n",
    "fig, ax = plt.subplots(figsize=(8, 6))\n",
    "ax.scatter(y_north_test, predictions_north2, alpha=0.1, s=50, zorder=2)\n",
    "ax.plot([0,340], [0, 340], color='k', lw=1, zorder=3)\n",
    "ax.set_ylabel('Predicted AirBnB price ($)', fontsize=14)\n",
    "ax.set_xlabel('Observed AirBnB price ($)', fontsize=14)\n",
    "ax.tick_params(axis='both', which='major', labelsize=13)\n",
    "ax.grid(ls='dashed', lw=1, zorder=1)\n",
    "ax.set_ylim(0,340)\n",
    "ax.set_xlim(0,340)"
   ]
  },
  {
   "cell_type": "markdown",
   "id": "844e5e84",
   "metadata": {},
   "source": [
    "**end of North district**"
   ]
  },
  {
   "cell_type": "markdown",
   "id": "d45f61fd",
   "metadata": {},
   "source": [
    "# Northeast District"
   ]
  },
  {
   "cell_type": "code",
   "execution_count": 82,
   "id": "b8e81603",
   "metadata": {},
   "outputs": [],
   "source": [
    "# Import data\n",
    "df_northeast = pd.read_csv('C:/Users/clynn/Documents/Geog490-Top/neigh_northeast.csv')"
   ]
  },
  {
   "cell_type": "code",
   "execution_count": 83,
   "id": "92d0bcac",
   "metadata": {},
   "outputs": [],
   "source": [
    "# Convert DataFrame to GeoDataFrame\n",
    "gdf_northeast = gpd.GeoDataFrame(df_northeast, geometry=gpd.points_from_xy(df_northeast['longitude'], df_northeast['latitude']))\n",
    "gdf_northeast = gdf_northeast.set_crs(4326, allow_override=True)\n",
    "\n",
    "# Reproject everything to UTM 10N (EPSG:32610)\n",
    "gdf_utm_ne = gdf_northeast.to_crs('EPSG:32610')"
   ]
  },
  {
   "cell_type": "code",
   "execution_count": 85,
   "id": "f9ead3ae",
   "metadata": {},
   "outputs": [],
   "source": [
    "# Define feature list\n",
    "feature_list =  ['bedrooms', 'accommodates', \n",
    "                 'beds', 'calculated_host_listings_count', 'id', 'maximum_nights', 'availability_365', 'review_scores_location', 'review_scores_cleanliness', 'latitude', 'review_scores_accuracy', 'review_scores_rating', 'host_id', 'review_scores_communication', 'review_scores_checkin', 'minimum_nights', 'review_scores_value', 'longitude', 'reviews_per_month', 'number_of_reviews_ltm', 'number_of_reviews']"
   ]
  },
  {
   "cell_type": "markdown",
   "id": "06660034",
   "metadata": {},
   "source": [
    "**Forest Regressor**"
   ]
  },
  {
   "cell_type": "code",
   "execution_count": 86,
   "id": "e0c897ee",
   "metadata": {},
   "outputs": [],
   "source": [
    "# Define features and labels \n",
    "X_northeast = gdf_utm_ne[feature_list]\n",
    "y_northeast = gdf_utm_ne['price']\n",
    "\n",
    "# Standarize data\n",
    "scaler_northeast = StandardScaler()  \n",
    "X_scaled_northeast = scaler_northeast.fit_transform(X_northeast)"
   ]
  },
  {
   "cell_type": "code",
   "execution_count": 87,
   "id": "50e76d6a",
   "metadata": {},
   "outputs": [],
   "source": [
    "# Split data \n",
    "X_northeast_train, X_northeast_test, y_northeast_train, y_northeast_test = train_test_split(X_scaled_northeast, y_northeast, test_size=0.2, random_state=42)"
   ]
  },
  {
   "cell_type": "code",
   "execution_count": 88,
   "id": "c7952216",
   "metadata": {},
   "outputs": [
    {
     "data": {
      "text/plain": [
       "RandomForestRegressor(n_estimators=30)"
      ]
     },
     "execution_count": 88,
     "metadata": {},
     "output_type": "execute_result"
    }
   ],
   "source": [
    "# Define model\n",
    "forest_reg_northeast = RandomForestRegressor(n_estimators = 30)\n",
    "\n",
    "# Fit model\n",
    "forest_reg_northeast.fit(X_northeast_train, y_northeast_train)"
   ]
  },
  {
   "cell_type": "markdown",
   "id": "f280edfc",
   "metadata": {},
   "source": [
    "### Evaluate the Model"
   ]
  },
  {
   "cell_type": "code",
   "execution_count": 89,
   "id": "827699de",
   "metadata": {},
   "outputs": [
    {
     "data": {
      "text/plain": [
       "64.61750135591349"
      ]
     },
     "execution_count": 89,
     "metadata": {},
     "output_type": "execute_result"
    }
   ],
   "source": [
    "# Predict test labels predictions\n",
    "predictions_northeast = forest_reg_northeast.predict(X_northeast_test)\n",
    "\n",
    "# Compute mean-squared-error\n",
    "final_mse_northeast = mean_squared_error(y_northeast_test , predictions_northeast)\n",
    "final_rmse_northeast = np.sqrt(final_mse_northeast)\n",
    "final_rmse_northeast\n",
    "\n",
    "# output number is the number of errors\n",
    "# the lower the number the better the model"
   ]
  },
  {
   "cell_type": "markdown",
   "id": "cc2ca972",
   "metadata": {},
   "source": [
    "### Plot"
   ]
  },
  {
   "cell_type": "code",
   "execution_count": 90,
   "id": "2c4663d5",
   "metadata": {},
   "outputs": [
    {
     "data": {
      "text/plain": [
       "(0.0, 340.0)"
      ]
     },
     "execution_count": 90,
     "metadata": {},
     "output_type": "execute_result"
    },
    {
     "data": {
      "image/png": "[encoded data removed]",
      "text/plain": [
       "<Figure size 576x432 with 1 Axes>"
      ]
     },
     "metadata": {
      "needs_background": "light"
     },
     "output_type": "display_data"
    }
   ],
   "source": [
    "# Plot\n",
    "fig, ax = plt.subplots(figsize=(8, 6))\n",
    "ax.scatter(y_northeast_test, predictions_northeast, alpha=0.1, s=50, zorder=2)\n",
    "ax.plot([0,340], [0, 340], color='k', lw=1, zorder=3)\n",
    "ax.set_ylabel('Predicted AirBnB price ($)', fontsize=14)\n",
    "ax.set_xlabel('Observed AirBnB price ($)', fontsize=14)\n",
    "ax.tick_params(axis='both', which='major', labelsize=13)\n",
    "ax.grid(ls='dashed', lw=1, zorder=1)\n",
    "ax.set_ylim(0,340)\n",
    "ax.set_xlim(0,340)"
   ]
  },
  {
   "cell_type": "code",
   "execution_count": 91,
   "id": "b0bdeab9",
   "metadata": {},
   "outputs": [],
   "source": [
    "# Rooms per house\n",
    "gdf_utm_ne['rooms_per_bedroom'] = gdf_utm_ne['beds'] / gdf_utm_ne['bedrooms']"
   ]
  },
  {
   "cell_type": "code",
   "execution_count": 92,
   "id": "27d4a96f",
   "metadata": {},
   "outputs": [],
   "source": [
    "gdf_utm_ne['accuracy_per_num_reviews'] = gdf_utm_ne['review_scores_accuracy'] / gdf_utm_ne['number_of_reviews_ltm']"
   ]
  },
  {
   "cell_type": "code",
   "execution_count": 93,
   "id": "008e4203",
   "metadata": {},
   "outputs": [],
   "source": [
    "gdf_utm_ne['communication_per_num_reviews'] = gdf_utm_ne['review_scores_communication'] / gdf_utm_ne['number_of_reviews_ltm']"
   ]
  },
  {
   "cell_type": "code",
   "execution_count": 94,
   "id": "80a86fd8",
   "metadata": {},
   "outputs": [],
   "source": [
    "gdf_utm_ne['cleanliness_per_num_reviews'] = gdf_utm_ne['review_scores_cleanliness'] / gdf_utm_ne['number_of_reviews_ltm']"
   ]
  },
  {
   "cell_type": "code",
   "execution_count": 95,
   "id": "48d2bdb2",
   "metadata": {},
   "outputs": [],
   "source": [
    "gdf_utm_ne['value_per_num_reviews'] = gdf_utm_ne['review_scores_value'] / gdf_utm_ne['number_of_reviews_ltm']"
   ]
  },
  {
   "cell_type": "code",
   "execution_count": 96,
   "id": "f676a863",
   "metadata": {},
   "outputs": [],
   "source": [
    "gdf_utm_ne['checkin_per_num_reviews'] = gdf_utm_ne['review_scores_checkin'] / gdf_utm_ne['number_of_reviews_ltm']"
   ]
  },
  {
   "cell_type": "code",
   "execution_count": 97,
   "id": "a1172954",
   "metadata": {},
   "outputs": [],
   "source": [
    "gdf_utm_ne['rating_per_num_reviews'] = gdf_utm_ne['review_scores_rating'] / gdf_utm_ne['number_of_reviews_ltm']"
   ]
  },
  {
   "cell_type": "code",
   "execution_count": 98,
   "id": "56485017",
   "metadata": {},
   "outputs": [],
   "source": [
    "gdf_utm_ne['location_per_num_reviews'] = gdf_utm_ne['review_scores_location'] / gdf_utm_ne['number_of_reviews_ltm']"
   ]
  },
  {
   "cell_type": "code",
   "execution_count": 99,
   "id": "6e2e38bc",
   "metadata": {
    "scrolled": false
   },
   "outputs": [
    {
     "data": {
      "text/plain": [
       "price                             1.000000\n",
       "accommodates                      0.639985\n",
       "bedrooms                          0.632535\n",
       "beds                              0.620542\n",
       "maximum_nights                    0.085718\n",
       "calculated_host_listings_count    0.068195\n",
       "availability_365                  0.056160\n",
       "review_scores_rating              0.043994\n",
       "review_scores_location            0.040900\n",
       "review_scores_accuracy            0.025677\n",
       "host_id                           0.016888\n",
       "review_scores_cleanliness         0.015079\n",
       "id                                0.013159\n",
       "latitude                          0.011727\n",
       "review_scores_communication       0.004880\n",
       "minimum_nights                    0.001505\n",
       "rooms_per_bedroom                -0.000057\n",
       "rating_per_num_reviews           -0.000991\n",
       "accuracy_per_num_reviews         -0.001621\n",
       "cleanliness_per_num_reviews      -0.002029\n",
       "location_per_num_reviews         -0.002298\n",
       "communication_per_num_reviews    -0.003632\n",
       "checkin_per_num_reviews          -0.006149\n",
       "value_per_num_reviews            -0.007881\n",
       "review_scores_checkin            -0.016137\n",
       "review_scores_value              -0.081032\n",
       "number_of_reviews                -0.095160\n",
       "number_of_reviews_ltm            -0.102773\n",
       "reviews_per_month                -0.132300\n",
       "longitude                        -0.144889\n",
       "Name: price, dtype: float64"
      ]
     },
     "execution_count": 99,
     "metadata": {},
     "output_type": "execute_result"
    }
   ],
   "source": [
    "# Compute correlation matrix\n",
    "corr_matrix_northeast = gdf_utm_ne.corr()\n",
    "\n",
    "# Display just house value correlations\n",
    "corr_matrix_northeast[\"price\"].sort_values(ascending= False)"
   ]
  },
  {
   "cell_type": "markdown",
   "id": "2769ecaa",
   "metadata": {},
   "source": [
    "**Check new features**"
   ]
  },
  {
   "cell_type": "code",
   "execution_count": 163,
   "id": "dfceaba9",
   "metadata": {},
   "outputs": [],
   "source": [
    "# Split data \n",
    "X_northeast_train, X_northeast_test, y_northeast_train, y_northeast_test = train_test_split(X_scaled_northeast, y_northeast, test_size=0.2, random_state=42)"
   ]
  },
  {
   "cell_type": "code",
   "execution_count": 164,
   "id": "c9be48a4",
   "metadata": {},
   "outputs": [
    {
     "data": {
      "text/plain": [
       "RandomForestRegressor(n_estimators=30)"
      ]
     },
     "execution_count": 164,
     "metadata": {},
     "output_type": "execute_result"
    }
   ],
   "source": [
    "# Define model\n",
    "forest_reg_northeast2 = RandomForestRegressor(n_estimators = 30)\n",
    "\n",
    "# Fit model\n",
    "forest_reg_northeast2.fit(X_northeast_train, y_northeast_train)"
   ]
  },
  {
   "cell_type": "code",
   "execution_count": 165,
   "id": "ea25c059",
   "metadata": {},
   "outputs": [
    {
     "data": {
      "text/plain": [
       "66.8490588315697"
      ]
     },
     "execution_count": 165,
     "metadata": {},
     "output_type": "execute_result"
    }
   ],
   "source": [
    "# Predict test labels predictions\n",
    "predictions_northeast2 = forest_reg_northeast2.predict(X_northeast_test)\n",
    "\n",
    "# Compute mean-squared-error\n",
    "final_mse_northeast = mean_squared_error(y_northeast_test , predictions_northeast2)\n",
    "final_rmse_northeast = np.sqrt(final_mse_northeast)\n",
    "final_rmse_northeast\n",
    "\n",
    "# output number is the number of errors\n",
    "# the lower the number the better the model"
   ]
  },
  {
   "cell_type": "code",
   "execution_count": 166,
   "id": "16241c8d",
   "metadata": {},
   "outputs": [
    {
     "data": {
      "text/plain": [
       "(0.0, 340.0)"
      ]
     },
     "execution_count": 166,
     "metadata": {},
     "output_type": "execute_result"
    },
    {
     "data": {
      "image/png": "[encoded data removed]",
      "text/plain": [
       "<Figure size 576x432 with 1 Axes>"
      ]
     },
     "metadata": {
      "needs_background": "light"
     },
     "output_type": "display_data"
    }
   ],
   "source": [
    "# Plot\n",
    "fig, ax = plt.subplots(figsize=(8, 6))\n",
    "ax.scatter(y_northeast_test, predictions_northeast2, alpha=0.1, s=50, zorder=2)\n",
    "ax.plot([0,340], [0, 340], color='k', lw=1, zorder=3)\n",
    "ax.set_ylabel('Predicted AirBnB price ($)', fontsize=14)\n",
    "ax.set_xlabel('Observed AirBnB price ($)', fontsize=14)\n",
    "ax.tick_params(axis='both', which='major', labelsize=13)\n",
    "ax.grid(ls='dashed', lw=1, zorder=1)\n",
    "ax.set_ylim(0,340)\n",
    "ax.set_xlim(0,340)"
   ]
  },
  {
   "cell_type": "markdown",
   "id": "d5653be4",
   "metadata": {},
   "source": [
    "**end of Central district**"
   ]
  },
  {
   "cell_type": "markdown",
   "id": "13a9e4ef",
   "metadata": {},
   "source": [
    "# Northwest District"
   ]
  },
  {
   "cell_type": "markdown",
   "id": "8b4f1005",
   "metadata": {},
   "source": [
    "**Bring in csv of District for regressor**"
   ]
  },
  {
   "cell_type": "code",
   "execution_count": 100,
   "id": "bab63119",
   "metadata": {},
   "outputs": [],
   "source": [
    "# Import data\n",
    "df_northwest = pd.read_csv('C:/Users/clynn/Documents/Geog490-Top/neigh_northwest.csv')"
   ]
  },
  {
   "cell_type": "code",
   "execution_count": 101,
   "id": "648c231d",
   "metadata": {},
   "outputs": [],
   "source": [
    "# Convert DataFrame to GeoDataFrame\n",
    "gdf_northwest = gpd.GeoDataFrame(df_northwest, geometry=gpd.points_from_xy(df_northwest['longitude'], df_northwest['latitude']))\n",
    "gdf_northwest = gdf_northwest.set_crs(4326, allow_override=True)\n",
    "\n",
    "# Reproject everything to UTM 10N (EPSG:32610)\n",
    "gdf_utm_nw = gdf_northwest.to_crs('EPSG:32610')"
   ]
  },
  {
   "cell_type": "code",
   "execution_count": 102,
   "id": "6df8aed5",
   "metadata": {},
   "outputs": [],
   "source": [
    "# Define feature list\n",
    "feature_list =  ['bedrooms', 'accommodates', \n",
    "                 'beds', 'calculated_host_listings_count', 'id', 'maximum_nights', 'availability_365', 'review_scores_location', 'review_scores_cleanliness', 'latitude', 'review_scores_accuracy', 'review_scores_rating', 'host_id', 'review_scores_communication', 'review_scores_checkin', 'minimum_nights', 'review_scores_value', 'longitude', 'reviews_per_month', 'number_of_reviews_ltm', 'number_of_reviews']"
   ]
  },
  {
   "cell_type": "markdown",
   "id": "44093136",
   "metadata": {},
   "source": [
    "**Forest Regressor**"
   ]
  },
  {
   "cell_type": "code",
   "execution_count": 103,
   "id": "537f7526",
   "metadata": {},
   "outputs": [],
   "source": [
    "# Define features and labels \n",
    "X_northwest = gdf_utm_n[feature_list]\n",
    "y_northwest = gdf_utm_n['price']\n",
    "\n",
    "# Standarize data\n",
    "scaler_northwest = StandardScaler()  \n",
    "X_scaled_northwest = scaler_northwest.fit_transform(X_northwest)"
   ]
  },
  {
   "cell_type": "code",
   "execution_count": 104,
   "id": "8b82904a",
   "metadata": {},
   "outputs": [],
   "source": [
    "# Split data \n",
    "X_northwest_train, X_northwest_test, y_northwest_train, y_northwest_test = train_test_split(X_scaled_northwest, y_northwest, test_size=0.2, random_state=42)"
   ]
  },
  {
   "cell_type": "code",
   "execution_count": 105,
   "id": "defbb616",
   "metadata": {},
   "outputs": [
    {
     "data": {
      "text/plain": [
       "RandomForestRegressor(n_estimators=30)"
      ]
     },
     "execution_count": 105,
     "metadata": {},
     "output_type": "execute_result"
    }
   ],
   "source": [
    "# Define model\n",
    "forest_reg_northwest = RandomForestRegressor(n_estimators = 30)\n",
    "\n",
    "# Fit model\n",
    "forest_reg_northwest.fit(X_northwest_train, y_northwest_train)"
   ]
  },
  {
   "cell_type": "markdown",
   "id": "581245e8",
   "metadata": {},
   "source": [
    "### Evaluate the Model"
   ]
  },
  {
   "cell_type": "code",
   "execution_count": 106,
   "id": "f2d00837",
   "metadata": {},
   "outputs": [
    {
     "data": {
      "text/plain": [
       "70.3254717708881"
      ]
     },
     "execution_count": 106,
     "metadata": {},
     "output_type": "execute_result"
    }
   ],
   "source": [
    "# Predict test labels predictions\n",
    "predictions_northwest = forest_reg_northwest.predict(X_northwest_test)\n",
    "\n",
    "# Compute mean-squared-error\n",
    "final_mse_northwest = mean_squared_error(y_northwest_test , predictions_northwest)\n",
    "final_rmse_northwest = np.sqrt(final_mse_northwest)\n",
    "final_rmse_northwest\n",
    "\n",
    "# output number is the number of errors\n",
    "# the lower the number the better the model"
   ]
  },
  {
   "cell_type": "markdown",
   "id": "69ef1f6b",
   "metadata": {},
   "source": [
    "### Plot"
   ]
  },
  {
   "cell_type": "code",
   "execution_count": 107,
   "id": "85fe747a",
   "metadata": {},
   "outputs": [
    {
     "data": {
      "text/plain": [
       "(0.0, 340.0)"
      ]
     },
     "execution_count": 107,
     "metadata": {},
     "output_type": "execute_result"
    },
    {
     "data": {
      "image/png": "[encoded data removed]",
      "text/plain": [
       "<Figure size 576x432 with 1 Axes>"
      ]
     },
     "metadata": {
      "needs_background": "light"
     },
     "output_type": "display_data"
    }
   ],
   "source": [
    "# Plot\n",
    "fig, ax = plt.subplots(figsize=(8, 6))\n",
    "ax.scatter(y_northwest_test, predictions_northwest, alpha=0.1, s=50, zorder=2)\n",
    "ax.plot([0,340], [0, 340], color='k', lw=1, zorder=3)\n",
    "ax.set_ylabel('Predicted AirBnB price ($)', fontsize=14)\n",
    "ax.set_xlabel('Observed AirBnB price ($)', fontsize=14)\n",
    "ax.tick_params(axis='both', which='major', labelsize=13)\n",
    "ax.grid(ls='dashed', lw=1, zorder=1)\n",
    "ax.set_ylim(0,340)\n",
    "ax.set_xlim(0,340)"
   ]
  },
  {
   "cell_type": "code",
   "execution_count": 108,
   "id": "24ac5f05",
   "metadata": {},
   "outputs": [],
   "source": [
    "# Rooms per house\n",
    "gdf_utm_nw['rooms_per_bedroom'] = gdf_utm_nw['beds'] / gdf_utm_nw['bedrooms']"
   ]
  },
  {
   "cell_type": "code",
   "execution_count": 109,
   "id": "83e80326",
   "metadata": {},
   "outputs": [],
   "source": [
    "gdf_utm_nw['accuracy_per_num_reviews'] = gdf_utm_nw['review_scores_accuracy'] / gdf_utm_nw['number_of_reviews_ltm']"
   ]
  },
  {
   "cell_type": "code",
   "execution_count": 110,
   "id": "d54385f4",
   "metadata": {},
   "outputs": [],
   "source": [
    "gdf_utm_nw['communication_per_num_reviews'] = gdf_utm_nw['review_scores_communication'] / gdf_utm_nw['number_of_reviews_ltm']"
   ]
  },
  {
   "cell_type": "code",
   "execution_count": 111,
   "id": "4f1d5997",
   "metadata": {},
   "outputs": [],
   "source": [
    "gdf_utm_nw['cleanliness_per_num_reviews'] = gdf_utm_nw['review_scores_cleanliness'] / gdf_utm_nw['number_of_reviews_ltm']"
   ]
  },
  {
   "cell_type": "code",
   "execution_count": 112,
   "id": "a1249ab1",
   "metadata": {},
   "outputs": [],
   "source": [
    "gdf_utm_nw['value_per_num_reviews'] = gdf_utm_nw['review_scores_value'] / gdf_utm_nw['number_of_reviews_ltm']"
   ]
  },
  {
   "cell_type": "code",
   "execution_count": 113,
   "id": "0e9ed148",
   "metadata": {},
   "outputs": [],
   "source": [
    "gdf_utm_nw['checkin_per_num_reviews'] = gdf_utm_nw['review_scores_checkin'] / gdf_utm_nw['number_of_reviews_ltm']"
   ]
  },
  {
   "cell_type": "code",
   "execution_count": 114,
   "id": "7dc3dde2",
   "metadata": {},
   "outputs": [],
   "source": [
    "gdf_utm_nw['rating_per_num_reviews'] = gdf_utm_nw['review_scores_rating'] / gdf_utm_nw['number_of_reviews_ltm']"
   ]
  },
  {
   "cell_type": "code",
   "execution_count": 115,
   "id": "6f4ece8e",
   "metadata": {},
   "outputs": [],
   "source": [
    "gdf_utm_nw['location_per_num_reviews'] = gdf_utm_nw['review_scores_location'] / gdf_utm_nw['number_of_reviews_ltm']"
   ]
  },
  {
   "cell_type": "code",
   "execution_count": 116,
   "id": "01014785",
   "metadata": {
    "scrolled": false
   },
   "outputs": [
    {
     "data": {
      "text/plain": [
       "price                             1.000000\n",
       "accommodates                      0.456018\n",
       "bedrooms                          0.444313\n",
       "beds                              0.413276\n",
       "longitude                         0.085706\n",
       "maximum_nights                    0.059900\n",
       "review_scores_location            0.040232\n",
       "id                                0.038487\n",
       "location_per_num_reviews          0.025779\n",
       "checkin_per_num_reviews           0.021745\n",
       "rating_per_num_reviews            0.020423\n",
       "accuracy_per_num_reviews          0.020207\n",
       "communication_per_num_reviews     0.019100\n",
       "value_per_num_reviews             0.019071\n",
       "cleanliness_per_num_reviews       0.018453\n",
       "host_id                           0.017035\n",
       "rooms_per_bedroom                 0.001633\n",
       "review_scores_checkin             0.000968\n",
       "review_scores_rating             -0.000550\n",
       "availability_365                 -0.005553\n",
       "review_scores_communication      -0.011138\n",
       "review_scores_accuracy           -0.011164\n",
       "review_scores_cleanliness        -0.014719\n",
       "calculated_host_listings_count   -0.014930\n",
       "review_scores_value              -0.036303\n",
       "number_of_reviews_ltm            -0.057390\n",
       "minimum_nights                   -0.060929\n",
       "number_of_reviews                -0.078117\n",
       "reviews_per_month                -0.082091\n",
       "latitude                         -0.110962\n",
       "Name: price, dtype: float64"
      ]
     },
     "execution_count": 116,
     "metadata": {},
     "output_type": "execute_result"
    }
   ],
   "source": [
    "# Compute correlation matrix\n",
    "corr_matrix_northwest = gdf_utm_n.corr()\n",
    "\n",
    "# Display just house value correlations\n",
    "corr_matrix_northwest[\"price\"].sort_values(ascending= False)"
   ]
  },
  {
   "cell_type": "markdown",
   "id": "9470c759",
   "metadata": {},
   "source": [
    "**Check new features**"
   ]
  },
  {
   "cell_type": "code",
   "execution_count": 167,
   "id": "77e0cc28",
   "metadata": {},
   "outputs": [],
   "source": [
    "# Split data \n",
    "X_northwest_train, X_northwest_test, y_northwest_train, y_northwest_test = train_test_split(X_scaled_northwest, y_northwest, test_size=0.2, random_state=42)"
   ]
  },
  {
   "cell_type": "code",
   "execution_count": 168,
   "id": "34cf8762",
   "metadata": {},
   "outputs": [
    {
     "data": {
      "text/plain": [
       "RandomForestRegressor(n_estimators=30)"
      ]
     },
     "execution_count": 168,
     "metadata": {},
     "output_type": "execute_result"
    }
   ],
   "source": [
    "# Define model\n",
    "forest_reg_northwest2 = RandomForestRegressor(n_estimators = 30)\n",
    "\n",
    "# Fit model\n",
    "forest_reg_northwest2.fit(X_northwest_train, y_northwest_train)"
   ]
  },
  {
   "cell_type": "code",
   "execution_count": 169,
   "id": "d3d1281e",
   "metadata": {},
   "outputs": [
    {
     "data": {
      "text/plain": [
       "72.4440930384363"
      ]
     },
     "execution_count": 169,
     "metadata": {},
     "output_type": "execute_result"
    }
   ],
   "source": [
    "# Predict test labels predictions\n",
    "predictions_northwest2 = forest_reg_northwest2.predict(X_northwest_test)\n",
    "\n",
    "# Compute mean-squared-error\n",
    "final_mse_northwest = mean_squared_error(y_northwest_test , predictions_northwest2)\n",
    "final_rmse_northwest = np.sqrt(final_mse_northwest)\n",
    "final_rmse_northwest\n",
    "\n",
    "# output number is the number of errors\n",
    "# the lower the number the better the model"
   ]
  },
  {
   "cell_type": "code",
   "execution_count": 170,
   "id": "caf048cd",
   "metadata": {},
   "outputs": [
    {
     "data": {
      "text/plain": [
       "(0.0, 340.0)"
      ]
     },
     "execution_count": 170,
     "metadata": {},
     "output_type": "execute_result"
    },
    {
     "data": {
      "image/png": "[encoded data removed]",
      "text/plain": [
       "<Figure size 576x432 with 1 Axes>"
      ]
     },
     "metadata": {
      "needs_background": "light"
     },
     "output_type": "display_data"
    }
   ],
   "source": [
    "# Plot\n",
    "fig, ax = plt.subplots(figsize=(8, 6))\n",
    "ax.scatter(y_northwest_test, predictions_northwest2, alpha=0.1, s=50, zorder=2)\n",
    "ax.plot([0,340], [0, 340], color='k', lw=1, zorder=3)\n",
    "ax.set_ylabel('Predicted AirBnB price ($)', fontsize=14)\n",
    "ax.set_xlabel('Observed AirBnB price ($)', fontsize=14)\n",
    "ax.tick_params(axis='both', which='major', labelsize=13)\n",
    "ax.grid(ls='dashed', lw=1, zorder=1)\n",
    "ax.set_ylim(0,340)\n",
    "ax.set_xlim(0,340)"
   ]
  },
  {
   "cell_type": "markdown",
   "id": "d2a6435d",
   "metadata": {},
   "source": [
    "**end of Northwest district**"
   ]
  },
  {
   "cell_type": "markdown",
   "id": "a51e86c8",
   "metadata": {},
   "source": [
    "# Southeast District"
   ]
  },
  {
   "cell_type": "markdown",
   "id": "a62514f1",
   "metadata": {},
   "source": [
    "**Bring in csv of District for regressor**"
   ]
  },
  {
   "cell_type": "code",
   "execution_count": 117,
   "id": "92ce9451",
   "metadata": {},
   "outputs": [],
   "source": [
    "# Import data\n",
    "df_southeast = pd.read_csv('C:/Users/clynn/Documents/Geog490-Top/neigh_southeast.csv')"
   ]
  },
  {
   "cell_type": "code",
   "execution_count": 118,
   "id": "a4886509",
   "metadata": {},
   "outputs": [],
   "source": [
    "# Convert DataFrame to GeoDataFrame\n",
    "gdf_southeast = gpd.GeoDataFrame(df_southeast, geometry=gpd.points_from_xy(df_southeast['longitude'], df_southeast['latitude']))\n",
    "gdf_southeast = gdf_southeast.set_crs(4326, allow_override=True)\n",
    "\n",
    "# Reproject everything to UTM 10N (EPSG:32610)\n",
    "gdf_utm_se = gdf_southeast.to_crs('EPSG:32610')"
   ]
  },
  {
   "cell_type": "code",
   "execution_count": 119,
   "id": "12959c13",
   "metadata": {},
   "outputs": [],
   "source": [
    "# Define feature list\n",
    "feature_list =  ['bedrooms', 'accommodates', \n",
    "                 'beds', 'calculated_host_listings_count', 'id', 'maximum_nights', 'availability_365', 'review_scores_location', 'review_scores_cleanliness', 'latitude', 'review_scores_accuracy', 'review_scores_rating', 'host_id', 'review_scores_communication', 'review_scores_checkin', 'minimum_nights', 'review_scores_value', 'longitude', 'reviews_per_month', 'number_of_reviews_ltm', 'number_of_reviews']"
   ]
  },
  {
   "cell_type": "markdown",
   "id": "eb55bde3",
   "metadata": {},
   "source": [
    "**Forest Regressor**"
   ]
  },
  {
   "cell_type": "code",
   "execution_count": 120,
   "id": "aea1e527",
   "metadata": {},
   "outputs": [],
   "source": [
    "# Define features and labels \n",
    "X_southeast = gdf_utm_se[feature_list]\n",
    "y_southeast = gdf_utm_se['price']\n",
    "\n",
    "# Standarize data\n",
    "scaler_southeast = StandardScaler()  \n",
    "X_scaled_southeast = scaler_southeast.fit_transform(X_southeast)"
   ]
  },
  {
   "cell_type": "code",
   "execution_count": 121,
   "id": "7e5eaf35",
   "metadata": {},
   "outputs": [],
   "source": [
    "# Split data \n",
    "X_southeast_train, X_southeast_test, y_southeast_train, y_southeast_test = train_test_split(X_scaled_southeast, y_southeast, test_size=0.2, random_state=42)"
   ]
  },
  {
   "cell_type": "code",
   "execution_count": 122,
   "id": "b80fef93",
   "metadata": {},
   "outputs": [
    {
     "data": {
      "text/plain": [
       "RandomForestRegressor(n_estimators=30)"
      ]
     },
     "execution_count": 122,
     "metadata": {},
     "output_type": "execute_result"
    }
   ],
   "source": [
    "# Define model\n",
    "forest_reg_southeast = RandomForestRegressor(n_estimators = 30)\n",
    "\n",
    "# Fit model\n",
    "forest_reg_southeast.fit(X_north_train, y_north_train)"
   ]
  },
  {
   "cell_type": "markdown",
   "id": "2cee8c44",
   "metadata": {},
   "source": [
    "### Evaluate the Model"
   ]
  },
  {
   "cell_type": "code",
   "execution_count": 123,
   "id": "5e7e0017",
   "metadata": {},
   "outputs": [
    {
     "data": {
      "text/plain": [
       "89.03536706606307"
      ]
     },
     "execution_count": 123,
     "metadata": {},
     "output_type": "execute_result"
    }
   ],
   "source": [
    "# Predict test labels predictions\n",
    "predictions_southeast = forest_reg_southeast.predict(X_southeast_test)\n",
    "\n",
    "# Compute mean-squared-error\n",
    "final_mse_southeast = mean_squared_error(y_southeast_test , predictions_southeast)\n",
    "final_rmse_southeast = np.sqrt(final_mse_southeast)\n",
    "final_rmse_southeast\n",
    "\n",
    "# output number is the number of errors\n",
    "# the lower the number the better the model"
   ]
  },
  {
   "cell_type": "markdown",
   "id": "9a4098cd",
   "metadata": {},
   "source": [
    "### Plot"
   ]
  },
  {
   "cell_type": "code",
   "execution_count": 124,
   "id": "46e87b3c",
   "metadata": {},
   "outputs": [
    {
     "data": {
      "text/plain": [
       "(0.0, 340.0)"
      ]
     },
     "execution_count": 124,
     "metadata": {},
     "output_type": "execute_result"
    },
    {
     "data": {
      "image/png": "[encoded data removed]",
      "text/plain": [
       "<Figure size 576x432 with 1 Axes>"
      ]
     },
     "metadata": {
      "needs_background": "light"
     },
     "output_type": "display_data"
    }
   ],
   "source": [
    "# Plot\n",
    "fig, ax = plt.subplots(figsize=(8, 6))\n",
    "ax.scatter(y_southeast_test, predictions_southeast, alpha=0.1, s=50, zorder=2)\n",
    "ax.plot([0,340], [0, 340], color='k', lw=1, zorder=3)\n",
    "ax.set_ylabel('Predicted AirBnB price ($)', fontsize=14)\n",
    "ax.set_xlabel('Observed AirBnB price ($)', fontsize=14)\n",
    "ax.tick_params(axis='both', which='major', labelsize=13)\n",
    "ax.grid(ls='dashed', lw=1, zorder=1)\n",
    "ax.set_ylim(0,340)\n",
    "ax.set_xlim(0,340)"
   ]
  },
  {
   "cell_type": "code",
   "execution_count": 125,
   "id": "f9073a6a",
   "metadata": {},
   "outputs": [],
   "source": [
    "# Rooms per house\n",
    "gdf_utm_se['rooms_per_bedroom'] = gdf_utm_se['beds'] / gdf_utm_se['bedrooms']"
   ]
  },
  {
   "cell_type": "code",
   "execution_count": 126,
   "id": "8945489a",
   "metadata": {},
   "outputs": [],
   "source": [
    "gdf_utm_se['accuracy_per_num_reviews'] = gdf_utm_se['review_scores_accuracy'] / gdf_utm_se['number_of_reviews_ltm']"
   ]
  },
  {
   "cell_type": "code",
   "execution_count": 127,
   "id": "b8193023",
   "metadata": {},
   "outputs": [],
   "source": [
    "gdf_utm_se['communication_per_num_reviews'] = gdf_utm_se['review_scores_communication'] / gdf_utm_se['number_of_reviews_ltm']"
   ]
  },
  {
   "cell_type": "code",
   "execution_count": 128,
   "id": "2210d7f2",
   "metadata": {},
   "outputs": [],
   "source": [
    "gdf_utm_se['cleanliness_per_num_reviews'] = gdf_utm_se['review_scores_cleanliness'] / gdf_utm_se['number_of_reviews_ltm']"
   ]
  },
  {
   "cell_type": "code",
   "execution_count": 129,
   "id": "1aa9b050",
   "metadata": {},
   "outputs": [],
   "source": [
    "gdf_utm_se['value_per_num_reviews'] = gdf_utm_se['review_scores_value'] / gdf_utm_se['number_of_reviews_ltm']"
   ]
  },
  {
   "cell_type": "code",
   "execution_count": 130,
   "id": "be4b4a3a",
   "metadata": {},
   "outputs": [],
   "source": [
    "gdf_utm_se['checkin_per_num_reviews'] = gdf_utm_se['review_scores_checkin'] / gdf_utm_se['number_of_reviews_ltm']"
   ]
  },
  {
   "cell_type": "code",
   "execution_count": 131,
   "id": "cf21b9a4",
   "metadata": {},
   "outputs": [],
   "source": [
    "gdf_utm_se['rating_per_num_reviews'] = gdf_utm_se['review_scores_rating'] / gdf_utm_se['number_of_reviews_ltm']"
   ]
  },
  {
   "cell_type": "code",
   "execution_count": 132,
   "id": "f5ea3be9",
   "metadata": {},
   "outputs": [],
   "source": [
    "gdf_utm_se['location_per_num_reviews'] = gdf_utm_se['review_scores_location'] / gdf_utm_se['number_of_reviews_ltm']"
   ]
  },
  {
   "cell_type": "code",
   "execution_count": 133,
   "id": "26b41c93",
   "metadata": {
    "scrolled": true
   },
   "outputs": [
    {
     "data": {
      "text/plain": [
       "price                             1.000000\n",
       "bedrooms                          0.608194\n",
       "accommodates                      0.559900\n",
       "beds                              0.483508\n",
       "maximum_nights                    0.105472\n",
       "review_scores_cleanliness         0.064393\n",
       "review_scores_rating              0.062924\n",
       "id                                0.057626\n",
       "review_scores_accuracy            0.042467\n",
       "review_scores_communication       0.026698\n",
       "rooms_per_bedroom                 0.026195\n",
       "latitude                          0.025471\n",
       "cleanliness_per_num_reviews       0.012654\n",
       "rating_per_num_reviews            0.010684\n",
       "value_per_num_reviews             0.010542\n",
       "accuracy_per_num_reviews          0.009826\n",
       "communication_per_num_reviews     0.006545\n",
       "checkin_per_num_reviews           0.006531\n",
       "location_per_num_reviews          0.005206\n",
       "host_id                          -0.007314\n",
       "review_scores_location           -0.007997\n",
       "review_scores_value              -0.019364\n",
       "review_scores_checkin            -0.020017\n",
       "longitude                        -0.038226\n",
       "calculated_host_listings_count   -0.039763\n",
       "availability_365                 -0.061992\n",
       "minimum_nights                   -0.073209\n",
       "number_of_reviews_ltm            -0.094914\n",
       "reviews_per_month                -0.131266\n",
       "number_of_reviews                -0.168736\n",
       "Name: price, dtype: float64"
      ]
     },
     "execution_count": 133,
     "metadata": {},
     "output_type": "execute_result"
    }
   ],
   "source": [
    "# Compute correlation matrix\n",
    "corr_matrix_southeast = gdf_utm_se.corr()\n",
    "\n",
    "# Display just house value correlations\n",
    "corr_matrix_southeast[\"price\"].sort_values(ascending= False)"
   ]
  },
  {
   "cell_type": "markdown",
   "id": "2d6bdb86",
   "metadata": {},
   "source": [
    "**Check new features**"
   ]
  },
  {
   "cell_type": "code",
   "execution_count": 171,
   "id": "59eb37b3",
   "metadata": {},
   "outputs": [],
   "source": [
    "# Split data \n",
    "X_southeast_train, X_southeast_test, y_southeast_train, y_southeast_test = train_test_split(X_scaled_southeast, y_southeast, test_size=0.2, random_state=42)"
   ]
  },
  {
   "cell_type": "code",
   "execution_count": 172,
   "id": "c6ee75e9",
   "metadata": {},
   "outputs": [
    {
     "data": {
      "text/plain": [
       "RandomForestRegressor(n_estimators=30)"
      ]
     },
     "execution_count": 172,
     "metadata": {},
     "output_type": "execute_result"
    }
   ],
   "source": [
    "# Define model\n",
    "forest_reg_southeast2 = RandomForestRegressor(n_estimators = 30)\n",
    "\n",
    "# Fit model\n",
    "forest_reg_southeast2.fit(X_north_train, y_north_train)"
   ]
  },
  {
   "cell_type": "code",
   "execution_count": 173,
   "id": "64bd1949",
   "metadata": {},
   "outputs": [
    {
     "data": {
      "text/plain": [
       "104.26291397822733"
      ]
     },
     "execution_count": 173,
     "metadata": {},
     "output_type": "execute_result"
    }
   ],
   "source": [
    "# Predict test labels predictions\n",
    "predictions_southeast2 = forest_reg_southeast2.predict(X_southeast_test)\n",
    "\n",
    "# Compute mean-squared-error\n",
    "final_mse_southeast = mean_squared_error(y_southeast_test , predictions_southeast2)\n",
    "final_rmse_southeast = np.sqrt(final_mse_southeast)\n",
    "final_rmse_southeast\n",
    "\n",
    "# output number is the number of errors\n",
    "# the lower the number the better the model"
   ]
  },
  {
   "cell_type": "code",
   "execution_count": 174,
   "id": "f83b6a1d",
   "metadata": {},
   "outputs": [
    {
     "data": {
      "text/plain": [
       "(0.0, 340.0)"
      ]
     },
     "execution_count": 174,
     "metadata": {},
     "output_type": "execute_result"
    },
    {
     "data": {
      "image/png": "[encoded data removed]",
      "text/plain": [
       "<Figure size 576x432 with 1 Axes>"
      ]
     },
     "metadata": {
      "needs_background": "light"
     },
     "output_type": "display_data"
    }
   ],
   "source": [
    "# Plot\n",
    "fig, ax = plt.subplots(figsize=(8, 6))\n",
    "ax.scatter(y_southeast_test, predictions_southeast2, alpha=0.1, s=50, zorder=2)\n",
    "ax.plot([0,340], [0, 340], color='k', lw=1, zorder=3)\n",
    "ax.set_ylabel('Predicted AirBnB price ($)', fontsize=14)\n",
    "ax.set_xlabel('Observed AirBnB price ($)', fontsize=14)\n",
    "ax.tick_params(axis='both', which='major', labelsize=13)\n",
    "ax.grid(ls='dashed', lw=1, zorder=1)\n",
    "ax.set_ylim(0,340)\n",
    "ax.set_xlim(0,340)"
   ]
  },
  {
   "cell_type": "markdown",
   "id": "e4c46ce5",
   "metadata": {},
   "source": [
    "**end of Southeast district**"
   ]
  },
  {
   "cell_type": "markdown",
   "id": "b84d28a8",
   "metadata": {},
   "source": [
    "# Southwest District"
   ]
  },
  {
   "cell_type": "markdown",
   "id": "861d324e",
   "metadata": {},
   "source": [
    "**Bring in csv of District for regressor**"
   ]
  },
  {
   "cell_type": "code",
   "execution_count": 134,
   "id": "c9838925",
   "metadata": {},
   "outputs": [],
   "source": [
    "# Import data\n",
    "df_southwest = pd.read_csv('C:/Users/clynn/Documents/Geog490-Top/neigh_southwest.csv')"
   ]
  },
  {
   "cell_type": "code",
   "execution_count": 135,
   "id": "534e1fee",
   "metadata": {},
   "outputs": [],
   "source": [
    "# Convert DataFrame to GeoDataFrame\n",
    "gdf_southwest = gpd.GeoDataFrame(df_southwest, geometry=gpd.points_from_xy(df_southwest['longitude'], df_southwest['latitude']))\n",
    "gdf_southwest = gdf_southwest.set_crs(4326, allow_override=True)\n",
    "\n",
    "# Reproject everything to UTM 10N (EPSG:32610)\n",
    "gdf_utm_sw = gdf_southwest.to_crs('EPSG:32610')"
   ]
  },
  {
   "cell_type": "code",
   "execution_count": 136,
   "id": "b40cfc9b",
   "metadata": {},
   "outputs": [],
   "source": [
    "# Define feature list\n",
    "feature_list =  ['bedrooms', 'accommodates', \n",
    "                 'beds', 'calculated_host_listings_count', 'id', 'maximum_nights', 'availability_365', 'review_scores_location', 'review_scores_cleanliness', 'latitude', 'review_scores_accuracy', 'review_scores_rating', 'host_id', 'review_scores_communication', 'review_scores_checkin', 'minimum_nights', 'review_scores_value', 'longitude', 'reviews_per_month', 'number_of_reviews_ltm', 'number_of_reviews']"
   ]
  },
  {
   "cell_type": "markdown",
   "id": "0d49f47b",
   "metadata": {},
   "source": [
    "**Forest Regressor**"
   ]
  },
  {
   "cell_type": "code",
   "execution_count": 137,
   "id": "9e4531ac",
   "metadata": {},
   "outputs": [],
   "source": [
    "# Define features and labels \n",
    "X_southwest = gdf_utm_sw[feature_list]\n",
    "y_southwest = gdf_utm_sw['price']\n",
    "\n",
    "# Standarize data\n",
    "scaler_southwest = StandardScaler()  \n",
    "X_scaled_southwest = scaler_southwest.fit_transform(X_southwest)"
   ]
  },
  {
   "cell_type": "code",
   "execution_count": 138,
   "id": "da49fa02",
   "metadata": {},
   "outputs": [],
   "source": [
    "# Split data \n",
    "X_nosouthwest_train, X_southwest_test, y_southwest_train, y_southwest_test = train_test_split(X_scaled_southwest, y_southwest, test_size=0.2, random_state=42)"
   ]
  },
  {
   "cell_type": "code",
   "execution_count": 139,
   "id": "f5d53009",
   "metadata": {},
   "outputs": [
    {
     "data": {
      "text/plain": [
       "RandomForestRegressor(n_estimators=30)"
      ]
     },
     "execution_count": 139,
     "metadata": {},
     "output_type": "execute_result"
    }
   ],
   "source": [
    "# Define model\n",
    "forest_reg_southwest = RandomForestRegressor(n_estimators = 30)\n",
    "\n",
    "# Fit model\n",
    "forest_reg_southwest.fit(X_north_train, y_north_train)"
   ]
  },
  {
   "cell_type": "markdown",
   "id": "d5755459",
   "metadata": {},
   "source": [
    "### Evaluate the Model"
   ]
  },
  {
   "cell_type": "code",
   "execution_count": 140,
   "id": "46e50532",
   "metadata": {},
   "outputs": [
    {
     "data": {
      "text/plain": [
       "71.43845767717916"
      ]
     },
     "execution_count": 140,
     "metadata": {},
     "output_type": "execute_result"
    }
   ],
   "source": [
    "# Predict test labels predictions\n",
    "predictions_southwest = forest_reg_southwest.predict(X_southwest_test)\n",
    "\n",
    "# Compute mean-squared-error\n",
    "final_mse_southwest = mean_squared_error(y_southwest_test , predictions_southwest)\n",
    "final_rmse_southwest = np.sqrt(final_mse_southwest)\n",
    "final_rmse_southwest\n",
    "\n",
    "# output number is the number of errors\n",
    "# the lower the number the better the model"
   ]
  },
  {
   "cell_type": "markdown",
   "id": "abc481d8",
   "metadata": {},
   "source": [
    "### Plot"
   ]
  },
  {
   "cell_type": "code",
   "execution_count": 141,
   "id": "4eaca554",
   "metadata": {},
   "outputs": [
    {
     "data": {
      "text/plain": [
       "(0.0, 340.0)"
      ]
     },
     "execution_count": 141,
     "metadata": {},
     "output_type": "execute_result"
    },
    {
     "data": {
      "image/png": "[encoded data removed]",
      "text/plain": [
       "<Figure size 576x432 with 1 Axes>"
      ]
     },
     "metadata": {
      "needs_background": "light"
     },
     "output_type": "display_data"
    }
   ],
   "source": [
    "# Plot\n",
    "fig, ax = plt.subplots(figsize=(8, 6))\n",
    "ax.scatter(y_southwest_test, predictions_southwest, alpha=0.1, s=50, zorder=2)\n",
    "ax.plot([0,340], [0, 340], color='k', lw=1, zorder=3)\n",
    "ax.set_ylabel('Predicted AirBnB price ($)', fontsize=14)\n",
    "ax.set_xlabel('Observed AirBnB price ($)', fontsize=14)\n",
    "ax.tick_params(axis='both', which='major', labelsize=13)\n",
    "ax.grid(ls='dashed', lw=1, zorder=1)\n",
    "ax.set_ylim(0,340)\n",
    "ax.set_xlim(0,340)"
   ]
  },
  {
   "cell_type": "code",
   "execution_count": 142,
   "id": "e2dec050",
   "metadata": {},
   "outputs": [],
   "source": [
    "# Rooms per house\n",
    "gdf_utm_sw['rooms_per_bedroom'] = gdf_utm_sw['beds'] / gdf_utm_sw['bedrooms']"
   ]
  },
  {
   "cell_type": "code",
   "execution_count": 143,
   "id": "ded2990c",
   "metadata": {},
   "outputs": [],
   "source": [
    "gdf_utm_sw['accuracy_per_num_reviews'] = gdf_utm_sw['review_scores_accuracy'] / gdf_utm_sw['number_of_reviews_ltm']"
   ]
  },
  {
   "cell_type": "code",
   "execution_count": 144,
   "id": "94cf16ac",
   "metadata": {},
   "outputs": [],
   "source": [
    "gdf_utm_sw['communication_per_num_reviews'] = gdf_utm_sw['review_scores_communication'] / gdf_utm_sw['number_of_reviews_ltm']"
   ]
  },
  {
   "cell_type": "code",
   "execution_count": 145,
   "id": "94ae66b8",
   "metadata": {},
   "outputs": [],
   "source": [
    "gdf_utm_sw['cleanliness_per_num_reviews'] = gdf_utm_sw['review_scores_cleanliness'] / gdf_utm_sw['number_of_reviews_ltm']"
   ]
  },
  {
   "cell_type": "code",
   "execution_count": 146,
   "id": "a3d57c4a",
   "metadata": {},
   "outputs": [],
   "source": [
    "gdf_utm_sw['value_per_num_reviews'] = gdf_utm_sw['review_scores_value'] / gdf_utm_sw['number_of_reviews_ltm']"
   ]
  },
  {
   "cell_type": "code",
   "execution_count": 147,
   "id": "3a2c2aa2",
   "metadata": {},
   "outputs": [],
   "source": [
    "gdf_utm_sw['checkin_per_num_reviews'] = gdf_utm_sw['review_scores_checkin'] / gdf_utm_sw['number_of_reviews_ltm']"
   ]
  },
  {
   "cell_type": "code",
   "execution_count": 148,
   "id": "5f5307f8",
   "metadata": {},
   "outputs": [],
   "source": [
    "gdf_utm_sw['rating_per_num_reviews'] = gdf_utm_sw['review_scores_rating'] / gdf_utm_sw['number_of_reviews_ltm']"
   ]
  },
  {
   "cell_type": "code",
   "execution_count": 149,
   "id": "3ef3e71d",
   "metadata": {},
   "outputs": [],
   "source": [
    "gdf_utm_sw['location_per_num_reviews'] = gdf_utm_sw['review_scores_location'] / gdf_utm_sw['number_of_reviews_ltm']"
   ]
  },
  {
   "cell_type": "code",
   "execution_count": 150,
   "id": "819f89da",
   "metadata": {
    "scrolled": false
   },
   "outputs": [
    {
     "data": {
      "text/plain": [
       "price                             1.000000\n",
       "bedrooms                          0.845089\n",
       "accommodates                      0.824692\n",
       "beds                              0.802497\n",
       "cleanliness_per_num_reviews       0.187846\n",
       "location_per_num_reviews          0.180167\n",
       "accuracy_per_num_reviews          0.178492\n",
       "communication_per_num_reviews     0.178424\n",
       "rating_per_num_reviews            0.178317\n",
       "checkin_per_num_reviews           0.176668\n",
       "value_per_num_reviews             0.175945\n",
       "review_scores_communication       0.113323\n",
       "review_scores_rating              0.112728\n",
       "review_scores_location            0.102262\n",
       "maximum_nights                    0.095518\n",
       "latitude                          0.091240\n",
       "review_scores_accuracy            0.091205\n",
       "review_scores_checkin             0.078503\n",
       "review_scores_cleanliness         0.071389\n",
       "review_scores_value               0.052663\n",
       "rooms_per_bedroom                 0.041258\n",
       "host_id                           0.013486\n",
       "id                                0.001748\n",
       "availability_365                 -0.036957\n",
       "minimum_nights                   -0.044535\n",
       "calculated_host_listings_count   -0.044664\n",
       "longitude                        -0.051097\n",
       "number_of_reviews                -0.116516\n",
       "number_of_reviews_ltm            -0.151050\n",
       "reviews_per_month                -0.160717\n",
       "Name: price, dtype: float64"
      ]
     },
     "execution_count": 150,
     "metadata": {},
     "output_type": "execute_result"
    }
   ],
   "source": [
    "# Compute correlation matrix\n",
    "corr_matrix_southwest = gdf_utm_sw.corr()\n",
    "\n",
    "# Display just house value correlations\n",
    "corr_matrix_southwest[\"price\"].sort_values(ascending= False)"
   ]
  },
  {
   "cell_type": "markdown",
   "id": "952c5ab4",
   "metadata": {},
   "source": [
    "**Check new features**"
   ]
  },
  {
   "cell_type": "code",
   "execution_count": 175,
   "id": "0721f9a6",
   "metadata": {},
   "outputs": [],
   "source": [
    "# Split data \n",
    "X_nosouthwest_train, X_southwest_test, y_southwest_train, y_southwest_test = train_test_split(X_scaled_southwest, y_southwest, test_size=0.2, random_state=42)"
   ]
  },
  {
   "cell_type": "code",
   "execution_count": 176,
   "id": "56b72aae",
   "metadata": {},
   "outputs": [
    {
     "data": {
      "text/plain": [
       "RandomForestRegressor(n_estimators=30)"
      ]
     },
     "execution_count": 176,
     "metadata": {},
     "output_type": "execute_result"
    }
   ],
   "source": [
    "# Define model\n",
    "forest_reg_southwest2 = RandomForestRegressor(n_estimators = 30)\n",
    "\n",
    "# Fit model\n",
    "forest_reg_southwest2.fit(X_north_train, y_north_train)"
   ]
  },
  {
   "cell_type": "code",
   "execution_count": 177,
   "id": "7c723e9a",
   "metadata": {},
   "outputs": [
    {
     "data": {
      "text/plain": [
       "53.14528643810507"
      ]
     },
     "execution_count": 177,
     "metadata": {},
     "output_type": "execute_result"
    }
   ],
   "source": [
    "# Predict test labels predictions\n",
    "predictions_southwest2 = forest_reg_southwest2.predict(X_southwest_test)\n",
    "\n",
    "# Compute mean-squared-error\n",
    "final_mse_southwest = mean_squared_error(y_southwest_test , predictions_southwest2)\n",
    "final_rmse_southwest = np.sqrt(final_mse_southwest)\n",
    "final_rmse_southwest\n",
    "\n",
    "# output number is the number of errors\n",
    "# the lower the number the better the model"
   ]
  },
  {
   "cell_type": "code",
   "execution_count": 178,
   "id": "6629827c",
   "metadata": {},
   "outputs": [
    {
     "data": {
      "text/plain": [
       "(0.0, 340.0)"
      ]
     },
     "execution_count": 178,
     "metadata": {},
     "output_type": "execute_result"
    },
    {
     "data": {
      "image/png": "[encoded data removed]",
      "text/plain": [
       "<Figure size 576x432 with 1 Axes>"
      ]
     },
     "metadata": {
      "needs_background": "light"
     },
     "output_type": "display_data"
    }
   ],
   "source": [
    "# Plot\n",
    "fig, ax = plt.subplots(figsize=(8, 6))\n",
    "ax.scatter(y_southwest_test, predictions_southwest2, alpha=0.1, s=50, zorder=2)\n",
    "ax.plot([0,340], [0, 340], color='k', lw=1, zorder=3)\n",
    "ax.set_ylabel('Predicted AirBnB price ($)', fontsize=14)\n",
    "ax.set_xlabel('Observed AirBnB price ($)', fontsize=14)\n",
    "ax.tick_params(axis='both', which='major', labelsize=13)\n",
    "ax.grid(ls='dashed', lw=1, zorder=1)\n",
    "ax.set_ylim(0,340)\n",
    "ax.set_xlim(0,340)"
   ]
  },
  {
   "cell_type": "markdown",
   "id": "9ce86a5b",
   "metadata": {},
   "source": [
    "**end of Southwest district**"
   ]
  },
  {
   "cell_type": "code",
   "execution_count": null,
   "id": "d52e5a89",
   "metadata": {},
   "outputs": [],
   "source": []
  }
 ],
 "metadata": {
  "kernelspec": {
   "display_name": "Python 3 (ipykernel)",
   "language": "python",
   "name": "python3"
  },
  "language_info": {
   "codemirror_mode": {
    "name": "ipython",
    "version": 3
   },
   "file_extension": ".py",
   "mimetype": "text/x-python",
   "name": "python",
   "nbconvert_exporter": "python",
   "pygments_lexer": "ipython3",
   "version": "3.8.12"
  }
 },
 "nbformat": 4,
 "nbformat_minor": 5
}
