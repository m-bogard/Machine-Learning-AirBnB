{
 "cells": [
  {
   "cell_type": "code",
   "execution_count": 1,
   "id": "c46d0d1d",
   "metadata": {},
   "outputs": [],
   "source": [
    "# Import libraries\n",
    "import pandas as pd\n",
    "import numpy as np\n",
    "import geopandas as gpd\n",
    "import matplotlib.pyplot as plt\n",
    "from shapely.geometry import Point\n",
    "from sklearn.preprocessing import StandardScaler\n",
    "from sklearn.model_selection import train_test_split\n",
    "from sklearn.ensemble import RandomForestRegressor\n",
    "from sklearn.metrics import mean_squared_error"
   ]
  },
  {
   "cell_type": "code",
   "execution_count": 8,
   "id": "9e1ff03c",
   "metadata": {},
   "outputs": [],
   "source": [
    "# Import data\n",
    "df = pd.read_csv('C:\\\\Users\\\\littl\\\\Dropbox (University of Oregon)\\\\listings.csv')"
   ]
  },
  {
   "cell_type": "code",
   "execution_count": 9,
   "id": "93b7c51d",
   "metadata": {},
   "outputs": [
    {
     "data": {
      "text/plain": [
       "id                                3734\n",
       "name                              3734\n",
       "host_id                           3734\n",
       "host_name                         3734\n",
       "neighbourhood_group                  0\n",
       "neighbourhood                     3734\n",
       "latitude                          3734\n",
       "longitude                         3734\n",
       "room_type                         3734\n",
       "price                             3734\n",
       "minimum_nights                    3734\n",
       "number_of_reviews                 3734\n",
       "last_review                       3365\n",
       "reviews_per_month                 3365\n",
       "calculated_host_listings_count    3734\n",
       "availability_365                  3734\n",
       "number_of_reviews_ltm             3734\n",
       "license                           3092\n",
       "dtype: int64"
      ]
     },
     "execution_count": 9,
     "metadata": {},
     "output_type": "execute_result"
    }
   ],
   "source": [
    "df.count()"
   ]
  },
  {
   "cell_type": "code",
   "execution_count": 10,
   "id": "776e2256",
   "metadata": {},
   "outputs": [
    {
     "data": {
      "text/plain": [
       "id                                   0\n",
       "name                                 0\n",
       "host_id                              0\n",
       "host_name                            0\n",
       "neighbourhood_group               3734\n",
       "neighbourhood                        0\n",
       "latitude                             0\n",
       "longitude                            0\n",
       "room_type                            0\n",
       "price                                0\n",
       "minimum_nights                       0\n",
       "number_of_reviews                    0\n",
       "last_review                        369\n",
       "reviews_per_month                  369\n",
       "calculated_host_listings_count       0\n",
       "availability_365                     0\n",
       "number_of_reviews_ltm                0\n",
       "license                            642\n",
       "dtype: int64"
      ]
     },
     "execution_count": 10,
     "metadata": {},
     "output_type": "execute_result"
    }
   ],
   "source": [
    "# Check if there are any null values\n",
    "df.isnull().sum(axis = 0)"
   ]
  },
  {
   "cell_type": "code",
   "execution_count": 11,
   "id": "685a6d03",
   "metadata": {},
   "outputs": [
    {
     "data": {
      "text/plain": [
       "0       1\n",
       "1       2\n",
       "2       1\n",
       "3       1\n",
       "4       2\n",
       "       ..\n",
       "3729    4\n",
       "3730    4\n",
       "3731    3\n",
       "3732    3\n",
       "3733    3\n",
       "Length: 3734, dtype: int64"
      ]
     },
     "execution_count": 11,
     "metadata": {},
     "output_type": "execute_result"
    }
   ],
   "source": [
    "# Check if there are any null values\n",
    "df.isnull().sum(axis = 1)"
   ]
  },
  {
   "cell_type": "code",
   "execution_count": 12,
   "id": "95696ac6",
   "metadata": {},
   "outputs": [],
   "source": [
    "# Convert DataFrame to GeoDataFrame\n",
    "gdf = gpd.GeoDataFrame(df, geometry=gpd.points_from_xy(df['longitude'], df['latitude']))\n",
    "gdf = gdf.set_crs(4326, allow_override=True)\n",
    "\n",
    "# Reproject everything to UTM 10N (EPSG:32610)\n",
    "gdf_utm = gdf.to_crs('EPSG:32610')"
   ]
  },
  {
   "cell_type": "code",
   "execution_count": 13,
   "id": "ec9b9f3a",
   "metadata": {},
   "outputs": [
    {
     "data": {
      "text/plain": [
       "price                             1.000000\n",
       "calculated_host_listings_count    0.243406\n",
       "id                                0.065775\n",
       "availability_365                  0.022898\n",
       "latitude                          0.016137\n",
       "host_id                          -0.000534\n",
       "minimum_nights                   -0.032539\n",
       "longitude                        -0.067791\n",
       "reviews_per_month                -0.117777\n",
       "number_of_reviews_ltm            -0.127049\n",
       "number_of_reviews                -0.129120\n",
       "neighbourhood_group                    NaN\n",
       "Name: price, dtype: float64"
      ]
     },
     "execution_count": 13,
     "metadata": {},
     "output_type": "execute_result"
    }
   ],
   "source": [
    "# Compute correlation matrix\n",
    "corr_matrix = df.corr()\n",
    "\n",
    "# Display just house value correlations\n",
    "corr_matrix[\"price\"].sort_values(ascending= False)"
   ]
  },
  {
   "cell_type": "code",
   "execution_count": null,
   "id": "8c8f5594",
   "metadata": {},
   "outputs": [],
   "source": []
  }
 ],
 "metadata": {
  "kernelspec": {
   "display_name": "Python 3 (ipykernel)",
   "language": "python",
   "name": "python3"
  },
  "language_info": {
   "codemirror_mode": {
    "name": "ipython",
    "version": 3
   },
   "file_extension": ".py",
   "mimetype": "text/x-python",
   "name": "python",
   "nbconvert_exporter": "python",
   "pygments_lexer": "ipython3",
   "version": "3.8.12"
  }
 },
 "nbformat": 4,
 "nbformat_minor": 5
}
