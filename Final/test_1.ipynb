{
 "cells": [
  {
   "cell_type": "code",
   "execution_count": 34,
   "id": "c46d0d1d",
   "metadata": {},
   "outputs": [],
   "source": [
    "# Import libraries\n",
    "import pandas as pd\n",
    "import numpy as np\n",
    "import geopandas as gpd\n",
    "import matplotlib.pyplot as plt\n",
    "from shapely.geometry import Point\n",
    "from sklearn.preprocessing import StandardScaler\n",
    "from sklearn.model_selection import train_test_split\n",
    "from sklearn.ensemble import RandomForestRegressor\n",
    "from sklearn.metrics import mean_squared_error"
   ]
  },
  {
   "cell_type": "code",
   "execution_count": 35,
   "id": "9e1ff03c",
   "metadata": {},
   "outputs": [],
   "source": [
    "# Import data\n",
    "df = pd.read_csv('C:\\\\Users\\\\littl\\\\Dropbox (University of Oregon)\\\\listings_all.csv')"
   ]
  },
  {
   "cell_type": "markdown",
   "id": "86cdbf5c",
   "metadata": {},
   "source": [
    "**Dataframe Information**"
   ]
  },
  {
   "cell_type": "code",
   "execution_count": 36,
   "id": "93b7c51d",
   "metadata": {},
   "outputs": [
    {
     "data": {
      "text/plain": [
       "id                                3734\n",
       "name                              3734\n",
       "host_id                           3734\n",
       "host_name                         3734\n",
       "neighbourhood                     3734\n",
       "latitude                          3734\n",
       "longitude                         3734\n",
       "room_type                         3734\n",
       "price                             3734\n",
       "minimum_nights                    3734\n",
       "number_of_reviews                 3734\n",
       "reviews_per_month                 3365\n",
       "calculated_host_listings_count    3734\n",
       "availability_365                  3734\n",
       "number_of_reviews_ltm             3734\n",
       "review_scores_value               3362\n",
       "review_scores_location            3362\n",
       "review_scores_communication       3362\n",
       "review_scores_checkin             3362\n",
       "review_scores_cleanliness         3362\n",
       "review_scores_accuracy            3362\n",
       "review_scores_rating              3365\n",
       "maximum_nights                    3734\n",
       "beds                              3680\n",
       "bedrooms                          3288\n",
       "bathrooms                         3725\n",
       "accommodates                      3734\n",
       "dtype: int64"
      ]
     },
     "execution_count": 36,
     "metadata": {},
     "output_type": "execute_result"
    }
   ],
   "source": [
    "df.count()"
   ]
  },
  {
   "cell_type": "code",
   "execution_count": 37,
   "id": "776e2256",
   "metadata": {},
   "outputs": [
    {
     "data": {
      "text/plain": [
       "id                                  0\n",
       "name                                0\n",
       "host_id                             0\n",
       "host_name                           0\n",
       "neighbourhood                       0\n",
       "latitude                            0\n",
       "longitude                           0\n",
       "room_type                           0\n",
       "price                               0\n",
       "minimum_nights                      0\n",
       "number_of_reviews                   0\n",
       "reviews_per_month                 369\n",
       "calculated_host_listings_count      0\n",
       "availability_365                    0\n",
       "number_of_reviews_ltm               0\n",
       "review_scores_value               372\n",
       "review_scores_location            372\n",
       "review_scores_communication       372\n",
       "review_scores_checkin             372\n",
       "review_scores_cleanliness         372\n",
       "review_scores_accuracy            372\n",
       "review_scores_rating              369\n",
       "maximum_nights                      0\n",
       "beds                               54\n",
       "bedrooms                          446\n",
       "bathrooms                           9\n",
       "accommodates                        0\n",
       "dtype: int64"
      ]
     },
     "execution_count": 37,
     "metadata": {},
     "output_type": "execute_result"
    }
   ],
   "source": [
    "# Check if there are any null values\n",
    "df.isnull().sum(axis = 0)"
   ]
  },
  {
   "cell_type": "code",
   "execution_count": 38,
   "id": "685a6d03",
   "metadata": {},
   "outputs": [
    {
     "data": {
      "text/plain": [
       "0       0\n",
       "1       0\n",
       "2       0\n",
       "3       1\n",
       "4       0\n",
       "       ..\n",
       "3729    9\n",
       "3730    8\n",
       "3731    8\n",
       "3732    8\n",
       "3733    8\n",
       "Length: 3734, dtype: int64"
      ]
     },
     "execution_count": 38,
     "metadata": {},
     "output_type": "execute_result"
    }
   ],
   "source": [
    "# Check if there are any null values\n",
    "df.isnull().sum(axis = 1)"
   ]
  },
  {
   "cell_type": "markdown",
   "id": "b95d7327",
   "metadata": {},
   "source": [
    "**Convert Dataframe to Geodataframe**"
   ]
  },
  {
   "cell_type": "code",
   "execution_count": 39,
   "id": "2ddd827f",
   "metadata": {},
   "outputs": [],
   "source": [
    "# Convert DataFrame to GeoDataFrame\n",
    "gdf = gpd.GeoDataFrame(df, geometry=gpd.points_from_xy(df['longitude'], df['latitude']))\n",
    "gdf = gdf.set_crs(4326, allow_override=True)\n",
    "\n",
    "# Reproject everything to UTM 10N (EPSG:32610)\n",
    "gdf_utm = gdf.to_crs('EPSG:32610')"
   ]
  },
  {
   "cell_type": "markdown",
   "id": "b4622769",
   "metadata": {},
   "source": [
    "### Correlation Matrix"
   ]
  },
  {
   "cell_type": "code",
   "execution_count": 40,
   "id": "ec9b9f3a",
   "metadata": {},
   "outputs": [
    {
     "data": {
      "text/plain": [
       "price                             1.000000\n",
       "bedrooms                          0.567294\n",
       "accommodates                      0.561563\n",
       "beds                              0.514923\n",
       "calculated_host_listings_count    0.243406\n",
       "id                                0.065775\n",
       "maximum_nights                    0.057474\n",
       "availability_365                  0.022898\n",
       "review_scores_location            0.020752\n",
       "review_scores_cleanliness         0.019260\n",
       "latitude                          0.016137\n",
       "review_scores_accuracy            0.001554\n",
       "review_scores_rating              0.000882\n",
       "host_id                          -0.000534\n",
       "review_scores_communication      -0.003661\n",
       "review_scores_checkin            -0.016518\n",
       "minimum_nights                   -0.032539\n",
       "review_scores_value              -0.038478\n",
       "longitude                        -0.067791\n",
       "reviews_per_month                -0.117777\n",
       "number_of_reviews_ltm            -0.127049\n",
       "number_of_reviews                -0.129120\n",
       "Name: price, dtype: float64"
      ]
     },
     "execution_count": 40,
     "metadata": {},
     "output_type": "execute_result"
    }
   ],
   "source": [
    "# Compute correlation matrix\n",
    "corr_matrix = df.corr()\n",
    "\n",
    "# Display just house value correlations\n",
    "corr_matrix[\"price\"].sort_values(ascending= False)"
   ]
  },
  {
   "cell_type": "code",
   "execution_count": 41,
   "id": "fdbfaf65",
   "metadata": {},
   "outputs": [],
   "source": [
    "null_index = gdf_utm[feature_list].isnull().sum(axis=1)"
   ]
  },
  {
   "cell_type": "code",
   "execution_count": 42,
   "id": "465debdd",
   "metadata": {},
   "outputs": [
    {
     "data": {
      "text/plain": [
       "0        True\n",
       "1        True\n",
       "2        True\n",
       "3       False\n",
       "4        True\n",
       "        ...  \n",
       "3729    False\n",
       "3730    False\n",
       "3731    False\n",
       "3732    False\n",
       "3733    False\n",
       "Length: 3734, dtype: bool"
      ]
     },
     "execution_count": 42,
     "metadata": {},
     "output_type": "execute_result"
    }
   ],
   "source": [
    "null_index == 0\n"
   ]
  },
  {
   "cell_type": "markdown",
   "id": "283c828d",
   "metadata": {},
   "source": [
    "### Get rid of Rows with Null/\"NaN\" values"
   ]
  },
  {
   "cell_type": "code",
   "execution_count": 43,
   "id": "de47b8d8",
   "metadata": {},
   "outputs": [],
   "source": [
    "gdf_utm_nonnull = gdf_utm.loc[null_index == 0, :]"
   ]
  },
  {
   "cell_type": "code",
   "execution_count": 44,
   "id": "9b7a210f",
   "metadata": {},
   "outputs": [
    {
     "data": {
      "text/html": [
       "<div>\n",
       "<style scoped>\n",
       "    .dataframe tbody tr th:only-of-type {\n",
       "        vertical-align: middle;\n",
       "    }\n",
       "\n",
       "    .dataframe tbody tr th {\n",
       "        vertical-align: top;\n",
       "    }\n",
       "\n",
       "    .dataframe thead th {\n",
       "        text-align: right;\n",
       "    }\n",
       "</style>\n",
       "<table border=\"1\" class=\"dataframe\">\n",
       "  <thead>\n",
       "    <tr style=\"text-align: right;\">\n",
       "      <th></th>\n",
       "      <th>id</th>\n",
       "      <th>name</th>\n",
       "      <th>host_id</th>\n",
       "      <th>host_name</th>\n",
       "      <th>neighbourhood</th>\n",
       "      <th>latitude</th>\n",
       "      <th>longitude</th>\n",
       "      <th>room_type</th>\n",
       "      <th>price</th>\n",
       "      <th>minimum_nights</th>\n",
       "      <th>...</th>\n",
       "      <th>review_scores_checkin</th>\n",
       "      <th>review_scores_cleanliness</th>\n",
       "      <th>review_scores_accuracy</th>\n",
       "      <th>review_scores_rating</th>\n",
       "      <th>maximum_nights</th>\n",
       "      <th>beds</th>\n",
       "      <th>bedrooms</th>\n",
       "      <th>bathrooms</th>\n",
       "      <th>accommodates</th>\n",
       "      <th>geometry</th>\n",
       "    </tr>\n",
       "  </thead>\n",
       "  <tbody>\n",
       "    <tr>\n",
       "      <th>0</th>\n",
       "      <td>12899</td>\n",
       "      <td>Alberta Arts 2 bedroom suite, charming 1906 house</td>\n",
       "      <td>49682</td>\n",
       "      <td>Ali And David</td>\n",
       "      <td>Concordia</td>\n",
       "      <td>45.564880</td>\n",
       "      <td>-122.634180</td>\n",
       "      <td>Entire home/apt</td>\n",
       "      <td>89</td>\n",
       "      <td>3</td>\n",
       "      <td>...</td>\n",
       "      <td>4.99</td>\n",
       "      <td>4.98</td>\n",
       "      <td>4.94</td>\n",
       "      <td>4.93</td>\n",
       "      <td>730</td>\n",
       "      <td>2.0</td>\n",
       "      <td>2.0</td>\n",
       "      <td>1</td>\n",
       "      <td>3</td>\n",
       "      <td>POINT (528547.500 5045769.599)</td>\n",
       "    </tr>\n",
       "    <tr>\n",
       "      <th>1</th>\n",
       "      <td>37676</td>\n",
       "      <td>Mt. Hood View in the Pearl District</td>\n",
       "      <td>162158</td>\n",
       "      <td>Paul</td>\n",
       "      <td>Pearl</td>\n",
       "      <td>45.525640</td>\n",
       "      <td>-122.682730</td>\n",
       "      <td>Entire home/apt</td>\n",
       "      <td>140</td>\n",
       "      <td>30</td>\n",
       "      <td>...</td>\n",
       "      <td>4.83</td>\n",
       "      <td>4.86</td>\n",
       "      <td>4.86</td>\n",
       "      <td>4.88</td>\n",
       "      <td>730</td>\n",
       "      <td>1.0</td>\n",
       "      <td>1.0</td>\n",
       "      <td>1</td>\n",
       "      <td>3</td>\n",
       "      <td>POINT (524776.035 5041393.989)</td>\n",
       "    </tr>\n",
       "    <tr>\n",
       "      <th>2</th>\n",
       "      <td>41601</td>\n",
       "      <td>Grandpa's Bunkhouse-Backyard Studio</td>\n",
       "      <td>179045</td>\n",
       "      <td>Jean</td>\n",
       "      <td>Roseway</td>\n",
       "      <td>45.548040</td>\n",
       "      <td>-122.585410</td>\n",
       "      <td>Entire home/apt</td>\n",
       "      <td>129</td>\n",
       "      <td>3</td>\n",
       "      <td>...</td>\n",
       "      <td>4.95</td>\n",
       "      <td>4.90</td>\n",
       "      <td>4.90</td>\n",
       "      <td>4.84</td>\n",
       "      <td>29</td>\n",
       "      <td>1.0</td>\n",
       "      <td>1.0</td>\n",
       "      <td>1</td>\n",
       "      <td>2</td>\n",
       "      <td>POINT (532363.029 5043917.214)</td>\n",
       "    </tr>\n",
       "    <tr>\n",
       "      <th>4</th>\n",
       "      <td>61893</td>\n",
       "      <td>Perfect Portland Place</td>\n",
       "      <td>300391</td>\n",
       "      <td>Matt</td>\n",
       "      <td>Goose Hollow</td>\n",
       "      <td>45.522580</td>\n",
       "      <td>-122.699550</td>\n",
       "      <td>Entire home/apt</td>\n",
       "      <td>104</td>\n",
       "      <td>30</td>\n",
       "      <td>...</td>\n",
       "      <td>4.93</td>\n",
       "      <td>5.00</td>\n",
       "      <td>5.00</td>\n",
       "      <td>5.00</td>\n",
       "      <td>300</td>\n",
       "      <td>1.0</td>\n",
       "      <td>1.0</td>\n",
       "      <td>1</td>\n",
       "      <td>2</td>\n",
       "      <td>POINT (523463.811 5041048.978)</td>\n",
       "    </tr>\n",
       "    <tr>\n",
       "      <th>5</th>\n",
       "      <td>65466</td>\n",
       "      <td>Mt. Tabor Bungalow</td>\n",
       "      <td>170035</td>\n",
       "      <td>Scott</td>\n",
       "      <td>Mt. Tabor</td>\n",
       "      <td>45.505440</td>\n",
       "      <td>-122.610410</td>\n",
       "      <td>Private room</td>\n",
       "      <td>60</td>\n",
       "      <td>2</td>\n",
       "      <td>...</td>\n",
       "      <td>4.97</td>\n",
       "      <td>4.95</td>\n",
       "      <td>4.95</td>\n",
       "      <td>4.92</td>\n",
       "      <td>14</td>\n",
       "      <td>1.0</td>\n",
       "      <td>1.0</td>\n",
       "      <td>1</td>\n",
       "      <td>2</td>\n",
       "      <td>POINT (530434.485 5039174.682)</td>\n",
       "    </tr>\n",
       "    <tr>\n",
       "      <th>...</th>\n",
       "      <td>...</td>\n",
       "      <td>...</td>\n",
       "      <td>...</td>\n",
       "      <td>...</td>\n",
       "      <td>...</td>\n",
       "      <td>...</td>\n",
       "      <td>...</td>\n",
       "      <td>...</td>\n",
       "      <td>...</td>\n",
       "      <td>...</td>\n",
       "      <td>...</td>\n",
       "      <td>...</td>\n",
       "      <td>...</td>\n",
       "      <td>...</td>\n",
       "      <td>...</td>\n",
       "      <td>...</td>\n",
       "      <td>...</td>\n",
       "      <td>...</td>\n",
       "      <td>...</td>\n",
       "      <td>...</td>\n",
       "      <td>...</td>\n",
       "    </tr>\n",
       "    <tr>\n",
       "      <th>3686</th>\n",
       "      <td>53623129</td>\n",
       "      <td>Modern, Upgraded Apartment - fast wifi and par...</td>\n",
       "      <td>409693567</td>\n",
       "      <td>Patrick</td>\n",
       "      <td>Pearl</td>\n",
       "      <td>45.529118</td>\n",
       "      <td>-122.680400</td>\n",
       "      <td>Entire home/apt</td>\n",
       "      <td>233</td>\n",
       "      <td>1</td>\n",
       "      <td>...</td>\n",
       "      <td>2.00</td>\n",
       "      <td>5.00</td>\n",
       "      <td>5.00</td>\n",
       "      <td>4.00</td>\n",
       "      <td>365</td>\n",
       "      <td>2.0</td>\n",
       "      <td>1.0</td>\n",
       "      <td>1</td>\n",
       "      <td>3</td>\n",
       "      <td>POINT (524956.481 5041781.064)</td>\n",
       "    </tr>\n",
       "    <tr>\n",
       "      <th>3690</th>\n",
       "      <td>53631855</td>\n",
       "      <td>Charming guest suite in  Maywood Park</td>\n",
       "      <td>6921798</td>\n",
       "      <td>Meredith</td>\n",
       "      <td>Maywood Park</td>\n",
       "      <td>45.553293</td>\n",
       "      <td>-122.561127</td>\n",
       "      <td>Entire home/apt</td>\n",
       "      <td>64</td>\n",
       "      <td>1</td>\n",
       "      <td>...</td>\n",
       "      <td>5.00</td>\n",
       "      <td>5.00</td>\n",
       "      <td>5.00</td>\n",
       "      <td>5.00</td>\n",
       "      <td>365</td>\n",
       "      <td>1.0</td>\n",
       "      <td>1.0</td>\n",
       "      <td>1</td>\n",
       "      <td>4</td>\n",
       "      <td>POINT (534255.407 5044510.893)</td>\n",
       "    </tr>\n",
       "    <tr>\n",
       "      <th>3691</th>\n",
       "      <td>53644475</td>\n",
       "      <td>Fantastic Forested Retreat, Open Layout, Multi...</td>\n",
       "      <td>62261998</td>\n",
       "      <td>ITrip Vacations</td>\n",
       "      <td>Southwest Hills</td>\n",
       "      <td>45.494583</td>\n",
       "      <td>-122.707945</td>\n",
       "      <td>Entire home/apt</td>\n",
       "      <td>137</td>\n",
       "      <td>3</td>\n",
       "      <td>...</td>\n",
       "      <td>5.00</td>\n",
       "      <td>5.00</td>\n",
       "      <td>5.00</td>\n",
       "      <td>5.00</td>\n",
       "      <td>29</td>\n",
       "      <td>1.0</td>\n",
       "      <td>1.0</td>\n",
       "      <td>1</td>\n",
       "      <td>2</td>\n",
       "      <td>POINT (522819.470 5037936.167)</td>\n",
       "    </tr>\n",
       "    <tr>\n",
       "      <th>3692</th>\n",
       "      <td>53649962</td>\n",
       "      <td>New Modern 3 BR Designer Home in Trendy N Will...</td>\n",
       "      <td>35305959</td>\n",
       "      <td>Byron (Hüga Homes)</td>\n",
       "      <td>Humboldt</td>\n",
       "      <td>45.555253</td>\n",
       "      <td>-122.666736</td>\n",
       "      <td>Entire home/apt</td>\n",
       "      <td>203</td>\n",
       "      <td>2</td>\n",
       "      <td>...</td>\n",
       "      <td>5.00</td>\n",
       "      <td>5.00</td>\n",
       "      <td>5.00</td>\n",
       "      <td>5.00</td>\n",
       "      <td>1125</td>\n",
       "      <td>3.0</td>\n",
       "      <td>3.0</td>\n",
       "      <td>2.5</td>\n",
       "      <td>7</td>\n",
       "      <td>POINT (526011.408 5044688.981)</td>\n",
       "    </tr>\n",
       "    <tr>\n",
       "      <th>3701</th>\n",
       "      <td>53704846</td>\n",
       "      <td>Condo in the heart of Sw Portland</td>\n",
       "      <td>150582690</td>\n",
       "      <td>Shay</td>\n",
       "      <td>South Portland</td>\n",
       "      <td>45.485482</td>\n",
       "      <td>-122.676998</td>\n",
       "      <td>Entire home/apt</td>\n",
       "      <td>180</td>\n",
       "      <td>2</td>\n",
       "      <td>...</td>\n",
       "      <td>5.00</td>\n",
       "      <td>5.00</td>\n",
       "      <td>5.00</td>\n",
       "      <td>5.00</td>\n",
       "      <td>365</td>\n",
       "      <td>2.0</td>\n",
       "      <td>2.0</td>\n",
       "      <td>2.5</td>\n",
       "      <td>4</td>\n",
       "      <td>POINT (525241.564 5036934.327)</td>\n",
       "    </tr>\n",
       "  </tbody>\n",
       "</table>\n",
       "<p>2929 rows × 28 columns</p>\n",
       "</div>"
      ],
      "text/plain": [
       "            id                                               name    host_id  \\\n",
       "0        12899  Alberta Arts 2 bedroom suite, charming 1906 house      49682   \n",
       "1        37676                Mt. Hood View in the Pearl District     162158   \n",
       "2        41601                Grandpa's Bunkhouse-Backyard Studio     179045   \n",
       "4        61893                             Perfect Portland Place     300391   \n",
       "5        65466                                 Mt. Tabor Bungalow     170035   \n",
       "...        ...                                                ...        ...   \n",
       "3686  53623129  Modern, Upgraded Apartment - fast wifi and par...  409693567   \n",
       "3690  53631855              Charming guest suite in  Maywood Park    6921798   \n",
       "3691  53644475  Fantastic Forested Retreat, Open Layout, Multi...   62261998   \n",
       "3692  53649962  New Modern 3 BR Designer Home in Trendy N Will...   35305959   \n",
       "3701  53704846                  Condo in the heart of Sw Portland  150582690   \n",
       "\n",
       "               host_name    neighbourhood   latitude   longitude  \\\n",
       "0          Ali And David        Concordia  45.564880 -122.634180   \n",
       "1                   Paul            Pearl  45.525640 -122.682730   \n",
       "2                   Jean          Roseway  45.548040 -122.585410   \n",
       "4                   Matt     Goose Hollow  45.522580 -122.699550   \n",
       "5                  Scott        Mt. Tabor  45.505440 -122.610410   \n",
       "...                  ...              ...        ...         ...   \n",
       "3686             Patrick            Pearl  45.529118 -122.680400   \n",
       "3690            Meredith     Maywood Park  45.553293 -122.561127   \n",
       "3691     ITrip Vacations  Southwest Hills  45.494583 -122.707945   \n",
       "3692  Byron (Hüga Homes)         Humboldt  45.555253 -122.666736   \n",
       "3701                Shay   South Portland  45.485482 -122.676998   \n",
       "\n",
       "            room_type  price  minimum_nights  ...  review_scores_checkin  \\\n",
       "0     Entire home/apt     89               3  ...                   4.99   \n",
       "1     Entire home/apt    140              30  ...                   4.83   \n",
       "2     Entire home/apt    129               3  ...                   4.95   \n",
       "4     Entire home/apt    104              30  ...                   4.93   \n",
       "5        Private room     60               2  ...                   4.97   \n",
       "...               ...    ...             ...  ...                    ...   \n",
       "3686  Entire home/apt    233               1  ...                   2.00   \n",
       "3690  Entire home/apt     64               1  ...                   5.00   \n",
       "3691  Entire home/apt    137               3  ...                   5.00   \n",
       "3692  Entire home/apt    203               2  ...                   5.00   \n",
       "3701  Entire home/apt    180               2  ...                   5.00   \n",
       "\n",
       "      review_scores_cleanliness  review_scores_accuracy  review_scores_rating  \\\n",
       "0                          4.98                    4.94                  4.93   \n",
       "1                          4.86                    4.86                  4.88   \n",
       "2                          4.90                    4.90                  4.84   \n",
       "4                          5.00                    5.00                  5.00   \n",
       "5                          4.95                    4.95                  4.92   \n",
       "...                         ...                     ...                   ...   \n",
       "3686                       5.00                    5.00                  4.00   \n",
       "3690                       5.00                    5.00                  5.00   \n",
       "3691                       5.00                    5.00                  5.00   \n",
       "3692                       5.00                    5.00                  5.00   \n",
       "3701                       5.00                    5.00                  5.00   \n",
       "\n",
       "      maximum_nights  beds  bedrooms  bathrooms  accommodates  \\\n",
       "0                730   2.0       2.0          1             3   \n",
       "1                730   1.0       1.0          1             3   \n",
       "2                 29   1.0       1.0          1             2   \n",
       "4                300   1.0       1.0          1             2   \n",
       "5                 14   1.0       1.0          1             2   \n",
       "...              ...   ...       ...        ...           ...   \n",
       "3686             365   2.0       1.0          1             3   \n",
       "3690             365   1.0       1.0          1             4   \n",
       "3691              29   1.0       1.0          1             2   \n",
       "3692            1125   3.0       3.0        2.5             7   \n",
       "3701             365   2.0       2.0        2.5             4   \n",
       "\n",
       "                            geometry  \n",
       "0     POINT (528547.500 5045769.599)  \n",
       "1     POINT (524776.035 5041393.989)  \n",
       "2     POINT (532363.029 5043917.214)  \n",
       "4     POINT (523463.811 5041048.978)  \n",
       "5     POINT (530434.485 5039174.682)  \n",
       "...                              ...  \n",
       "3686  POINT (524956.481 5041781.064)  \n",
       "3690  POINT (534255.407 5044510.893)  \n",
       "3691  POINT (522819.470 5037936.167)  \n",
       "3692  POINT (526011.408 5044688.981)  \n",
       "3701  POINT (525241.564 5036934.327)  \n",
       "\n",
       "[2929 rows x 28 columns]"
      ]
     },
     "execution_count": 44,
     "metadata": {},
     "output_type": "execute_result"
    }
   ],
   "source": [
    "gdf_utm_nonnull"
   ]
  },
  {
   "cell_type": "markdown",
   "id": "53586f9f",
   "metadata": {},
   "source": [
    "**Match Neighborhoods to Districts**"
   ]
  },
  {
   "cell_type": "code",
   "execution_count": 32,
   "id": "dc20eb02",
   "metadata": {},
   "outputs": [],
   "source": [
    "# neigh_from = ['Arbor Lodge', 'Boise']\n",
    "# neigh_to = ['North','North',]\n",
    "# neigh_match_table = pd.DataFrame({'neighborhood_from': neigh_from, 'neighborhood_to': neigh_to})"
   ]
  },
  {
   "cell_type": "code",
   "execution_count": 33,
   "id": "4414d7bc",
   "metadata": {},
   "outputs": [
    {
     "data": {
      "text/html": [
       "<div>\n",
       "<style scoped>\n",
       "    .dataframe tbody tr th:only-of-type {\n",
       "        vertical-align: middle;\n",
       "    }\n",
       "\n",
       "    .dataframe tbody tr th {\n",
       "        vertical-align: top;\n",
       "    }\n",
       "\n",
       "    .dataframe thead th {\n",
       "        text-align: right;\n",
       "    }\n",
       "</style>\n",
       "<table border=\"1\" class=\"dataframe\">\n",
       "  <thead>\n",
       "    <tr style=\"text-align: right;\">\n",
       "      <th></th>\n",
       "      <th>neighborhood_from</th>\n",
       "      <th>neighborhood_to</th>\n",
       "    </tr>\n",
       "  </thead>\n",
       "  <tbody>\n",
       "    <tr>\n",
       "      <th>0</th>\n",
       "      <td>Eliot</td>\n",
       "      <td>North</td>\n",
       "    </tr>\n",
       "    <tr>\n",
       "      <th>1</th>\n",
       "      <td>Hillside</td>\n",
       "      <td>Northwest</td>\n",
       "    </tr>\n",
       "  </tbody>\n",
       "</table>\n",
       "</div>"
      ],
      "text/plain": [
       "  neighborhood_from neighborhood_to\n",
       "0             Eliot           North\n",
       "1          Hillside       Northwest"
      ]
     },
     "execution_count": 33,
     "metadata": {},
     "output_type": "execute_result"
    }
   ],
   "source": [
    "# neigh_match_table"
   ]
  },
  {
   "cell_type": "markdown",
   "id": "1f45dd3c",
   "metadata": {},
   "source": [
    "**Forest Regressor**"
   ]
  },
  {
   "cell_type": "code",
   "execution_count": 48,
   "id": "4081c194",
   "metadata": {},
   "outputs": [],
   "source": [
    "# Define feature list\n",
    "feature_list =  ['bedrooms', 'accommodates', \n",
    "                 'beds', 'calculated_host_listings_count', 'id', 'maximum_nights', 'availability_365', 'review_scores_location', 'review_scores_cleanliness', 'latitude', 'review_scores_accuracy', 'review_scores_rating', 'host_id', 'review_scores_communication', 'review_scores_checkin', 'minimum_nights', 'review_scores_value', 'longitude', 'reviews_per_month', 'number_of_reviews_ltm', 'number_of_reviews']\n",
    "\n",
    "# Define features and labels \n",
    "X = gdf_utm_nonnull[feature_list]\n",
    "y = gdf_utm_nonnull['price']\n",
    "\n",
    "# Standarize data\n",
    "scaler = StandardScaler()  \n",
    "X_scaled = scaler.fit_transform(X)"
   ]
  },
  {
   "cell_type": "code",
   "execution_count": 49,
   "id": "86eb67f1",
   "metadata": {},
   "outputs": [],
   "source": [
    "# Split data \n",
    "X_train, X_test, y_train, y_test = train_test_split(X_scaled, y, test_size=0.2, random_state=42)"
   ]
  },
  {
   "cell_type": "code",
   "execution_count": 50,
   "id": "006e78d6",
   "metadata": {},
   "outputs": [
    {
     "data": {
      "text/plain": [
       "RandomForestRegressor(n_estimators=30)"
      ]
     },
     "execution_count": 50,
     "metadata": {},
     "output_type": "execute_result"
    }
   ],
   "source": [
    "# Define model\n",
    "forest_reg = RandomForestRegressor(n_estimators = 30)\n",
    "\n",
    "# Fit model\n",
    "forest_reg.fit(X_train, y_train)"
   ]
  },
  {
   "cell_type": "markdown",
   "id": "f3d904e7",
   "metadata": {},
   "source": [
    "### Evaluate the Model"
   ]
  },
  {
   "cell_type": "code",
   "execution_count": 51,
   "id": "1e18e509",
   "metadata": {},
   "outputs": [
    {
     "data": {
      "text/plain": [
       "71.28170781868747"
      ]
     },
     "execution_count": 51,
     "metadata": {},
     "output_type": "execute_result"
    }
   ],
   "source": [
    "# Predict test labels predictions\n",
    "predictions = forest_reg.predict(X_test)\n",
    "\n",
    "# Compute mean-squared-error\n",
    "final_mse = mean_squared_error(y_test , predictions)\n",
    "final_rmse = np.sqrt(final_mse)\n",
    "final_rmse\n",
    "\n",
    "# output number is the number of errors\n",
    "# the lower the number the better the model"
   ]
  },
  {
   "cell_type": "markdown",
   "id": "1b2fb148",
   "metadata": {},
   "source": [
    "### Plot"
   ]
  },
  {
   "cell_type": "code",
   "execution_count": 56,
   "id": "bc8739f7",
   "metadata": {},
   "outputs": [
    {
     "data": {
      "text/plain": [
       "(0.0, 500.0)"
      ]
     },
     "execution_count": 56,
     "metadata": {},
     "output_type": "execute_result"
    },
    {
     "data": {
      "image/png": "[encoded data removed]",
      "text/plain": [
       "<Figure size 576x432 with 1 Axes>"
      ]
     },
     "metadata": {
      "needs_background": "light"
     },
     "output_type": "display_data"
    }
   ],
   "source": [
    "# Plot\n",
    "fig, ax = plt.subplots(figsize=(8, 6))\n",
    "ax.scatter(y_test, predictions, alpha=0.1, s=50, zorder=2)\n",
    "ax.plot([0,500], [0, 500], color='k', lw=1, zorder=3)\n",
    "ax.set_ylabel('Predicted AirBnB price ($)', fontsize=14)\n",
    "ax.set_xlabel('Observed AirBnB price ($)', fontsize=14)\n",
    "ax.tick_params(axis='both', which='major', labelsize=13)\n",
    "ax.grid(ls='dashed', lw=1, zorder=1)\n",
    "ax.set_ylim(0,500)\n",
    "ax.set_xlim(0,500)"
   ]
  },
  {
   "cell_type": "code",
   "execution_count": null,
   "id": "b56ab6ee",
   "metadata": {},
   "outputs": [],
   "source": []
  }
 ],
 "metadata": {
  "kernelspec": {
   "display_name": "Python 3 (ipykernel)",
   "language": "python",
   "name": "python3"
  },
  "language_info": {
   "codemirror_mode": {
    "name": "ipython",
    "version": 3
   },
   "file_extension": ".py",
   "mimetype": "text/x-python",
   "name": "python",
   "nbconvert_exporter": "python",
   "pygments_lexer": "ipython3",
   "version": "3.8.12"
  }
 },
 "nbformat": 4,
 "nbformat_minor": 5
}
